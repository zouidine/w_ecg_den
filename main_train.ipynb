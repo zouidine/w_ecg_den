{
  "cells": [
    {
      "cell_type": "code",
      "source": [
        "from google.colab import drive\n",
        "drive.mount('/content/drive')"
      ],
      "metadata": {
        "colab": {
          "base_uri": "https://localhost:8080/"
        },
        "id": "VJKSfayTpzet",
        "outputId": "78a2c297-376c-46d4-894e-1cd06e34428b"
      },
      "execution_count": null,
      "outputs": [
        {
          "output_type": "stream",
          "name": "stdout",
          "text": [
            "Mounted at /content/drive\n"
          ]
        }
      ]
    },
    {
      "cell_type": "code",
      "execution_count": null,
      "metadata": {
        "id": "tFkDvzvwO9ZK"
      },
      "outputs": [],
      "source": [
        "!pip install wfdb"
      ]
    },
    {
      "cell_type": "code",
      "execution_count": null,
      "metadata": {
        "id": "Aq-y1DRABZbO"
      },
      "outputs": [],
      "source": [
        "!git clone https://github.com/zouidine/w_ecg_den.git"
      ]
    },
    {
      "cell_type": "code",
      "execution_count": null,
      "metadata": {
        "id": "2c0T2P9dFJTI",
        "colab": {
          "base_uri": "https://localhost:8080/"
        },
        "outputId": "e6db75d7-baa3-4088-be9b-dcdb4448bfff"
      },
      "outputs": [
        {
          "output_type": "stream",
          "name": "stdout",
          "text": [
            "folder:  /content/drive/MyDrive/Colab/ISIVC\n",
            "Getting the Data ready ... \n",
            "=========================================================\n",
            "MIT QT database saved as pickle file\n",
            "=========================================================\n",
            "MIT BIH data noise stress test database (NSTDB) saved as pickle\n",
            "rnd_test shape: (13316,)\n",
            "Dataset ready to use.\n",
            "training ...\n",
            "Adjusting learning rate of group 0 to 1.0000e-03.\n"
          ]
        },
        {
          "output_type": "stream",
          "name": "stderr",
          "text": [
            "\r  0%|          | 0/525 [00:00<?, ?it/s]<ipython-input-7-5462c5b0154b>:27: DeprecationWarning: 'saved_variables' is deprecated; use 'saved_tensors'\n",
            "  matrix_L, matrix_H = ctx.saved_variables\n",
            "100%|██████████| 525/525 [00:23<00:00, 21.94it/s, avg_epoch_loss=3.06e+4, epoch=0]\n"
          ]
        },
        {
          "output_type": "stream",
          "name": "stdout",
          "text": [
            "Adjusting learning rate of group 0 to 1.0000e-03.\n"
          ]
        },
        {
          "output_type": "stream",
          "name": "stderr",
          "text": [
            "100%|██████████| 225/225 [00:04<00:00, 53.23it/s, valid_avg_epoch_loss=8.24e+3, epoch=0]\n"
          ]
        },
        {
          "output_type": "stream",
          "name": "stdout",
          "text": [
            "\n",
            "best loss is updated to  8235.461655815972 at 0 \n",
            "\n"
          ]
        },
        {
          "output_type": "stream",
          "name": "stderr",
          "text": [
            "100%|██████████| 525/525 [00:23<00:00, 22.76it/s, avg_epoch_loss=6.94e+3, epoch=1]\n"
          ]
        },
        {
          "output_type": "stream",
          "name": "stdout",
          "text": [
            "Adjusting learning rate of group 0 to 1.0000e-03.\n"
          ]
        },
        {
          "output_type": "stream",
          "name": "stderr",
          "text": [
            "100%|██████████| 225/225 [00:04<00:00, 53.86it/s, valid_avg_epoch_loss=5.74e+3, epoch=1]\n"
          ]
        },
        {
          "output_type": "stream",
          "name": "stdout",
          "text": [
            "\n",
            "best loss is updated to  5740.982495659722 at 1 \n",
            "\n"
          ]
        },
        {
          "output_type": "stream",
          "name": "stderr",
          "text": [
            "100%|██████████| 525/525 [00:26<00:00, 19.86it/s, avg_epoch_loss=5.48e+3, epoch=2]\n"
          ]
        },
        {
          "output_type": "stream",
          "name": "stdout",
          "text": [
            "Adjusting learning rate of group 0 to 1.0000e-03.\n"
          ]
        },
        {
          "output_type": "stream",
          "name": "stderr",
          "text": [
            "100%|██████████| 225/225 [00:04<00:00, 53.91it/s, valid_avg_epoch_loss=5.03e+3, epoch=2]\n"
          ]
        },
        {
          "output_type": "stream",
          "name": "stdout",
          "text": [
            "\n",
            "best loss is updated to  5027.294578993055 at 2 \n",
            "\n"
          ]
        },
        {
          "output_type": "stream",
          "name": "stderr",
          "text": [
            "100%|██████████| 525/525 [00:22<00:00, 23.20it/s, avg_epoch_loss=5.27e+3, epoch=3]\n"
          ]
        },
        {
          "output_type": "stream",
          "name": "stdout",
          "text": [
            "Adjusting learning rate of group 0 to 1.0000e-03.\n"
          ]
        },
        {
          "output_type": "stream",
          "name": "stderr",
          "text": [
            "100%|██████████| 225/225 [00:03<00:00, 57.32it/s, valid_avg_epoch_loss=5.12e+3, epoch=3]\n",
            "100%|██████████| 525/525 [00:22<00:00, 22.87it/s, avg_epoch_loss=4.52e+3, epoch=4]\n"
          ]
        },
        {
          "output_type": "stream",
          "name": "stdout",
          "text": [
            "Adjusting learning rate of group 0 to 1.0000e-03.\n"
          ]
        },
        {
          "output_type": "stream",
          "name": "stderr",
          "text": [
            "100%|██████████| 225/225 [00:03<00:00, 61.12it/s, valid_avg_epoch_loss=4.3e+3, epoch=4]\n"
          ]
        },
        {
          "output_type": "stream",
          "name": "stdout",
          "text": [
            "\n",
            "best loss is updated to  4299.469332682292 at 4 \n",
            "\n"
          ]
        },
        {
          "output_type": "stream",
          "name": "stderr",
          "text": [
            "100%|██████████| 525/525 [00:23<00:00, 22.35it/s, avg_epoch_loss=4.5e+3, epoch=5]\n"
          ]
        },
        {
          "output_type": "stream",
          "name": "stdout",
          "text": [
            "Adjusting learning rate of group 0 to 1.0000e-03.\n"
          ]
        },
        {
          "output_type": "stream",
          "name": "stderr",
          "text": [
            "100%|██████████| 225/225 [00:03<00:00, 64.49it/s, valid_avg_epoch_loss=4.13e+3, epoch=5]\n"
          ]
        },
        {
          "output_type": "stream",
          "name": "stdout",
          "text": [
            "\n",
            "best loss is updated to  4126.180660807292 at 5 \n",
            "\n"
          ]
        },
        {
          "output_type": "stream",
          "name": "stderr",
          "text": [
            "100%|██████████| 525/525 [00:23<00:00, 22.31it/s, avg_epoch_loss=3.93e+3, epoch=6]\n"
          ]
        },
        {
          "output_type": "stream",
          "name": "stdout",
          "text": [
            "Adjusting learning rate of group 0 to 1.0000e-03.\n"
          ]
        },
        {
          "output_type": "stream",
          "name": "stderr",
          "text": [
            "100%|██████████| 225/225 [00:03<00:00, 64.51it/s, valid_avg_epoch_loss=3.65e+3, epoch=6]\n"
          ]
        },
        {
          "output_type": "stream",
          "name": "stdout",
          "text": [
            "\n",
            "best loss is updated to  3646.0699484592014 at 6 \n",
            "\n"
          ]
        },
        {
          "output_type": "stream",
          "name": "stderr",
          "text": [
            "100%|██████████| 525/525 [00:23<00:00, 22.21it/s, avg_epoch_loss=4.13e+3, epoch=7]\n"
          ]
        },
        {
          "output_type": "stream",
          "name": "stdout",
          "text": [
            "Adjusting learning rate of group 0 to 1.0000e-03.\n"
          ]
        },
        {
          "output_type": "stream",
          "name": "stderr",
          "text": [
            "100%|██████████| 225/225 [00:03<00:00, 60.22it/s, valid_avg_epoch_loss=4.35e+3, epoch=7]\n",
            "100%|██████████| 525/525 [00:24<00:00, 21.84it/s, avg_epoch_loss=3.61e+3, epoch=8]\n"
          ]
        },
        {
          "output_type": "stream",
          "name": "stdout",
          "text": [
            "Adjusting learning rate of group 0 to 1.0000e-03.\n"
          ]
        },
        {
          "output_type": "stream",
          "name": "stderr",
          "text": [
            "100%|██████████| 225/225 [00:03<00:00, 56.93it/s, valid_avg_epoch_loss=3.97e+3, epoch=8]\n",
            "100%|██████████| 525/525 [00:23<00:00, 22.20it/s, avg_epoch_loss=3.75e+3, epoch=9]\n"
          ]
        },
        {
          "output_type": "stream",
          "name": "stdout",
          "text": [
            "Adjusting learning rate of group 0 to 1.0000e-03.\n"
          ]
        },
        {
          "output_type": "stream",
          "name": "stderr",
          "text": [
            "100%|██████████| 225/225 [00:04<00:00, 52.76it/s, valid_avg_epoch_loss=3.58e+3, epoch=9]\n"
          ]
        },
        {
          "output_type": "stream",
          "name": "stdout",
          "text": [
            "\n",
            "best loss is updated to  3577.5521354166667 at 9 \n",
            "\n"
          ]
        },
        {
          "output_type": "stream",
          "name": "stderr",
          "text": [
            "100%|██████████| 525/525 [00:23<00:00, 22.15it/s, avg_epoch_loss=3.52e+3, epoch=10]\n"
          ]
        },
        {
          "output_type": "stream",
          "name": "stdout",
          "text": [
            "Adjusting learning rate of group 0 to 1.0000e-03.\n"
          ]
        },
        {
          "output_type": "stream",
          "name": "stderr",
          "text": [
            "100%|██████████| 225/225 [00:03<00:00, 58.08it/s, valid_avg_epoch_loss=3.87e+3, epoch=10]\n",
            "100%|██████████| 525/525 [00:26<00:00, 19.57it/s, avg_epoch_loss=3.71e+3, epoch=11]\n"
          ]
        },
        {
          "output_type": "stream",
          "name": "stdout",
          "text": [
            "Adjusting learning rate of group 0 to 1.0000e-03.\n"
          ]
        },
        {
          "output_type": "stream",
          "name": "stderr",
          "text": [
            "100%|██████████| 225/225 [00:09<00:00, 23.58it/s, valid_avg_epoch_loss=3.65e+3, epoch=11]\n",
            "100%|██████████| 525/525 [00:25<00:00, 20.85it/s, avg_epoch_loss=3.36e+3, epoch=12]\n"
          ]
        },
        {
          "output_type": "stream",
          "name": "stdout",
          "text": [
            "Adjusting learning rate of group 0 to 1.0000e-03.\n"
          ]
        },
        {
          "output_type": "stream",
          "name": "stderr",
          "text": [
            "100%|██████████| 225/225 [00:03<00:00, 56.81it/s, valid_avg_epoch_loss=3.3e+3, epoch=12]\n"
          ]
        },
        {
          "output_type": "stream",
          "name": "stdout",
          "text": [
            "\n",
            "best loss is updated to  3301.3698426649307 at 12 \n",
            "\n"
          ]
        },
        {
          "output_type": "stream",
          "name": "stderr",
          "text": [
            "100%|██████████| 525/525 [00:23<00:00, 22.11it/s, avg_epoch_loss=3.37e+3, epoch=13]\n"
          ]
        },
        {
          "output_type": "stream",
          "name": "stdout",
          "text": [
            "Adjusting learning rate of group 0 to 1.0000e-03.\n"
          ]
        },
        {
          "output_type": "stream",
          "name": "stderr",
          "text": [
            "100%|██████████| 225/225 [00:04<00:00, 52.23it/s, valid_avg_epoch_loss=3.13e+3, epoch=13]\n"
          ]
        },
        {
          "output_type": "stream",
          "name": "stdout",
          "text": [
            "\n",
            "best loss is updated to  3130.380639105903 at 13 \n",
            "\n"
          ]
        },
        {
          "output_type": "stream",
          "name": "stderr",
          "text": [
            "100%|██████████| 525/525 [00:23<00:00, 22.10it/s, avg_epoch_loss=3.25e+3, epoch=14]\n"
          ]
        },
        {
          "output_type": "stream",
          "name": "stdout",
          "text": [
            "Adjusting learning rate of group 0 to 1.0000e-03.\n"
          ]
        },
        {
          "output_type": "stream",
          "name": "stderr",
          "text": [
            "100%|██████████| 225/225 [00:05<00:00, 43.20it/s, valid_avg_epoch_loss=3.12e+3, epoch=14]\n"
          ]
        },
        {
          "output_type": "stream",
          "name": "stdout",
          "text": [
            "\n",
            "best loss is updated to  3117.506640625 at 14 \n",
            "\n"
          ]
        },
        {
          "output_type": "stream",
          "name": "stderr",
          "text": [
            "100%|██████████| 525/525 [00:24<00:00, 21.84it/s, avg_epoch_loss=3.22e+3, epoch=15]\n"
          ]
        },
        {
          "output_type": "stream",
          "name": "stdout",
          "text": [
            "Adjusting learning rate of group 0 to 1.0000e-03.\n"
          ]
        },
        {
          "output_type": "stream",
          "name": "stderr",
          "text": [
            "100%|██████████| 225/225 [00:03<00:00, 56.48it/s, valid_avg_epoch_loss=3.49e+3, epoch=15]\n",
            "100%|██████████| 525/525 [00:24<00:00, 21.86it/s, avg_epoch_loss=3.34e+3, epoch=16]\n"
          ]
        },
        {
          "output_type": "stream",
          "name": "stdout",
          "text": [
            "Adjusting learning rate of group 0 to 1.0000e-03.\n"
          ]
        },
        {
          "output_type": "stream",
          "name": "stderr",
          "text": [
            "100%|██████████| 225/225 [00:03<00:00, 63.00it/s, valid_avg_epoch_loss=3.33e+3, epoch=16]\n",
            "100%|██████████| 525/525 [00:24<00:00, 21.75it/s, avg_epoch_loss=3.34e+3, epoch=17]\n"
          ]
        },
        {
          "output_type": "stream",
          "name": "stdout",
          "text": [
            "Adjusting learning rate of group 0 to 1.0000e-03.\n"
          ]
        },
        {
          "output_type": "stream",
          "name": "stderr",
          "text": [
            "100%|██████████| 225/225 [00:03<00:00, 62.95it/s, valid_avg_epoch_loss=3.99e+3, epoch=17]\n",
            "100%|██████████| 525/525 [00:24<00:00, 21.82it/s, avg_epoch_loss=3.12e+3, epoch=18]\n"
          ]
        },
        {
          "output_type": "stream",
          "name": "stdout",
          "text": [
            "Adjusting learning rate of group 0 to 1.0000e-03.\n"
          ]
        },
        {
          "output_type": "stream",
          "name": "stderr",
          "text": [
            "100%|██████████| 225/225 [00:03<00:00, 63.11it/s, valid_avg_epoch_loss=3.35e+3, epoch=18]\n",
            "100%|██████████| 525/525 [00:24<00:00, 21.75it/s, avg_epoch_loss=3.06e+3, epoch=19]\n"
          ]
        },
        {
          "output_type": "stream",
          "name": "stdout",
          "text": [
            "Adjusting learning rate of group 0 to 1.0000e-03.\n"
          ]
        },
        {
          "output_type": "stream",
          "name": "stderr",
          "text": [
            "100%|██████████| 225/225 [00:03<00:00, 63.26it/s, valid_avg_epoch_loss=2.88e+3, epoch=19]\n"
          ]
        },
        {
          "output_type": "stream",
          "name": "stdout",
          "text": [
            "\n",
            "best loss is updated to  2879.69301812066 at 19 \n",
            "\n"
          ]
        },
        {
          "output_type": "stream",
          "name": "stderr",
          "text": [
            "100%|██████████| 525/525 [00:23<00:00, 21.93it/s, avg_epoch_loss=3.44e+3, epoch=20]\n"
          ]
        },
        {
          "output_type": "stream",
          "name": "stdout",
          "text": [
            "Adjusting learning rate of group 0 to 1.0000e-03.\n"
          ]
        },
        {
          "output_type": "stream",
          "name": "stderr",
          "text": [
            "100%|██████████| 225/225 [00:03<00:00, 58.37it/s, valid_avg_epoch_loss=2.57e+3, epoch=20]\n"
          ]
        },
        {
          "output_type": "stream",
          "name": "stdout",
          "text": [
            "\n",
            "best loss is updated to  2571.3951977539064 at 20 \n",
            "\n"
          ]
        },
        {
          "output_type": "stream",
          "name": "stderr",
          "text": [
            "100%|██████████| 525/525 [00:23<00:00, 22.08it/s, avg_epoch_loss=2.88e+3, epoch=21]\n"
          ]
        },
        {
          "output_type": "stream",
          "name": "stdout",
          "text": [
            "Adjusting learning rate of group 0 to 1.0000e-03.\n"
          ]
        },
        {
          "output_type": "stream",
          "name": "stderr",
          "text": [
            "100%|██████████| 225/225 [00:04<00:00, 52.34it/s, valid_avg_epoch_loss=2.91e+3, epoch=21]\n",
            "100%|██████████| 525/525 [00:23<00:00, 22.16it/s, avg_epoch_loss=2.69e+3, epoch=22]\n"
          ]
        },
        {
          "output_type": "stream",
          "name": "stdout",
          "text": [
            "Adjusting learning rate of group 0 to 1.0000e-03.\n"
          ]
        },
        {
          "output_type": "stream",
          "name": "stderr",
          "text": [
            "100%|██████████| 225/225 [00:04<00:00, 55.45it/s, valid_avg_epoch_loss=3.2e+3, epoch=22]\n",
            "100%|██████████| 525/525 [00:23<00:00, 22.01it/s, avg_epoch_loss=2.94e+3, epoch=23]\n"
          ]
        },
        {
          "output_type": "stream",
          "name": "stdout",
          "text": [
            "Adjusting learning rate of group 0 to 1.0000e-03.\n"
          ]
        },
        {
          "output_type": "stream",
          "name": "stderr",
          "text": [
            "100%|██████████| 225/225 [00:03<00:00, 60.50it/s, valid_avg_epoch_loss=3.1e+3, epoch=23]\n",
            "100%|██████████| 525/525 [00:23<00:00, 22.03it/s, avg_epoch_loss=2.97e+3, epoch=24]\n"
          ]
        },
        {
          "output_type": "stream",
          "name": "stdout",
          "text": [
            "Adjusting learning rate of group 0 to 1.0000e-03.\n"
          ]
        },
        {
          "output_type": "stream",
          "name": "stderr",
          "text": [
            "100%|██████████| 225/225 [00:03<00:00, 62.90it/s, valid_avg_epoch_loss=2.7e+3, epoch=24]\n",
            "100%|██████████| 525/525 [00:24<00:00, 21.77it/s, avg_epoch_loss=2.99e+3, epoch=25]\n"
          ]
        },
        {
          "output_type": "stream",
          "name": "stdout",
          "text": [
            "Adjusting learning rate of group 0 to 1.0000e-03.\n"
          ]
        },
        {
          "output_type": "stream",
          "name": "stderr",
          "text": [
            "100%|██████████| 225/225 [00:03<00:00, 63.11it/s, valid_avg_epoch_loss=2.75e+3, epoch=25]\n",
            "100%|██████████| 525/525 [00:23<00:00, 21.90it/s, avg_epoch_loss=2.97e+3, epoch=26]\n"
          ]
        },
        {
          "output_type": "stream",
          "name": "stdout",
          "text": [
            "Adjusting learning rate of group 0 to 1.0000e-03.\n"
          ]
        },
        {
          "output_type": "stream",
          "name": "stderr",
          "text": [
            "100%|██████████| 225/225 [00:03<00:00, 63.24it/s, valid_avg_epoch_loss=2.48e+3, epoch=26]\n"
          ]
        },
        {
          "output_type": "stream",
          "name": "stdout",
          "text": [
            "\n",
            "best loss is updated to  2475.701717936198 at 26 \n",
            "\n"
          ]
        },
        {
          "output_type": "stream",
          "name": "stderr",
          "text": [
            "100%|██████████| 525/525 [00:23<00:00, 22.00it/s, avg_epoch_loss=2.63e+3, epoch=27]\n"
          ]
        },
        {
          "output_type": "stream",
          "name": "stdout",
          "text": [
            "Adjusting learning rate of group 0 to 1.0000e-03.\n"
          ]
        },
        {
          "output_type": "stream",
          "name": "stderr",
          "text": [
            "100%|██████████| 225/225 [00:03<00:00, 58.45it/s, valid_avg_epoch_loss=2.6e+3, epoch=27]\n",
            "100%|██████████| 525/525 [00:23<00:00, 22.06it/s, avg_epoch_loss=3.05e+3, epoch=28]\n"
          ]
        },
        {
          "output_type": "stream",
          "name": "stdout",
          "text": [
            "Adjusting learning rate of group 0 to 1.0000e-03.\n"
          ]
        },
        {
          "output_type": "stream",
          "name": "stderr",
          "text": [
            "100%|██████████| 225/225 [00:04<00:00, 53.57it/s, valid_avg_epoch_loss=2.51e+3, epoch=28]\n",
            "100%|██████████| 525/525 [00:23<00:00, 22.09it/s, avg_epoch_loss=3.09e+3, epoch=29]\n"
          ]
        },
        {
          "output_type": "stream",
          "name": "stdout",
          "text": [
            "Adjusting learning rate of group 0 to 1.0000e-03.\n"
          ]
        },
        {
          "output_type": "stream",
          "name": "stderr",
          "text": [
            "100%|██████████| 225/225 [00:04<00:00, 53.51it/s, valid_avg_epoch_loss=2.76e+3, epoch=29]\n",
            "100%|██████████| 525/525 [00:23<00:00, 22.05it/s, avg_epoch_loss=3.1e+3, epoch=30]\n"
          ]
        },
        {
          "output_type": "stream",
          "name": "stdout",
          "text": [
            "Adjusting learning rate of group 0 to 1.0000e-03.\n"
          ]
        },
        {
          "output_type": "stream",
          "name": "stderr",
          "text": [
            "100%|██████████| 225/225 [00:03<00:00, 59.45it/s, valid_avg_epoch_loss=2.77e+3, epoch=30]\n",
            "100%|██████████| 525/525 [00:23<00:00, 21.91it/s, avg_epoch_loss=2.87e+3, epoch=31]\n"
          ]
        },
        {
          "output_type": "stream",
          "name": "stdout",
          "text": [
            "Adjusting learning rate of group 0 to 1.0000e-03.\n"
          ]
        },
        {
          "output_type": "stream",
          "name": "stderr",
          "text": [
            "100%|██████████| 225/225 [00:03<00:00, 63.15it/s, valid_avg_epoch_loss=2.68e+3, epoch=31]\n",
            "100%|██████████| 525/525 [00:24<00:00, 21.78it/s, avg_epoch_loss=2.95e+3, epoch=32]\n"
          ]
        },
        {
          "output_type": "stream",
          "name": "stdout",
          "text": [
            "Adjusting learning rate of group 0 to 1.0000e-03.\n"
          ]
        },
        {
          "output_type": "stream",
          "name": "stderr",
          "text": [
            "100%|██████████| 225/225 [00:03<00:00, 63.31it/s, valid_avg_epoch_loss=2.94e+3, epoch=32]\n",
            "100%|██████████| 525/525 [00:24<00:00, 21.80it/s, avg_epoch_loss=2.83e+3, epoch=33]\n"
          ]
        },
        {
          "output_type": "stream",
          "name": "stdout",
          "text": [
            "Adjusting learning rate of group 0 to 1.0000e-03.\n"
          ]
        },
        {
          "output_type": "stream",
          "name": "stderr",
          "text": [
            "100%|██████████| 225/225 [00:03<00:00, 62.68it/s, valid_avg_epoch_loss=3.03e+3, epoch=33]\n",
            "100%|██████████| 525/525 [00:23<00:00, 21.88it/s, avg_epoch_loss=2.82e+3, epoch=34]\n"
          ]
        },
        {
          "output_type": "stream",
          "name": "stdout",
          "text": [
            "Adjusting learning rate of group 0 to 1.0000e-03.\n"
          ]
        },
        {
          "output_type": "stream",
          "name": "stderr",
          "text": [
            "100%|██████████| 225/225 [00:03<00:00, 61.82it/s, valid_avg_epoch_loss=3.39e+3, epoch=34]\n",
            "100%|██████████| 525/525 [00:23<00:00, 22.06it/s, avg_epoch_loss=2.84e+3, epoch=35]\n"
          ]
        },
        {
          "output_type": "stream",
          "name": "stdout",
          "text": [
            "Adjusting learning rate of group 0 to 1.0000e-03.\n"
          ]
        },
        {
          "output_type": "stream",
          "name": "stderr",
          "text": [
            "100%|██████████| 225/225 [00:04<00:00, 54.18it/s, valid_avg_epoch_loss=2.71e+3, epoch=35]\n",
            "100%|██████████| 525/525 [00:24<00:00, 21.63it/s, avg_epoch_loss=2.62e+3, epoch=36]\n"
          ]
        },
        {
          "output_type": "stream",
          "name": "stdout",
          "text": [
            "Adjusting learning rate of group 0 to 1.0000e-03.\n"
          ]
        },
        {
          "output_type": "stream",
          "name": "stderr",
          "text": [
            "100%|██████████| 225/225 [00:04<00:00, 52.38it/s, valid_avg_epoch_loss=3.27e+3, epoch=36]\n",
            "100%|██████████| 525/525 [00:23<00:00, 22.12it/s, avg_epoch_loss=2.8e+3, epoch=37]\n"
          ]
        },
        {
          "output_type": "stream",
          "name": "stdout",
          "text": [
            "Adjusting learning rate of group 0 to 1.0000e-03.\n"
          ]
        },
        {
          "output_type": "stream",
          "name": "stderr",
          "text": [
            "100%|██████████| 225/225 [00:04<00:00, 55.57it/s, valid_avg_epoch_loss=3.22e+3, epoch=37]\n",
            "100%|██████████| 525/525 [00:24<00:00, 21.79it/s, avg_epoch_loss=2.61e+3, epoch=38]\n"
          ]
        },
        {
          "output_type": "stream",
          "name": "stdout",
          "text": [
            "Adjusting learning rate of group 0 to 1.0000e-03.\n"
          ]
        },
        {
          "output_type": "stream",
          "name": "stderr",
          "text": [
            "100%|██████████| 225/225 [00:03<00:00, 59.51it/s, valid_avg_epoch_loss=2.73e+3, epoch=38]\n",
            "100%|██████████| 525/525 [00:24<00:00, 21.70it/s, avg_epoch_loss=2.73e+3, epoch=39]\n"
          ]
        },
        {
          "output_type": "stream",
          "name": "stdout",
          "text": [
            "Adjusting learning rate of group 0 to 1.0000e-03.\n"
          ]
        },
        {
          "output_type": "stream",
          "name": "stderr",
          "text": [
            "100%|██████████| 225/225 [00:03<00:00, 62.93it/s, valid_avg_epoch_loss=3.87e+3, epoch=39]\n",
            "100%|██████████| 525/525 [00:24<00:00, 21.76it/s, avg_epoch_loss=2.87e+3, epoch=40]\n"
          ]
        },
        {
          "output_type": "stream",
          "name": "stdout",
          "text": [
            "Adjusting learning rate of group 0 to 1.0000e-03.\n"
          ]
        },
        {
          "output_type": "stream",
          "name": "stderr",
          "text": [
            "100%|██████████| 225/225 [00:03<00:00, 63.02it/s, valid_avg_epoch_loss=2.71e+3, epoch=40]\n",
            "100%|██████████| 525/525 [00:24<00:00, 21.77it/s, avg_epoch_loss=2.72e+3, epoch=41]\n"
          ]
        },
        {
          "output_type": "stream",
          "name": "stdout",
          "text": [
            "Adjusting learning rate of group 0 to 1.0000e-03.\n"
          ]
        },
        {
          "output_type": "stream",
          "name": "stderr",
          "text": [
            "100%|██████████| 225/225 [00:03<00:00, 63.26it/s, valid_avg_epoch_loss=2.94e+3, epoch=41]\n",
            "100%|██████████| 525/525 [00:24<00:00, 21.75it/s, avg_epoch_loss=2.93e+3, epoch=42]\n"
          ]
        },
        {
          "output_type": "stream",
          "name": "stdout",
          "text": [
            "Adjusting learning rate of group 0 to 1.0000e-03.\n"
          ]
        },
        {
          "output_type": "stream",
          "name": "stderr",
          "text": [
            "100%|██████████| 225/225 [00:03<00:00, 61.36it/s, valid_avg_epoch_loss=2.46e+3, epoch=42]\n"
          ]
        },
        {
          "output_type": "stream",
          "name": "stdout",
          "text": [
            "\n",
            "best loss is updated to  2457.3399400499134 at 42 \n",
            "\n"
          ]
        },
        {
          "output_type": "stream",
          "name": "stderr",
          "text": [
            "100%|██████████| 525/525 [00:23<00:00, 22.09it/s, avg_epoch_loss=2.67e+3, epoch=43]\n"
          ]
        },
        {
          "output_type": "stream",
          "name": "stdout",
          "text": [
            "Adjusting learning rate of group 0 to 1.0000e-03.\n"
          ]
        },
        {
          "output_type": "stream",
          "name": "stderr",
          "text": [
            "100%|██████████| 225/225 [00:04<00:00, 55.19it/s, valid_avg_epoch_loss=2.75e+3, epoch=43]\n",
            "100%|██████████| 525/525 [00:23<00:00, 22.11it/s, avg_epoch_loss=2.68e+3, epoch=44]\n"
          ]
        },
        {
          "output_type": "stream",
          "name": "stdout",
          "text": [
            "Adjusting learning rate of group 0 to 1.0000e-03.\n"
          ]
        },
        {
          "output_type": "stream",
          "name": "stderr",
          "text": [
            "100%|██████████| 225/225 [00:04<00:00, 52.94it/s, valid_avg_epoch_loss=3e+3, epoch=44]\n",
            "100%|██████████| 525/525 [00:23<00:00, 21.99it/s, avg_epoch_loss=2.34e+3, epoch=45]\n"
          ]
        },
        {
          "output_type": "stream",
          "name": "stdout",
          "text": [
            "Adjusting learning rate of group 0 to 1.0000e-03.\n"
          ]
        },
        {
          "output_type": "stream",
          "name": "stderr",
          "text": [
            "100%|██████████| 225/225 [00:03<00:00, 57.71it/s, valid_avg_epoch_loss=2.33e+3, epoch=45]\n"
          ]
        },
        {
          "output_type": "stream",
          "name": "stdout",
          "text": [
            "\n",
            "best loss is updated to  2331.4881350368923 at 45 \n",
            "\n"
          ]
        },
        {
          "output_type": "stream",
          "name": "stderr",
          "text": [
            "100%|██████████| 525/525 [00:23<00:00, 21.89it/s, avg_epoch_loss=2.56e+3, epoch=46]\n"
          ]
        },
        {
          "output_type": "stream",
          "name": "stdout",
          "text": [
            "Adjusting learning rate of group 0 to 1.0000e-03.\n"
          ]
        },
        {
          "output_type": "stream",
          "name": "stderr",
          "text": [
            "100%|██████████| 225/225 [00:03<00:00, 63.31it/s, valid_avg_epoch_loss=3.07e+3, epoch=46]\n",
            "100%|██████████| 525/525 [00:24<00:00, 21.73it/s, avg_epoch_loss=2.88e+3, epoch=47]\n"
          ]
        },
        {
          "output_type": "stream",
          "name": "stdout",
          "text": [
            "Adjusting learning rate of group 0 to 1.0000e-03.\n"
          ]
        },
        {
          "output_type": "stream",
          "name": "stderr",
          "text": [
            "100%|██████████| 225/225 [00:03<00:00, 62.57it/s, valid_avg_epoch_loss=2.77e+3, epoch=47]\n",
            "100%|██████████| 525/525 [00:24<00:00, 21.71it/s, avg_epoch_loss=2.79e+3, epoch=48]\n"
          ]
        },
        {
          "output_type": "stream",
          "name": "stdout",
          "text": [
            "Adjusting learning rate of group 0 to 1.0000e-03.\n"
          ]
        },
        {
          "output_type": "stream",
          "name": "stderr",
          "text": [
            "100%|██████████| 225/225 [00:03<00:00, 62.85it/s, valid_avg_epoch_loss=2.97e+3, epoch=48]\n",
            "100%|██████████| 525/525 [00:24<00:00, 21.80it/s, avg_epoch_loss=2.47e+3, epoch=49]\n"
          ]
        },
        {
          "output_type": "stream",
          "name": "stdout",
          "text": [
            "Adjusting learning rate of group 0 to 1.0000e-03.\n"
          ]
        },
        {
          "output_type": "stream",
          "name": "stderr",
          "text": [
            "100%|██████████| 225/225 [00:03<00:00, 61.74it/s, valid_avg_epoch_loss=2.58e+3, epoch=49]\n",
            "100%|██████████| 525/525 [00:23<00:00, 21.89it/s, avg_epoch_loss=2.83e+3, epoch=50]\n"
          ]
        },
        {
          "output_type": "stream",
          "name": "stdout",
          "text": [
            "Adjusting learning rate of group 0 to 1.0000e-03.\n"
          ]
        },
        {
          "output_type": "stream",
          "name": "stderr",
          "text": [
            "100%|██████████| 225/225 [00:03<00:00, 56.85it/s, valid_avg_epoch_loss=2.55e+3, epoch=50]\n",
            "100%|██████████| 525/525 [00:23<00:00, 21.96it/s, avg_epoch_loss=2.78e+3, epoch=51]\n"
          ]
        },
        {
          "output_type": "stream",
          "name": "stdout",
          "text": [
            "Adjusting learning rate of group 0 to 1.0000e-03.\n"
          ]
        },
        {
          "output_type": "stream",
          "name": "stderr",
          "text": [
            "100%|██████████| 225/225 [00:04<00:00, 52.41it/s, valid_avg_epoch_loss=2.99e+3, epoch=51]\n",
            "100%|██████████| 525/525 [00:23<00:00, 22.03it/s, avg_epoch_loss=2.54e+3, epoch=52]\n"
          ]
        },
        {
          "output_type": "stream",
          "name": "stdout",
          "text": [
            "Adjusting learning rate of group 0 to 1.0000e-03.\n"
          ]
        },
        {
          "output_type": "stream",
          "name": "stderr",
          "text": [
            "100%|██████████| 225/225 [00:04<00:00, 52.36it/s, valid_avg_epoch_loss=2.37e+3, epoch=52]\n",
            "100%|██████████| 525/525 [00:24<00:00, 21.84it/s, avg_epoch_loss=2.78e+3, epoch=53]\n"
          ]
        },
        {
          "output_type": "stream",
          "name": "stdout",
          "text": [
            "Adjusting learning rate of group 0 to 1.0000e-03.\n"
          ]
        },
        {
          "output_type": "stream",
          "name": "stderr",
          "text": [
            "100%|██████████| 225/225 [00:03<00:00, 58.89it/s, valid_avg_epoch_loss=2.23e+3, epoch=53]\n"
          ]
        },
        {
          "output_type": "stream",
          "name": "stdout",
          "text": [
            "\n",
            "best loss is updated to  2233.182413736979 at 53 \n",
            "\n"
          ]
        },
        {
          "output_type": "stream",
          "name": "stderr",
          "text": [
            "100%|██████████| 525/525 [00:24<00:00, 21.80it/s, avg_epoch_loss=2.49e+3, epoch=54]\n"
          ]
        },
        {
          "output_type": "stream",
          "name": "stdout",
          "text": [
            "Adjusting learning rate of group 0 to 1.0000e-03.\n"
          ]
        },
        {
          "output_type": "stream",
          "name": "stderr",
          "text": [
            "100%|██████████| 225/225 [00:03<00:00, 62.04it/s, valid_avg_epoch_loss=2.88e+3, epoch=54]\n",
            "100%|██████████| 525/525 [00:24<00:00, 21.65it/s, avg_epoch_loss=2.45e+3, epoch=55]\n"
          ]
        },
        {
          "output_type": "stream",
          "name": "stdout",
          "text": [
            "Adjusting learning rate of group 0 to 1.0000e-03.\n"
          ]
        },
        {
          "output_type": "stream",
          "name": "stderr",
          "text": [
            "100%|██████████| 225/225 [00:03<00:00, 63.13it/s, valid_avg_epoch_loss=2.53e+3, epoch=55]\n",
            "100%|██████████| 525/525 [00:24<00:00, 21.69it/s, avg_epoch_loss=2.35e+3, epoch=56]\n"
          ]
        },
        {
          "output_type": "stream",
          "name": "stdout",
          "text": [
            "Adjusting learning rate of group 0 to 1.0000e-03.\n"
          ]
        },
        {
          "output_type": "stream",
          "name": "stderr",
          "text": [
            "100%|██████████| 225/225 [00:03<00:00, 62.78it/s, valid_avg_epoch_loss=2.2e+3, epoch=56]\n"
          ]
        },
        {
          "output_type": "stream",
          "name": "stdout",
          "text": [
            "\n",
            "best loss is updated to  2195.3822848849827 at 56 \n",
            "\n"
          ]
        },
        {
          "output_type": "stream",
          "name": "stderr",
          "text": [
            "100%|██████████| 525/525 [00:24<00:00, 21.79it/s, avg_epoch_loss=2.42e+3, epoch=57]\n"
          ]
        },
        {
          "output_type": "stream",
          "name": "stdout",
          "text": [
            "Adjusting learning rate of group 0 to 1.0000e-03.\n"
          ]
        },
        {
          "output_type": "stream",
          "name": "stderr",
          "text": [
            "100%|██████████| 225/225 [00:03<00:00, 60.18it/s, valid_avg_epoch_loss=2.47e+3, epoch=57]\n",
            "100%|██████████| 525/525 [00:23<00:00, 21.96it/s, avg_epoch_loss=2.56e+3, epoch=58]\n"
          ]
        },
        {
          "output_type": "stream",
          "name": "stdout",
          "text": [
            "Adjusting learning rate of group 0 to 1.0000e-03.\n"
          ]
        },
        {
          "output_type": "stream",
          "name": "stderr",
          "text": [
            "100%|██████████| 225/225 [00:04<00:00, 54.69it/s, valid_avg_epoch_loss=2.83e+3, epoch=58]\n",
            "100%|██████████| 525/525 [00:23<00:00, 21.97it/s, avg_epoch_loss=2.99e+3, epoch=59]\n"
          ]
        },
        {
          "output_type": "stream",
          "name": "stdout",
          "text": [
            "Adjusting learning rate of group 0 to 1.0000e-03.\n"
          ]
        },
        {
          "output_type": "stream",
          "name": "stderr",
          "text": [
            "100%|██████████| 225/225 [00:04<00:00, 52.73it/s, valid_avg_epoch_loss=3.65e+3, epoch=59]\n",
            "100%|██████████| 525/525 [00:23<00:00, 21.98it/s, avg_epoch_loss=2.32e+3, epoch=60]\n"
          ]
        },
        {
          "output_type": "stream",
          "name": "stdout",
          "text": [
            "Adjusting learning rate of group 0 to 1.0000e-03.\n"
          ]
        },
        {
          "output_type": "stream",
          "name": "stderr",
          "text": [
            "100%|██████████| 225/225 [00:03<00:00, 57.47it/s, valid_avg_epoch_loss=2.45e+3, epoch=60]\n",
            "100%|██████████| 525/525 [00:24<00:00, 21.69it/s, avg_epoch_loss=2.84e+3, epoch=61]\n"
          ]
        },
        {
          "output_type": "stream",
          "name": "stdout",
          "text": [
            "Adjusting learning rate of group 0 to 1.0000e-03.\n"
          ]
        },
        {
          "output_type": "stream",
          "name": "stderr",
          "text": [
            "100%|██████████| 225/225 [00:03<00:00, 62.23it/s, valid_avg_epoch_loss=2.81e+3, epoch=61]\n",
            "100%|██████████| 525/525 [00:24<00:00, 21.71it/s, avg_epoch_loss=2.61e+3, epoch=62]\n"
          ]
        },
        {
          "output_type": "stream",
          "name": "stdout",
          "text": [
            "Adjusting learning rate of group 0 to 1.0000e-03.\n"
          ]
        },
        {
          "output_type": "stream",
          "name": "stderr",
          "text": [
            "100%|██████████| 225/225 [00:03<00:00, 62.72it/s, valid_avg_epoch_loss=2.19e+3, epoch=62]\n"
          ]
        },
        {
          "output_type": "stream",
          "name": "stdout",
          "text": [
            "\n",
            "best loss is updated to  2189.4784535047743 at 62 \n",
            "\n"
          ]
        },
        {
          "output_type": "stream",
          "name": "stderr",
          "text": [
            "100%|██████████| 525/525 [00:24<00:00, 21.62it/s, avg_epoch_loss=2.83e+3, epoch=63]\n"
          ]
        },
        {
          "output_type": "stream",
          "name": "stdout",
          "text": [
            "Adjusting learning rate of group 0 to 1.0000e-03.\n"
          ]
        },
        {
          "output_type": "stream",
          "name": "stderr",
          "text": [
            "100%|██████████| 225/225 [00:03<00:00, 61.64it/s, valid_avg_epoch_loss=2.09e+3, epoch=63]\n"
          ]
        },
        {
          "output_type": "stream",
          "name": "stdout",
          "text": [
            "\n",
            "best loss is updated to  2088.9574858940973 at 63 \n",
            "\n"
          ]
        },
        {
          "output_type": "stream",
          "name": "stderr",
          "text": [
            "100%|██████████| 525/525 [00:24<00:00, 21.01it/s, avg_epoch_loss=2.53e+3, epoch=64]\n"
          ]
        },
        {
          "output_type": "stream",
          "name": "stdout",
          "text": [
            "Adjusting learning rate of group 0 to 1.0000e-03.\n"
          ]
        },
        {
          "output_type": "stream",
          "name": "stderr",
          "text": [
            "100%|██████████| 225/225 [00:04<00:00, 53.16it/s, valid_avg_epoch_loss=2.33e+3, epoch=64]\n",
            "100%|██████████| 525/525 [00:23<00:00, 22.02it/s, avg_epoch_loss=2.41e+3, epoch=65]\n"
          ]
        },
        {
          "output_type": "stream",
          "name": "stdout",
          "text": [
            "Adjusting learning rate of group 0 to 1.0000e-03.\n"
          ]
        },
        {
          "output_type": "stream",
          "name": "stderr",
          "text": [
            "100%|██████████| 225/225 [00:04<00:00, 53.78it/s, valid_avg_epoch_loss=2.05e+3, epoch=65]\n"
          ]
        },
        {
          "output_type": "stream",
          "name": "stdout",
          "text": [
            "\n",
            "best loss is updated to  2052.740802951389 at 65 \n",
            "\n"
          ]
        },
        {
          "output_type": "stream",
          "name": "stderr",
          "text": [
            "100%|██████████| 525/525 [00:23<00:00, 21.95it/s, avg_epoch_loss=2.53e+3, epoch=66]\n"
          ]
        },
        {
          "output_type": "stream",
          "name": "stdout",
          "text": [
            "Adjusting learning rate of group 0 to 1.0000e-03.\n"
          ]
        },
        {
          "output_type": "stream",
          "name": "stderr",
          "text": [
            "100%|██████████| 225/225 [00:03<00:00, 59.04it/s, valid_avg_epoch_loss=2.23e+3, epoch=66]\n",
            "100%|██████████| 525/525 [00:24<00:00, 21.72it/s, avg_epoch_loss=2.59e+3, epoch=67]\n"
          ]
        },
        {
          "output_type": "stream",
          "name": "stdout",
          "text": [
            "Adjusting learning rate of group 0 to 1.0000e-03.\n"
          ]
        },
        {
          "output_type": "stream",
          "name": "stderr",
          "text": [
            "100%|██████████| 225/225 [00:03<00:00, 60.78it/s, valid_avg_epoch_loss=2.19e+3, epoch=67]\n",
            "100%|██████████| 525/525 [00:24<00:00, 21.64it/s, avg_epoch_loss=2.51e+3, epoch=68]\n"
          ]
        },
        {
          "output_type": "stream",
          "name": "stdout",
          "text": [
            "Adjusting learning rate of group 0 to 1.0000e-03.\n"
          ]
        },
        {
          "output_type": "stream",
          "name": "stderr",
          "text": [
            "100%|██████████| 225/225 [00:03<00:00, 62.38it/s, valid_avg_epoch_loss=2.07e+3, epoch=68]\n",
            "100%|██████████| 525/525 [00:24<00:00, 21.57it/s, avg_epoch_loss=2.59e+3, epoch=69]\n"
          ]
        },
        {
          "output_type": "stream",
          "name": "stdout",
          "text": [
            "Adjusting learning rate of group 0 to 1.0000e-03.\n"
          ]
        },
        {
          "output_type": "stream",
          "name": "stderr",
          "text": [
            "100%|██████████| 225/225 [00:03<00:00, 62.47it/s, valid_avg_epoch_loss=3.22e+3, epoch=69]\n",
            "100%|██████████| 525/525 [00:24<00:00, 21.69it/s, avg_epoch_loss=2.45e+3, epoch=70]\n"
          ]
        },
        {
          "output_type": "stream",
          "name": "stdout",
          "text": [
            "Adjusting learning rate of group 0 to 1.0000e-03.\n"
          ]
        },
        {
          "output_type": "stream",
          "name": "stderr",
          "text": [
            "100%|██████████| 225/225 [00:03<00:00, 62.38it/s, valid_avg_epoch_loss=2.22e+3, epoch=70]\n",
            "100%|██████████| 525/525 [00:24<00:00, 21.72it/s, avg_epoch_loss=2.44e+3, epoch=71]\n"
          ]
        },
        {
          "output_type": "stream",
          "name": "stdout",
          "text": [
            "Adjusting learning rate of group 0 to 1.0000e-03.\n"
          ]
        },
        {
          "output_type": "stream",
          "name": "stderr",
          "text": [
            "100%|██████████| 225/225 [00:04<00:00, 55.11it/s, valid_avg_epoch_loss=2.84e+3, epoch=71]\n",
            "100%|██████████| 525/525 [00:24<00:00, 21.84it/s, avg_epoch_loss=2.68e+3, epoch=72]\n"
          ]
        },
        {
          "output_type": "stream",
          "name": "stdout",
          "text": [
            "Adjusting learning rate of group 0 to 1.0000e-03.\n"
          ]
        },
        {
          "output_type": "stream",
          "name": "stderr",
          "text": [
            "100%|██████████| 225/225 [00:04<00:00, 51.34it/s, valid_avg_epoch_loss=2.98e+3, epoch=72]\n",
            "100%|██████████| 525/525 [00:23<00:00, 21.96it/s, avg_epoch_loss=2.43e+3, epoch=73]\n"
          ]
        },
        {
          "output_type": "stream",
          "name": "stdout",
          "text": [
            "Adjusting learning rate of group 0 to 1.0000e-03.\n"
          ]
        },
        {
          "output_type": "stream",
          "name": "stderr",
          "text": [
            "100%|██████████| 225/225 [00:04<00:00, 53.68it/s, valid_avg_epoch_loss=2.55e+3, epoch=73]\n",
            "100%|██████████| 525/525 [00:24<00:00, 21.87it/s, avg_epoch_loss=2.64e+3, epoch=74]\n"
          ]
        },
        {
          "output_type": "stream",
          "name": "stdout",
          "text": [
            "Adjusting learning rate of group 0 to 1.0000e-03.\n"
          ]
        },
        {
          "output_type": "stream",
          "name": "stderr",
          "text": [
            "100%|██████████| 225/225 [00:03<00:00, 60.32it/s, valid_avg_epoch_loss=2.09e+3, epoch=74]\n",
            "100%|██████████| 525/525 [00:24<00:00, 21.72it/s, avg_epoch_loss=2.18e+3, epoch=75]\n"
          ]
        },
        {
          "output_type": "stream",
          "name": "stdout",
          "text": [
            "Adjusting learning rate of group 0 to 1.0000e-03.\n"
          ]
        },
        {
          "output_type": "stream",
          "name": "stderr",
          "text": [
            "100%|██████████| 225/225 [00:03<00:00, 62.26it/s, valid_avg_epoch_loss=2.43e+3, epoch=75]\n",
            "100%|██████████| 525/525 [00:24<00:00, 21.59it/s, avg_epoch_loss=2.55e+3, epoch=76]\n"
          ]
        },
        {
          "output_type": "stream",
          "name": "stdout",
          "text": [
            "Adjusting learning rate of group 0 to 1.0000e-03.\n"
          ]
        },
        {
          "output_type": "stream",
          "name": "stderr",
          "text": [
            "100%|██████████| 225/225 [00:03<00:00, 61.56it/s, valid_avg_epoch_loss=2.06e+3, epoch=76]\n",
            "100%|██████████| 525/525 [00:24<00:00, 21.58it/s, avg_epoch_loss=2.21e+3, epoch=77]\n"
          ]
        },
        {
          "output_type": "stream",
          "name": "stdout",
          "text": [
            "Adjusting learning rate of group 0 to 1.0000e-03.\n"
          ]
        },
        {
          "output_type": "stream",
          "name": "stderr",
          "text": [
            "100%|██████████| 225/225 [00:03<00:00, 61.99it/s, valid_avg_epoch_loss=2.34e+3, epoch=77]\n",
            "100%|██████████| 525/525 [00:24<00:00, 21.64it/s, avg_epoch_loss=2.34e+3, epoch=78]\n"
          ]
        },
        {
          "output_type": "stream",
          "name": "stdout",
          "text": [
            "Adjusting learning rate of group 0 to 1.0000e-03.\n"
          ]
        },
        {
          "output_type": "stream",
          "name": "stderr",
          "text": [
            "100%|██████████| 225/225 [00:03<00:00, 59.32it/s, valid_avg_epoch_loss=2.51e+3, epoch=78]\n",
            "100%|██████████| 525/525 [00:24<00:00, 21.73it/s, avg_epoch_loss=2.29e+3, epoch=79]\n"
          ]
        },
        {
          "output_type": "stream",
          "name": "stdout",
          "text": [
            "Adjusting learning rate of group 0 to 1.0000e-03.\n"
          ]
        },
        {
          "output_type": "stream",
          "name": "stderr",
          "text": [
            "100%|██████████| 225/225 [00:04<00:00, 54.08it/s, valid_avg_epoch_loss=2.49e+3, epoch=79]\n",
            "100%|██████████| 525/525 [00:23<00:00, 21.96it/s, avg_epoch_loss=2.22e+3, epoch=80]\n"
          ]
        },
        {
          "output_type": "stream",
          "name": "stdout",
          "text": [
            "Adjusting learning rate of group 0 to 1.0000e-03.\n"
          ]
        },
        {
          "output_type": "stream",
          "name": "stderr",
          "text": [
            "100%|██████████| 225/225 [00:04<00:00, 51.93it/s, valid_avg_epoch_loss=2.46e+3, epoch=80]\n",
            "100%|██████████| 525/525 [00:24<00:00, 21.83it/s, avg_epoch_loss=2.2e+3, epoch=81]\n"
          ]
        },
        {
          "output_type": "stream",
          "name": "stdout",
          "text": [
            "Adjusting learning rate of group 0 to 1.0000e-03.\n"
          ]
        },
        {
          "output_type": "stream",
          "name": "stderr",
          "text": [
            "100%|██████████| 225/225 [00:04<00:00, 55.10it/s, valid_avg_epoch_loss=2.79e+3, epoch=81]\n",
            "100%|██████████| 525/525 [00:24<00:00, 21.64it/s, avg_epoch_loss=2.49e+3, epoch=82]\n"
          ]
        },
        {
          "output_type": "stream",
          "name": "stdout",
          "text": [
            "Adjusting learning rate of group 0 to 1.0000e-03.\n"
          ]
        },
        {
          "output_type": "stream",
          "name": "stderr",
          "text": [
            "100%|██████████| 225/225 [00:03<00:00, 60.20it/s, valid_avg_epoch_loss=2.33e+3, epoch=82]\n",
            "100%|██████████| 525/525 [00:24<00:00, 21.52it/s, avg_epoch_loss=2.31e+3, epoch=83]\n"
          ]
        },
        {
          "output_type": "stream",
          "name": "stdout",
          "text": [
            "Adjusting learning rate of group 0 to 1.0000e-03.\n"
          ]
        },
        {
          "output_type": "stream",
          "name": "stderr",
          "text": [
            "100%|██████████| 225/225 [00:03<00:00, 62.33it/s, valid_avg_epoch_loss=2.52e+3, epoch=83]\n",
            "100%|██████████| 525/525 [00:24<00:00, 21.59it/s, avg_epoch_loss=2.48e+3, epoch=84]\n"
          ]
        },
        {
          "output_type": "stream",
          "name": "stdout",
          "text": [
            "Adjusting learning rate of group 0 to 1.0000e-03.\n"
          ]
        },
        {
          "output_type": "stream",
          "name": "stderr",
          "text": [
            "100%|██████████| 225/225 [00:03<00:00, 61.52it/s, valid_avg_epoch_loss=2.32e+3, epoch=84]\n",
            "100%|██████████| 525/525 [00:24<00:00, 21.52it/s, avg_epoch_loss=2.65e+3, epoch=85]\n"
          ]
        },
        {
          "output_type": "stream",
          "name": "stdout",
          "text": [
            "Adjusting learning rate of group 0 to 1.0000e-03.\n"
          ]
        },
        {
          "output_type": "stream",
          "name": "stderr",
          "text": [
            "100%|██████████| 225/225 [00:03<00:00, 61.39it/s, valid_avg_epoch_loss=2.89e+3, epoch=85]\n",
            "100%|██████████| 525/525 [00:24<00:00, 21.66it/s, avg_epoch_loss=2.28e+3, epoch=86]\n"
          ]
        },
        {
          "output_type": "stream",
          "name": "stdout",
          "text": [
            "Adjusting learning rate of group 0 to 1.0000e-03.\n"
          ]
        },
        {
          "output_type": "stream",
          "name": "stderr",
          "text": [
            "100%|██████████| 225/225 [00:03<00:00, 56.83it/s, valid_avg_epoch_loss=2.19e+3, epoch=86]\n",
            "100%|██████████| 525/525 [00:24<00:00, 21.78it/s, avg_epoch_loss=2.42e+3, epoch=87]\n"
          ]
        },
        {
          "output_type": "stream",
          "name": "stdout",
          "text": [
            "Adjusting learning rate of group 0 to 1.0000e-03.\n"
          ]
        },
        {
          "output_type": "stream",
          "name": "stderr",
          "text": [
            "100%|██████████| 225/225 [00:04<00:00, 52.58it/s, valid_avg_epoch_loss=2.27e+3, epoch=87]\n",
            "100%|██████████| 525/525 [00:23<00:00, 21.96it/s, avg_epoch_loss=2.36e+3, epoch=88]\n"
          ]
        },
        {
          "output_type": "stream",
          "name": "stdout",
          "text": [
            "Adjusting learning rate of group 0 to 1.0000e-03.\n"
          ]
        },
        {
          "output_type": "stream",
          "name": "stderr",
          "text": [
            "100%|██████████| 225/225 [00:04<00:00, 51.15it/s, valid_avg_epoch_loss=2.54e+3, epoch=88]\n",
            "100%|██████████| 525/525 [00:24<00:00, 21.85it/s, avg_epoch_loss=2.31e+3, epoch=89]\n"
          ]
        },
        {
          "output_type": "stream",
          "name": "stdout",
          "text": [
            "Adjusting learning rate of group 0 to 1.0000e-03.\n"
          ]
        },
        {
          "output_type": "stream",
          "name": "stderr",
          "text": [
            "100%|██████████| 225/225 [00:04<00:00, 55.21it/s, valid_avg_epoch_loss=1.97e+3, epoch=89]\n"
          ]
        },
        {
          "output_type": "stream",
          "name": "stdout",
          "text": [
            "\n",
            "best loss is updated to  1974.3616696506076 at 89 \n",
            "\n"
          ]
        },
        {
          "output_type": "stream",
          "name": "stderr",
          "text": [
            "100%|██████████| 525/525 [00:24<00:00, 21.03it/s, avg_epoch_loss=2.31e+3, epoch=90]\n"
          ]
        },
        {
          "output_type": "stream",
          "name": "stdout",
          "text": [
            "Adjusting learning rate of group 0 to 1.0000e-03.\n"
          ]
        },
        {
          "output_type": "stream",
          "name": "stderr",
          "text": [
            "100%|██████████| 225/225 [00:03<00:00, 57.10it/s, valid_avg_epoch_loss=1.77e+3, epoch=90]\n"
          ]
        },
        {
          "output_type": "stream",
          "name": "stdout",
          "text": [
            "\n",
            "best loss is updated to  1772.318948296441 at 90 \n",
            "\n"
          ]
        },
        {
          "output_type": "stream",
          "name": "stderr",
          "text": [
            "100%|██████████| 525/525 [00:25<00:00, 20.45it/s, avg_epoch_loss=2.43e+3, epoch=91]\n"
          ]
        },
        {
          "output_type": "stream",
          "name": "stdout",
          "text": [
            "Adjusting learning rate of group 0 to 1.0000e-03.\n"
          ]
        },
        {
          "output_type": "stream",
          "name": "stderr",
          "text": [
            "100%|██████████| 225/225 [00:03<00:00, 60.68it/s, valid_avg_epoch_loss=2.69e+3, epoch=91]\n",
            "100%|██████████| 525/525 [00:24<00:00, 21.57it/s, avg_epoch_loss=2.26e+3, epoch=92]\n"
          ]
        },
        {
          "output_type": "stream",
          "name": "stdout",
          "text": [
            "Adjusting learning rate of group 0 to 1.0000e-03.\n"
          ]
        },
        {
          "output_type": "stream",
          "name": "stderr",
          "text": [
            "100%|██████████| 225/225 [00:03<00:00, 62.25it/s, valid_avg_epoch_loss=1.99e+3, epoch=92]\n",
            "100%|██████████| 525/525 [00:24<00:00, 21.57it/s, avg_epoch_loss=2.31e+3, epoch=93]\n"
          ]
        },
        {
          "output_type": "stream",
          "name": "stdout",
          "text": [
            "Adjusting learning rate of group 0 to 1.0000e-03.\n"
          ]
        },
        {
          "output_type": "stream",
          "name": "stderr",
          "text": [
            "100%|██████████| 225/225 [00:03<00:00, 60.84it/s, valid_avg_epoch_loss=3.06e+3, epoch=93]\n",
            "100%|██████████| 525/525 [00:24<00:00, 21.64it/s, avg_epoch_loss=2.45e+3, epoch=94]\n"
          ]
        },
        {
          "output_type": "stream",
          "name": "stdout",
          "text": [
            "Adjusting learning rate of group 0 to 1.0000e-03.\n"
          ]
        },
        {
          "output_type": "stream",
          "name": "stderr",
          "text": [
            "100%|██████████| 225/225 [00:03<00:00, 56.93it/s, valid_avg_epoch_loss=2.33e+3, epoch=94]\n",
            "100%|██████████| 525/525 [00:24<00:00, 21.87it/s, avg_epoch_loss=2.25e+3, epoch=95]\n"
          ]
        },
        {
          "output_type": "stream",
          "name": "stdout",
          "text": [
            "Adjusting learning rate of group 0 to 1.0000e-03.\n"
          ]
        },
        {
          "output_type": "stream",
          "name": "stderr",
          "text": [
            "100%|██████████| 225/225 [00:04<00:00, 52.31it/s, valid_avg_epoch_loss=2.33e+3, epoch=95]\n",
            "100%|██████████| 525/525 [00:23<00:00, 21.93it/s, avg_epoch_loss=2.48e+3, epoch=96]\n"
          ]
        },
        {
          "output_type": "stream",
          "name": "stdout",
          "text": [
            "Adjusting learning rate of group 0 to 1.0000e-03.\n"
          ]
        },
        {
          "output_type": "stream",
          "name": "stderr",
          "text": [
            "100%|██████████| 225/225 [00:04<00:00, 53.77it/s, valid_avg_epoch_loss=2.25e+3, epoch=96]\n",
            "100%|██████████| 525/525 [00:24<00:00, 21.62it/s, avg_epoch_loss=2.21e+3, epoch=97]\n"
          ]
        },
        {
          "output_type": "stream",
          "name": "stdout",
          "text": [
            "Adjusting learning rate of group 0 to 1.0000e-03.\n"
          ]
        },
        {
          "output_type": "stream",
          "name": "stderr",
          "text": [
            "100%|██████████| 225/225 [00:03<00:00, 57.85it/s, valid_avg_epoch_loss=2e+3, epoch=97]\n",
            "100%|██████████| 525/525 [00:24<00:00, 21.63it/s, avg_epoch_loss=2.19e+3, epoch=98]\n"
          ]
        },
        {
          "output_type": "stream",
          "name": "stdout",
          "text": [
            "Adjusting learning rate of group 0 to 1.0000e-03.\n"
          ]
        },
        {
          "output_type": "stream",
          "name": "stderr",
          "text": [
            "100%|██████████| 225/225 [00:03<00:00, 60.69it/s, valid_avg_epoch_loss=2.09e+3, epoch=98]\n",
            "100%|██████████| 525/525 [00:24<00:00, 21.65it/s, avg_epoch_loss=2.7e+3, epoch=99]\n"
          ]
        },
        {
          "output_type": "stream",
          "name": "stdout",
          "text": [
            "Adjusting learning rate of group 0 to 1.0000e-03.\n"
          ]
        },
        {
          "output_type": "stream",
          "name": "stderr",
          "text": [
            "100%|██████████| 225/225 [00:03<00:00, 60.85it/s, valid_avg_epoch_loss=2.75e+3, epoch=99]\n",
            "100%|██████████| 525/525 [00:24<00:00, 21.53it/s, avg_epoch_loss=2.44e+3, epoch=100]\n"
          ]
        },
        {
          "output_type": "stream",
          "name": "stdout",
          "text": [
            "Adjusting learning rate of group 0 to 1.0000e-03.\n"
          ]
        },
        {
          "output_type": "stream",
          "name": "stderr",
          "text": [
            "100%|██████████| 225/225 [00:03<00:00, 61.66it/s, valid_avg_epoch_loss=1.9e+3, epoch=100]\n",
            "100%|██████████| 525/525 [00:24<00:00, 21.57it/s, avg_epoch_loss=2.29e+3, epoch=101]\n"
          ]
        },
        {
          "output_type": "stream",
          "name": "stdout",
          "text": [
            "Adjusting learning rate of group 0 to 1.0000e-03.\n"
          ]
        },
        {
          "output_type": "stream",
          "name": "stderr",
          "text": [
            "100%|██████████| 225/225 [00:03<00:00, 61.28it/s, valid_avg_epoch_loss=2.09e+3, epoch=101]\n",
            "100%|██████████| 525/525 [00:24<00:00, 21.71it/s, avg_epoch_loss=2.58e+3, epoch=102]\n"
          ]
        },
        {
          "output_type": "stream",
          "name": "stdout",
          "text": [
            "Adjusting learning rate of group 0 to 1.0000e-03.\n"
          ]
        },
        {
          "output_type": "stream",
          "name": "stderr",
          "text": [
            "100%|██████████| 225/225 [00:04<00:00, 56.07it/s, valid_avg_epoch_loss=2.95e+3, epoch=102]\n",
            "100%|██████████| 525/525 [00:24<00:00, 21.81it/s, avg_epoch_loss=2.47e+3, epoch=103]\n"
          ]
        },
        {
          "output_type": "stream",
          "name": "stdout",
          "text": [
            "Adjusting learning rate of group 0 to 1.0000e-03.\n"
          ]
        },
        {
          "output_type": "stream",
          "name": "stderr",
          "text": [
            "100%|██████████| 225/225 [00:04<00:00, 52.25it/s, valid_avg_epoch_loss=2.81e+3, epoch=103]\n",
            "100%|██████████| 525/525 [00:24<00:00, 21.81it/s, avg_epoch_loss=2.22e+3, epoch=104]\n"
          ]
        },
        {
          "output_type": "stream",
          "name": "stdout",
          "text": [
            "Adjusting learning rate of group 0 to 1.0000e-03.\n"
          ]
        },
        {
          "output_type": "stream",
          "name": "stderr",
          "text": [
            "100%|██████████| 225/225 [00:04<00:00, 53.12it/s, valid_avg_epoch_loss=1.91e+3, epoch=104]\n",
            "100%|██████████| 525/525 [00:24<00:00, 21.77it/s, avg_epoch_loss=2.29e+3, epoch=105]\n"
          ]
        },
        {
          "output_type": "stream",
          "name": "stdout",
          "text": [
            "Adjusting learning rate of group 0 to 1.0000e-03.\n"
          ]
        },
        {
          "output_type": "stream",
          "name": "stderr",
          "text": [
            "100%|██████████| 225/225 [00:03<00:00, 57.83it/s, valid_avg_epoch_loss=2.36e+3, epoch=105]\n",
            "100%|██████████| 525/525 [00:24<00:00, 21.56it/s, avg_epoch_loss=2.35e+3, epoch=106]\n"
          ]
        },
        {
          "output_type": "stream",
          "name": "stdout",
          "text": [
            "Adjusting learning rate of group 0 to 1.0000e-03.\n"
          ]
        },
        {
          "output_type": "stream",
          "name": "stderr",
          "text": [
            "100%|██████████| 225/225 [00:03<00:00, 61.15it/s, valid_avg_epoch_loss=2.22e+3, epoch=106]\n",
            "100%|██████████| 525/525 [00:24<00:00, 21.42it/s, avg_epoch_loss=2.52e+3, epoch=107]\n"
          ]
        },
        {
          "output_type": "stream",
          "name": "stdout",
          "text": [
            "Adjusting learning rate of group 0 to 1.0000e-03.\n"
          ]
        },
        {
          "output_type": "stream",
          "name": "stderr",
          "text": [
            "100%|██████████| 225/225 [00:03<00:00, 61.13it/s, valid_avg_epoch_loss=2.11e+3, epoch=107]\n",
            "100%|██████████| 525/525 [00:24<00:00, 21.56it/s, avg_epoch_loss=2.52e+3, epoch=108]\n"
          ]
        },
        {
          "output_type": "stream",
          "name": "stdout",
          "text": [
            "Adjusting learning rate of group 0 to 1.0000e-03.\n"
          ]
        },
        {
          "output_type": "stream",
          "name": "stderr",
          "text": [
            "100%|██████████| 225/225 [00:03<00:00, 61.22it/s, valid_avg_epoch_loss=2.69e+3, epoch=108]\n",
            "100%|██████████| 525/525 [00:24<00:00, 21.64it/s, avg_epoch_loss=2.66e+3, epoch=109]\n"
          ]
        },
        {
          "output_type": "stream",
          "name": "stdout",
          "text": [
            "Adjusting learning rate of group 0 to 1.0000e-03.\n"
          ]
        },
        {
          "output_type": "stream",
          "name": "stderr",
          "text": [
            "100%|██████████| 225/225 [00:03<00:00, 60.40it/s, valid_avg_epoch_loss=2.86e+3, epoch=109]\n",
            "100%|██████████| 525/525 [00:24<00:00, 21.74it/s, avg_epoch_loss=2.38e+3, epoch=110]\n"
          ]
        },
        {
          "output_type": "stream",
          "name": "stdout",
          "text": [
            "Adjusting learning rate of group 0 to 1.0000e-03.\n"
          ]
        },
        {
          "output_type": "stream",
          "name": "stderr",
          "text": [
            "100%|██████████| 225/225 [00:04<00:00, 55.15it/s, valid_avg_epoch_loss=2.22e+3, epoch=110]\n",
            "100%|██████████| 525/525 [00:24<00:00, 21.83it/s, avg_epoch_loss=2.3e+3, epoch=111]\n"
          ]
        },
        {
          "output_type": "stream",
          "name": "stdout",
          "text": [
            "Adjusting learning rate of group 0 to 1.0000e-03.\n"
          ]
        },
        {
          "output_type": "stream",
          "name": "stderr",
          "text": [
            "100%|██████████| 225/225 [00:04<00:00, 51.84it/s, valid_avg_epoch_loss=2.75e+3, epoch=111]\n",
            "100%|██████████| 525/525 [00:23<00:00, 21.95it/s, avg_epoch_loss=2.7e+3, epoch=112]\n"
          ]
        },
        {
          "output_type": "stream",
          "name": "stdout",
          "text": [
            "Adjusting learning rate of group 0 to 1.0000e-03.\n"
          ]
        },
        {
          "output_type": "stream",
          "name": "stderr",
          "text": [
            "100%|██████████| 225/225 [00:04<00:00, 54.54it/s, valid_avg_epoch_loss=2.61e+3, epoch=112]\n",
            "100%|██████████| 525/525 [00:24<00:00, 21.84it/s, avg_epoch_loss=2.45e+3, epoch=113]\n"
          ]
        },
        {
          "output_type": "stream",
          "name": "stdout",
          "text": [
            "Adjusting learning rate of group 0 to 1.0000e-03.\n"
          ]
        },
        {
          "output_type": "stream",
          "name": "stderr",
          "text": [
            "100%|██████████| 225/225 [00:03<00:00, 60.39it/s, valid_avg_epoch_loss=2.3e+3, epoch=113]\n",
            "100%|██████████| 525/525 [00:24<00:00, 21.74it/s, avg_epoch_loss=2.06e+3, epoch=114]\n"
          ]
        },
        {
          "output_type": "stream",
          "name": "stdout",
          "text": [
            "Adjusting learning rate of group 0 to 1.0000e-03.\n"
          ]
        },
        {
          "output_type": "stream",
          "name": "stderr",
          "text": [
            "100%|██████████| 225/225 [00:03<00:00, 61.33it/s, valid_avg_epoch_loss=1.95e+3, epoch=114]\n",
            "100%|██████████| 525/525 [00:24<00:00, 21.64it/s, avg_epoch_loss=2.23e+3, epoch=115]\n"
          ]
        },
        {
          "output_type": "stream",
          "name": "stdout",
          "text": [
            "Adjusting learning rate of group 0 to 1.0000e-03.\n"
          ]
        },
        {
          "output_type": "stream",
          "name": "stderr",
          "text": [
            "100%|██████████| 225/225 [00:03<00:00, 61.18it/s, valid_avg_epoch_loss=2.19e+3, epoch=115]\n",
            "100%|██████████| 525/525 [00:24<00:00, 21.57it/s, avg_epoch_loss=2.39e+3, epoch=116]\n"
          ]
        },
        {
          "output_type": "stream",
          "name": "stdout",
          "text": [
            "Adjusting learning rate of group 0 to 1.0000e-03.\n"
          ]
        },
        {
          "output_type": "stream",
          "name": "stderr",
          "text": [
            "100%|██████████| 225/225 [00:03<00:00, 61.46it/s, valid_avg_epoch_loss=2.38e+3, epoch=116]\n",
            "100%|██████████| 525/525 [00:24<00:00, 21.42it/s, avg_epoch_loss=2.4e+3, epoch=117]\n"
          ]
        },
        {
          "output_type": "stream",
          "name": "stdout",
          "text": [
            "Adjusting learning rate of group 0 to 1.0000e-03.\n"
          ]
        },
        {
          "output_type": "stream",
          "name": "stderr",
          "text": [
            "100%|██████████| 225/225 [00:04<00:00, 50.70it/s, valid_avg_epoch_loss=2.36e+3, epoch=117]\n",
            "100%|██████████| 525/525 [00:24<00:00, 21.73it/s, avg_epoch_loss=2.39e+3, epoch=118]\n"
          ]
        },
        {
          "output_type": "stream",
          "name": "stdout",
          "text": [
            "Adjusting learning rate of group 0 to 1.0000e-03.\n"
          ]
        },
        {
          "output_type": "stream",
          "name": "stderr",
          "text": [
            "100%|██████████| 225/225 [00:03<00:00, 60.50it/s, valid_avg_epoch_loss=2.43e+3, epoch=118]\n",
            "100%|██████████| 525/525 [00:24<00:00, 21.50it/s, avg_epoch_loss=2.16e+3, epoch=119]\n"
          ]
        },
        {
          "output_type": "stream",
          "name": "stdout",
          "text": [
            "Adjusting learning rate of group 0 to 1.0000e-03.\n"
          ]
        },
        {
          "output_type": "stream",
          "name": "stderr",
          "text": [
            "100%|██████████| 225/225 [00:03<00:00, 61.33it/s, valid_avg_epoch_loss=2.57e+3, epoch=119]\n",
            "100%|██████████| 525/525 [00:24<00:00, 21.67it/s, avg_epoch_loss=2.46e+3, epoch=120]\n"
          ]
        },
        {
          "output_type": "stream",
          "name": "stdout",
          "text": [
            "Adjusting learning rate of group 0 to 1.0000e-03.\n"
          ]
        },
        {
          "output_type": "stream",
          "name": "stderr",
          "text": [
            "100%|██████████| 225/225 [00:03<00:00, 60.79it/s, valid_avg_epoch_loss=2.33e+3, epoch=120]\n",
            "100%|██████████| 525/525 [00:24<00:00, 21.56it/s, avg_epoch_loss=2.54e+3, epoch=121]\n"
          ]
        },
        {
          "output_type": "stream",
          "name": "stdout",
          "text": [
            "Adjusting learning rate of group 0 to 1.0000e-03.\n"
          ]
        },
        {
          "output_type": "stream",
          "name": "stderr",
          "text": [
            "100%|██████████| 225/225 [00:03<00:00, 60.31it/s, valid_avg_epoch_loss=2.21e+3, epoch=121]\n",
            "100%|██████████| 525/525 [00:24<00:00, 21.60it/s, avg_epoch_loss=2.4e+3, epoch=122]\n"
          ]
        },
        {
          "output_type": "stream",
          "name": "stdout",
          "text": [
            "Adjusting learning rate of group 0 to 1.0000e-03.\n"
          ]
        },
        {
          "output_type": "stream",
          "name": "stderr",
          "text": [
            "100%|██████████| 225/225 [00:03<00:00, 57.82it/s, valid_avg_epoch_loss=1.81e+3, epoch=122]\n",
            "100%|██████████| 525/525 [00:24<00:00, 21.86it/s, avg_epoch_loss=2.25e+3, epoch=123]\n"
          ]
        },
        {
          "output_type": "stream",
          "name": "stdout",
          "text": [
            "Adjusting learning rate of group 0 to 1.0000e-03.\n"
          ]
        },
        {
          "output_type": "stream",
          "name": "stderr",
          "text": [
            "100%|██████████| 225/225 [00:04<00:00, 53.38it/s, valid_avg_epoch_loss=2.66e+3, epoch=123]\n",
            "100%|██████████| 525/525 [00:23<00:00, 21.89it/s, avg_epoch_loss=2.31e+3, epoch=124]\n"
          ]
        },
        {
          "output_type": "stream",
          "name": "stdout",
          "text": [
            "Adjusting learning rate of group 0 to 1.0000e-03.\n"
          ]
        },
        {
          "output_type": "stream",
          "name": "stderr",
          "text": [
            "100%|██████████| 225/225 [00:04<00:00, 52.16it/s, valid_avg_epoch_loss=2.4e+3, epoch=124]\n",
            "100%|██████████| 525/525 [00:24<00:00, 21.82it/s, avg_epoch_loss=2.37e+3, epoch=125]\n"
          ]
        },
        {
          "output_type": "stream",
          "name": "stdout",
          "text": [
            "Adjusting learning rate of group 0 to 1.0000e-03.\n"
          ]
        },
        {
          "output_type": "stream",
          "name": "stderr",
          "text": [
            "100%|██████████| 225/225 [00:03<00:00, 56.38it/s, valid_avg_epoch_loss=2.47e+3, epoch=125]\n",
            "100%|██████████| 525/525 [00:24<00:00, 21.71it/s, avg_epoch_loss=2.17e+3, epoch=126]\n"
          ]
        },
        {
          "output_type": "stream",
          "name": "stdout",
          "text": [
            "Adjusting learning rate of group 0 to 1.0000e-03.\n"
          ]
        },
        {
          "output_type": "stream",
          "name": "stderr",
          "text": [
            "100%|██████████| 225/225 [00:03<00:00, 61.63it/s, valid_avg_epoch_loss=2.48e+3, epoch=126]\n",
            "100%|██████████| 525/525 [00:24<00:00, 21.65it/s, avg_epoch_loss=2.54e+3, epoch=127]\n"
          ]
        },
        {
          "output_type": "stream",
          "name": "stdout",
          "text": [
            "Adjusting learning rate of group 0 to 1.0000e-03.\n"
          ]
        },
        {
          "output_type": "stream",
          "name": "stderr",
          "text": [
            "100%|██████████| 225/225 [00:03<00:00, 61.38it/s, valid_avg_epoch_loss=1.47e+3, epoch=127]\n"
          ]
        },
        {
          "output_type": "stream",
          "name": "stdout",
          "text": [
            "\n",
            "best loss is updated to  1471.0083576117622 at 127 \n",
            "\n"
          ]
        },
        {
          "output_type": "stream",
          "name": "stderr",
          "text": [
            "100%|██████████| 525/525 [00:24<00:00, 21.63it/s, avg_epoch_loss=2.28e+3, epoch=128]\n"
          ]
        },
        {
          "output_type": "stream",
          "name": "stdout",
          "text": [
            "Adjusting learning rate of group 0 to 1.0000e-03.\n"
          ]
        },
        {
          "output_type": "stream",
          "name": "stderr",
          "text": [
            "100%|██████████| 225/225 [00:03<00:00, 60.58it/s, valid_avg_epoch_loss=1.89e+3, epoch=128]\n",
            "100%|██████████| 525/525 [00:24<00:00, 21.52it/s, avg_epoch_loss=2.26e+3, epoch=129]\n"
          ]
        },
        {
          "output_type": "stream",
          "name": "stdout",
          "text": [
            "Adjusting learning rate of group 0 to 1.0000e-03.\n"
          ]
        },
        {
          "output_type": "stream",
          "name": "stderr",
          "text": [
            "100%|██████████| 225/225 [00:03<00:00, 60.70it/s, valid_avg_epoch_loss=1.79e+3, epoch=129]\n",
            "100%|██████████| 525/525 [00:24<00:00, 21.82it/s, avg_epoch_loss=2.57e+3, epoch=130]\n"
          ]
        },
        {
          "output_type": "stream",
          "name": "stdout",
          "text": [
            "Adjusting learning rate of group 0 to 1.0000e-03.\n"
          ]
        },
        {
          "output_type": "stream",
          "name": "stderr",
          "text": [
            "100%|██████████| 225/225 [00:04<00:00, 53.20it/s, valid_avg_epoch_loss=2.13e+3, epoch=130]\n",
            "100%|██████████| 525/525 [00:24<00:00, 21.85it/s, avg_epoch_loss=2.39e+3, epoch=131]\n"
          ]
        },
        {
          "output_type": "stream",
          "name": "stdout",
          "text": [
            "Adjusting learning rate of group 0 to 1.0000e-03.\n"
          ]
        },
        {
          "output_type": "stream",
          "name": "stderr",
          "text": [
            "100%|██████████| 225/225 [00:04<00:00, 51.65it/s, valid_avg_epoch_loss=2.4e+3, epoch=131]\n",
            "100%|██████████| 525/525 [00:24<00:00, 21.82it/s, avg_epoch_loss=2.15e+3, epoch=132]\n"
          ]
        },
        {
          "output_type": "stream",
          "name": "stdout",
          "text": [
            "Adjusting learning rate of group 0 to 1.0000e-03.\n"
          ]
        },
        {
          "output_type": "stream",
          "name": "stderr",
          "text": [
            "100%|██████████| 225/225 [00:04<00:00, 55.99it/s, valid_avg_epoch_loss=2.36e+3, epoch=132]\n",
            "100%|██████████| 525/525 [00:24<00:00, 21.68it/s, avg_epoch_loss=2.11e+3, epoch=133]\n"
          ]
        },
        {
          "output_type": "stream",
          "name": "stdout",
          "text": [
            "Adjusting learning rate of group 0 to 1.0000e-03.\n"
          ]
        },
        {
          "output_type": "stream",
          "name": "stderr",
          "text": [
            "100%|██████████| 225/225 [00:03<00:00, 61.44it/s, valid_avg_epoch_loss=2.28e+3, epoch=133]\n",
            "100%|██████████| 525/525 [00:24<00:00, 21.53it/s, avg_epoch_loss=2.35e+3, epoch=134]\n"
          ]
        },
        {
          "output_type": "stream",
          "name": "stdout",
          "text": [
            "Adjusting learning rate of group 0 to 1.0000e-03.\n"
          ]
        },
        {
          "output_type": "stream",
          "name": "stderr",
          "text": [
            "100%|██████████| 225/225 [00:03<00:00, 61.05it/s, valid_avg_epoch_loss=1.83e+3, epoch=134]\n",
            "100%|██████████| 525/525 [00:24<00:00, 21.55it/s, avg_epoch_loss=2.45e+3, epoch=135]\n"
          ]
        },
        {
          "output_type": "stream",
          "name": "stdout",
          "text": [
            "Adjusting learning rate of group 0 to 1.0000e-03.\n"
          ]
        },
        {
          "output_type": "stream",
          "name": "stderr",
          "text": [
            "100%|██████████| 225/225 [00:03<00:00, 61.25it/s, valid_avg_epoch_loss=2.1e+3, epoch=135]\n",
            "100%|██████████| 525/525 [00:24<00:00, 21.48it/s, avg_epoch_loss=2.16e+3, epoch=136]\n"
          ]
        },
        {
          "output_type": "stream",
          "name": "stdout",
          "text": [
            "Adjusting learning rate of group 0 to 1.0000e-03.\n"
          ]
        },
        {
          "output_type": "stream",
          "name": "stderr",
          "text": [
            "100%|██████████| 225/225 [00:03<00:00, 61.18it/s, valid_avg_epoch_loss=1.83e+3, epoch=136]\n",
            "100%|██████████| 525/525 [00:24<00:00, 21.71it/s, avg_epoch_loss=2.27e+3, epoch=137]\n"
          ]
        },
        {
          "output_type": "stream",
          "name": "stdout",
          "text": [
            "Adjusting learning rate of group 0 to 1.0000e-03.\n"
          ]
        },
        {
          "output_type": "stream",
          "name": "stderr",
          "text": [
            "100%|██████████| 225/225 [00:04<00:00, 55.71it/s, valid_avg_epoch_loss=2.58e+3, epoch=137]\n",
            "100%|██████████| 525/525 [00:24<00:00, 21.66it/s, avg_epoch_loss=2.47e+3, epoch=138]\n"
          ]
        },
        {
          "output_type": "stream",
          "name": "stdout",
          "text": [
            "Adjusting learning rate of group 0 to 1.0000e-03.\n"
          ]
        },
        {
          "output_type": "stream",
          "name": "stderr",
          "text": [
            "100%|██████████| 225/225 [00:04<00:00, 52.30it/s, valid_avg_epoch_loss=1.99e+3, epoch=138]\n",
            "100%|██████████| 525/525 [00:24<00:00, 21.75it/s, avg_epoch_loss=2.13e+3, epoch=139]\n"
          ]
        },
        {
          "output_type": "stream",
          "name": "stdout",
          "text": [
            "Adjusting learning rate of group 0 to 1.0000e-03.\n"
          ]
        },
        {
          "output_type": "stream",
          "name": "stderr",
          "text": [
            "100%|██████████| 225/225 [00:04<00:00, 53.87it/s, valid_avg_epoch_loss=3.4e+3, epoch=139]\n",
            "100%|██████████| 525/525 [00:24<00:00, 21.60it/s, avg_epoch_loss=2e+3, epoch=140]\n"
          ]
        },
        {
          "output_type": "stream",
          "name": "stdout",
          "text": [
            "Adjusting learning rate of group 0 to 1.0000e-03.\n"
          ]
        },
        {
          "output_type": "stream",
          "name": "stderr",
          "text": [
            "100%|██████████| 225/225 [00:03<00:00, 60.96it/s, valid_avg_epoch_loss=2.11e+3, epoch=140]\n",
            "100%|██████████| 525/525 [00:24<00:00, 21.42it/s, avg_epoch_loss=2.39e+3, epoch=141]\n"
          ]
        },
        {
          "output_type": "stream",
          "name": "stdout",
          "text": [
            "Adjusting learning rate of group 0 to 1.0000e-03.\n"
          ]
        },
        {
          "output_type": "stream",
          "name": "stderr",
          "text": [
            "100%|██████████| 225/225 [00:03<00:00, 60.76it/s, valid_avg_epoch_loss=2.34e+3, epoch=141]\n",
            "100%|██████████| 525/525 [00:24<00:00, 21.50it/s, avg_epoch_loss=2.22e+3, epoch=142]\n"
          ]
        },
        {
          "output_type": "stream",
          "name": "stdout",
          "text": [
            "Adjusting learning rate of group 0 to 1.0000e-03.\n"
          ]
        },
        {
          "output_type": "stream",
          "name": "stderr",
          "text": [
            "100%|██████████| 225/225 [00:03<00:00, 60.24it/s, valid_avg_epoch_loss=2.11e+3, epoch=142]\n",
            "100%|██████████| 525/525 [00:24<00:00, 21.44it/s, avg_epoch_loss=2.39e+3, epoch=143]\n"
          ]
        },
        {
          "output_type": "stream",
          "name": "stdout",
          "text": [
            "Adjusting learning rate of group 0 to 1.0000e-03.\n"
          ]
        },
        {
          "output_type": "stream",
          "name": "stderr",
          "text": [
            "100%|██████████| 225/225 [00:03<00:00, 60.30it/s, valid_avg_epoch_loss=2.33e+3, epoch=143]\n",
            "100%|██████████| 525/525 [00:24<00:00, 21.20it/s, avg_epoch_loss=2.32e+3, epoch=144]\n"
          ]
        },
        {
          "output_type": "stream",
          "name": "stdout",
          "text": [
            "Adjusting learning rate of group 0 to 1.0000e-03.\n"
          ]
        },
        {
          "output_type": "stream",
          "name": "stderr",
          "text": [
            "100%|██████████| 225/225 [00:04<00:00, 52.04it/s, valid_avg_epoch_loss=2.98e+3, epoch=144]\n",
            "100%|██████████| 525/525 [00:24<00:00, 21.75it/s, avg_epoch_loss=2.36e+3, epoch=145]\n"
          ]
        },
        {
          "output_type": "stream",
          "name": "stdout",
          "text": [
            "Adjusting learning rate of group 0 to 1.0000e-03.\n"
          ]
        },
        {
          "output_type": "stream",
          "name": "stderr",
          "text": [
            "100%|██████████| 225/225 [00:04<00:00, 52.70it/s, valid_avg_epoch_loss=2.24e+3, epoch=145]\n",
            "100%|██████████| 525/525 [00:24<00:00, 21.64it/s, avg_epoch_loss=2.48e+3, epoch=146]\n"
          ]
        },
        {
          "output_type": "stream",
          "name": "stdout",
          "text": [
            "Adjusting learning rate of group 0 to 1.0000e-03.\n"
          ]
        },
        {
          "output_type": "stream",
          "name": "stderr",
          "text": [
            "100%|██████████| 225/225 [00:03<00:00, 56.54it/s, valid_avg_epoch_loss=2.34e+3, epoch=146]\n",
            "100%|██████████| 525/525 [00:24<00:00, 21.47it/s, avg_epoch_loss=2.27e+3, epoch=147]\n"
          ]
        },
        {
          "output_type": "stream",
          "name": "stdout",
          "text": [
            "Adjusting learning rate of group 0 to 1.0000e-03.\n"
          ]
        },
        {
          "output_type": "stream",
          "name": "stderr",
          "text": [
            "100%|██████████| 225/225 [00:03<00:00, 60.29it/s, valid_avg_epoch_loss=2.08e+3, epoch=147]\n",
            "100%|██████████| 525/525 [00:24<00:00, 21.47it/s, avg_epoch_loss=2.1e+3, epoch=148]\n"
          ]
        },
        {
          "output_type": "stream",
          "name": "stdout",
          "text": [
            "Adjusting learning rate of group 0 to 1.0000e-03.\n"
          ]
        },
        {
          "output_type": "stream",
          "name": "stderr",
          "text": [
            "100%|██████████| 225/225 [00:03<00:00, 60.39it/s, valid_avg_epoch_loss=2.17e+3, epoch=148]\n",
            "100%|██████████| 525/525 [00:24<00:00, 21.38it/s, avg_epoch_loss=2.19e+3, epoch=149]\n"
          ]
        },
        {
          "output_type": "stream",
          "name": "stdout",
          "text": [
            "Adjusting learning rate of group 0 to 1.0000e-04.\n"
          ]
        },
        {
          "output_type": "stream",
          "name": "stderr",
          "text": [
            "100%|██████████| 225/225 [00:03<00:00, 60.60it/s, valid_avg_epoch_loss=2.35e+3, epoch=149]\n",
            "100%|██████████| 525/525 [00:24<00:00, 21.43it/s, avg_epoch_loss=1.57e+3, epoch=150]\n"
          ]
        },
        {
          "output_type": "stream",
          "name": "stdout",
          "text": [
            "Adjusting learning rate of group 0 to 1.0000e-04.\n"
          ]
        },
        {
          "output_type": "stream",
          "name": "stderr",
          "text": [
            "100%|██████████| 225/225 [00:03<00:00, 60.38it/s, valid_avg_epoch_loss=1.61e+3, epoch=150]\n",
            "100%|██████████| 525/525 [00:24<00:00, 21.47it/s, avg_epoch_loss=1.69e+3, epoch=151]\n"
          ]
        },
        {
          "output_type": "stream",
          "name": "stdout",
          "text": [
            "Adjusting learning rate of group 0 to 1.0000e-04.\n"
          ]
        },
        {
          "output_type": "stream",
          "name": "stderr",
          "text": [
            "100%|██████████| 225/225 [00:04<00:00, 54.41it/s, valid_avg_epoch_loss=1.59e+3, epoch=151]\n",
            "100%|██████████| 525/525 [00:24<00:00, 21.74it/s, avg_epoch_loss=1.54e+3, epoch=152]\n"
          ]
        },
        {
          "output_type": "stream",
          "name": "stdout",
          "text": [
            "Adjusting learning rate of group 0 to 1.0000e-04.\n"
          ]
        },
        {
          "output_type": "stream",
          "name": "stderr",
          "text": [
            "100%|██████████| 225/225 [00:04<00:00, 50.51it/s, valid_avg_epoch_loss=1.74e+3, epoch=152]\n",
            "100%|██████████| 525/525 [00:24<00:00, 21.75it/s, avg_epoch_loss=1.76e+3, epoch=153]\n"
          ]
        },
        {
          "output_type": "stream",
          "name": "stdout",
          "text": [
            "Adjusting learning rate of group 0 to 1.0000e-04.\n"
          ]
        },
        {
          "output_type": "stream",
          "name": "stderr",
          "text": [
            "100%|██████████| 225/225 [00:04<00:00, 53.29it/s, valid_avg_epoch_loss=1.56e+3, epoch=153]\n",
            "100%|██████████| 525/525 [00:24<00:00, 21.54it/s, avg_epoch_loss=1.88e+3, epoch=154]\n"
          ]
        },
        {
          "output_type": "stream",
          "name": "stdout",
          "text": [
            "Adjusting learning rate of group 0 to 1.0000e-04.\n"
          ]
        },
        {
          "output_type": "stream",
          "name": "stderr",
          "text": [
            "100%|██████████| 225/225 [00:03<00:00, 59.34it/s, valid_avg_epoch_loss=1.62e+3, epoch=154]\n",
            "100%|██████████| 525/525 [00:24<00:00, 21.24it/s, avg_epoch_loss=1.66e+3, epoch=155]\n"
          ]
        },
        {
          "output_type": "stream",
          "name": "stdout",
          "text": [
            "Adjusting learning rate of group 0 to 1.0000e-04.\n"
          ]
        },
        {
          "output_type": "stream",
          "name": "stderr",
          "text": [
            "100%|██████████| 225/225 [00:03<00:00, 59.96it/s, valid_avg_epoch_loss=1.54e+3, epoch=155]\n",
            "100%|██████████| 525/525 [00:24<00:00, 21.12it/s, avg_epoch_loss=1.57e+3, epoch=156]\n"
          ]
        },
        {
          "output_type": "stream",
          "name": "stdout",
          "text": [
            "Adjusting learning rate of group 0 to 1.0000e-04.\n"
          ]
        },
        {
          "output_type": "stream",
          "name": "stderr",
          "text": [
            "100%|██████████| 225/225 [00:03<00:00, 59.94it/s, valid_avg_epoch_loss=1.57e+3, epoch=156]\n",
            "100%|██████████| 525/525 [00:24<00:00, 21.34it/s, avg_epoch_loss=1.58e+3, epoch=157]\n"
          ]
        },
        {
          "output_type": "stream",
          "name": "stdout",
          "text": [
            "Adjusting learning rate of group 0 to 1.0000e-04.\n"
          ]
        },
        {
          "output_type": "stream",
          "name": "stderr",
          "text": [
            "100%|██████████| 225/225 [00:03<00:00, 59.97it/s, valid_avg_epoch_loss=1.54e+3, epoch=157]\n",
            "100%|██████████| 525/525 [00:24<00:00, 21.41it/s, avg_epoch_loss=1.67e+3, epoch=158]\n"
          ]
        },
        {
          "output_type": "stream",
          "name": "stdout",
          "text": [
            "Adjusting learning rate of group 0 to 1.0000e-04.\n"
          ]
        },
        {
          "output_type": "stream",
          "name": "stderr",
          "text": [
            "100%|██████████| 225/225 [00:03<00:00, 57.85it/s, valid_avg_epoch_loss=1.84e+3, epoch=158]\n",
            "100%|██████████| 525/525 [00:24<00:00, 21.56it/s, avg_epoch_loss=1.58e+3, epoch=159]\n"
          ]
        },
        {
          "output_type": "stream",
          "name": "stdout",
          "text": [
            "Adjusting learning rate of group 0 to 1.0000e-04.\n"
          ]
        },
        {
          "output_type": "stream",
          "name": "stderr",
          "text": [
            "100%|██████████| 225/225 [00:04<00:00, 53.28it/s, valid_avg_epoch_loss=1.68e+3, epoch=159]\n",
            "100%|██████████| 525/525 [00:24<00:00, 21.64it/s, avg_epoch_loss=1.83e+3, epoch=160]\n"
          ]
        },
        {
          "output_type": "stream",
          "name": "stdout",
          "text": [
            "Adjusting learning rate of group 0 to 1.0000e-04.\n"
          ]
        },
        {
          "output_type": "stream",
          "name": "stderr",
          "text": [
            "100%|██████████| 225/225 [00:04<00:00, 50.44it/s, valid_avg_epoch_loss=1.55e+3, epoch=160]\n",
            "100%|██████████| 525/525 [00:24<00:00, 21.51it/s, avg_epoch_loss=1.44e+3, epoch=161]\n"
          ]
        },
        {
          "output_type": "stream",
          "name": "stdout",
          "text": [
            "Adjusting learning rate of group 0 to 1.0000e-04.\n"
          ]
        },
        {
          "output_type": "stream",
          "name": "stderr",
          "text": [
            "100%|██████████| 225/225 [00:03<00:00, 56.93it/s, valid_avg_epoch_loss=1.48e+3, epoch=161]\n",
            "100%|██████████| 525/525 [00:24<00:00, 21.53it/s, avg_epoch_loss=1.6e+3, epoch=162]\n"
          ]
        },
        {
          "output_type": "stream",
          "name": "stdout",
          "text": [
            "Adjusting learning rate of group 0 to 1.0000e-04.\n"
          ]
        },
        {
          "output_type": "stream",
          "name": "stderr",
          "text": [
            "100%|██████████| 225/225 [00:03<00:00, 59.72it/s, valid_avg_epoch_loss=1.67e+3, epoch=162]\n",
            "100%|██████████| 525/525 [00:24<00:00, 21.21it/s, avg_epoch_loss=1.76e+3, epoch=163]\n"
          ]
        },
        {
          "output_type": "stream",
          "name": "stdout",
          "text": [
            "Adjusting learning rate of group 0 to 1.0000e-04.\n"
          ]
        },
        {
          "output_type": "stream",
          "name": "stderr",
          "text": [
            "100%|██████████| 225/225 [00:03<00:00, 59.54it/s, valid_avg_epoch_loss=1.4e+3, epoch=163]\n"
          ]
        },
        {
          "output_type": "stream",
          "name": "stdout",
          "text": [
            "\n",
            "best loss is updated to  1397.488330891927 at 163 \n",
            "\n"
          ]
        },
        {
          "output_type": "stream",
          "name": "stderr",
          "text": [
            "100%|██████████| 525/525 [00:24<00:00, 21.28it/s, avg_epoch_loss=1.84e+3, epoch=164]\n"
          ]
        },
        {
          "output_type": "stream",
          "name": "stdout",
          "text": [
            "Adjusting learning rate of group 0 to 1.0000e-04.\n"
          ]
        },
        {
          "output_type": "stream",
          "name": "stderr",
          "text": [
            "100%|██████████| 225/225 [00:03<00:00, 60.42it/s, valid_avg_epoch_loss=1.17e+3, epoch=164]\n"
          ]
        },
        {
          "output_type": "stream",
          "name": "stdout",
          "text": [
            "\n",
            "best loss is updated to  1170.32451687283 at 164 \n",
            "\n"
          ]
        },
        {
          "output_type": "stream",
          "name": "stderr",
          "text": [
            "100%|██████████| 525/525 [00:24<00:00, 21.35it/s, avg_epoch_loss=1.35e+3, epoch=165]\n"
          ]
        },
        {
          "output_type": "stream",
          "name": "stdout",
          "text": [
            "Adjusting learning rate of group 0 to 1.0000e-04.\n"
          ]
        },
        {
          "output_type": "stream",
          "name": "stderr",
          "text": [
            "100%|██████████| 225/225 [00:03<00:00, 60.40it/s, valid_avg_epoch_loss=1.99e+3, epoch=165]\n",
            "100%|██████████| 525/525 [00:24<00:00, 21.49it/s, avg_epoch_loss=1.79e+3, epoch=166]\n"
          ]
        },
        {
          "output_type": "stream",
          "name": "stdout",
          "text": [
            "Adjusting learning rate of group 0 to 1.0000e-04.\n"
          ]
        },
        {
          "output_type": "stream",
          "name": "stderr",
          "text": [
            "100%|██████████| 225/225 [00:04<00:00, 54.50it/s, valid_avg_epoch_loss=1.29e+3, epoch=166]\n",
            "100%|██████████| 525/525 [00:24<00:00, 21.59it/s, avg_epoch_loss=1.46e+3, epoch=167]\n"
          ]
        },
        {
          "output_type": "stream",
          "name": "stdout",
          "text": [
            "Adjusting learning rate of group 0 to 1.0000e-04.\n"
          ]
        },
        {
          "output_type": "stream",
          "name": "stderr",
          "text": [
            "100%|██████████| 225/225 [00:04<00:00, 50.33it/s, valid_avg_epoch_loss=1.5e+3, epoch=167]\n",
            "100%|██████████| 525/525 [00:24<00:00, 21.62it/s, avg_epoch_loss=1.64e+3, epoch=168]\n"
          ]
        },
        {
          "output_type": "stream",
          "name": "stdout",
          "text": [
            "Adjusting learning rate of group 0 to 1.0000e-04.\n"
          ]
        },
        {
          "output_type": "stream",
          "name": "stderr",
          "text": [
            "100%|██████████| 225/225 [00:04<00:00, 49.80it/s, valid_avg_epoch_loss=1.44e+3, epoch=168]\n",
            "100%|██████████| 525/525 [00:25<00:00, 20.85it/s, avg_epoch_loss=1.64e+3, epoch=169]\n"
          ]
        },
        {
          "output_type": "stream",
          "name": "stdout",
          "text": [
            "Adjusting learning rate of group 0 to 1.0000e-04.\n"
          ]
        },
        {
          "output_type": "stream",
          "name": "stderr",
          "text": [
            "100%|██████████| 225/225 [00:04<00:00, 55.54it/s, valid_avg_epoch_loss=1.47e+3, epoch=169]\n",
            "100%|██████████| 525/525 [00:24<00:00, 21.28it/s, avg_epoch_loss=1.6e+3, epoch=170]\n"
          ]
        },
        {
          "output_type": "stream",
          "name": "stdout",
          "text": [
            "Adjusting learning rate of group 0 to 1.0000e-04.\n"
          ]
        },
        {
          "output_type": "stream",
          "name": "stderr",
          "text": [
            "100%|██████████| 225/225 [00:03<00:00, 59.86it/s, valid_avg_epoch_loss=1.57e+3, epoch=170]\n",
            "100%|██████████| 525/525 [00:24<00:00, 21.38it/s, avg_epoch_loss=1.49e+3, epoch=171]\n"
          ]
        },
        {
          "output_type": "stream",
          "name": "stdout",
          "text": [
            "Adjusting learning rate of group 0 to 1.0000e-04.\n"
          ]
        },
        {
          "output_type": "stream",
          "name": "stderr",
          "text": [
            "100%|██████████| 225/225 [00:03<00:00, 56.53it/s, valid_avg_epoch_loss=1.86e+3, epoch=171]\n",
            "100%|██████████| 525/525 [00:24<00:00, 21.50it/s, avg_epoch_loss=1.69e+3, epoch=172]\n"
          ]
        },
        {
          "output_type": "stream",
          "name": "stdout",
          "text": [
            "Adjusting learning rate of group 0 to 1.0000e-04.\n"
          ]
        },
        {
          "output_type": "stream",
          "name": "stderr",
          "text": [
            "100%|██████████| 225/225 [00:04<00:00, 52.44it/s, valid_avg_epoch_loss=1.69e+3, epoch=172]\n",
            "100%|██████████| 525/525 [00:24<00:00, 21.65it/s, avg_epoch_loss=1.42e+3, epoch=173]\n"
          ]
        },
        {
          "output_type": "stream",
          "name": "stdout",
          "text": [
            "Adjusting learning rate of group 0 to 1.0000e-04.\n"
          ]
        },
        {
          "output_type": "stream",
          "name": "stderr",
          "text": [
            "100%|██████████| 225/225 [00:04<00:00, 52.24it/s, valid_avg_epoch_loss=1.42e+3, epoch=173]\n",
            "100%|██████████| 525/525 [00:24<00:00, 21.48it/s, avg_epoch_loss=1.53e+3, epoch=174]\n"
          ]
        },
        {
          "output_type": "stream",
          "name": "stdout",
          "text": [
            "Adjusting learning rate of group 0 to 1.0000e-04.\n"
          ]
        },
        {
          "output_type": "stream",
          "name": "stderr",
          "text": [
            "100%|██████████| 225/225 [00:03<00:00, 56.83it/s, valid_avg_epoch_loss=1.41e+3, epoch=174]\n",
            "100%|██████████| 525/525 [00:24<00:00, 21.53it/s, avg_epoch_loss=1.81e+3, epoch=175]\n"
          ]
        },
        {
          "output_type": "stream",
          "name": "stdout",
          "text": [
            "Adjusting learning rate of group 0 to 1.0000e-04.\n"
          ]
        },
        {
          "output_type": "stream",
          "name": "stderr",
          "text": [
            "100%|██████████| 225/225 [00:03<00:00, 60.21it/s, valid_avg_epoch_loss=1.77e+3, epoch=175]\n",
            "100%|██████████| 525/525 [00:24<00:00, 21.26it/s, avg_epoch_loss=1.55e+3, epoch=176]\n"
          ]
        },
        {
          "output_type": "stream",
          "name": "stdout",
          "text": [
            "Adjusting learning rate of group 0 to 1.0000e-04.\n"
          ]
        },
        {
          "output_type": "stream",
          "name": "stderr",
          "text": [
            "100%|██████████| 225/225 [00:03<00:00, 59.56it/s, valid_avg_epoch_loss=1.83e+3, epoch=176]\n",
            "100%|██████████| 525/525 [00:24<00:00, 21.39it/s, avg_epoch_loss=1.56e+3, epoch=177]\n"
          ]
        },
        {
          "output_type": "stream",
          "name": "stdout",
          "text": [
            "Adjusting learning rate of group 0 to 1.0000e-04.\n"
          ]
        },
        {
          "output_type": "stream",
          "name": "stderr",
          "text": [
            "100%|██████████| 225/225 [00:03<00:00, 60.18it/s, valid_avg_epoch_loss=1.5e+3, epoch=177]\n",
            "100%|██████████| 525/525 [00:24<00:00, 21.38it/s, avg_epoch_loss=1.72e+3, epoch=178]\n"
          ]
        },
        {
          "output_type": "stream",
          "name": "stdout",
          "text": [
            "Adjusting learning rate of group 0 to 1.0000e-04.\n"
          ]
        },
        {
          "output_type": "stream",
          "name": "stderr",
          "text": [
            "100%|██████████| 225/225 [00:03<00:00, 59.84it/s, valid_avg_epoch_loss=1.96e+3, epoch=178]\n",
            "100%|██████████| 525/525 [00:24<00:00, 21.55it/s, avg_epoch_loss=1.24e+3, epoch=179]\n"
          ]
        },
        {
          "output_type": "stream",
          "name": "stdout",
          "text": [
            "Adjusting learning rate of group 0 to 1.0000e-04.\n"
          ]
        },
        {
          "output_type": "stream",
          "name": "stderr",
          "text": [
            "100%|██████████| 225/225 [00:04<00:00, 54.84it/s, valid_avg_epoch_loss=1.83e+3, epoch=179]\n",
            "100%|██████████| 525/525 [00:24<00:00, 21.56it/s, avg_epoch_loss=1.8e+3, epoch=180]\n"
          ]
        },
        {
          "output_type": "stream",
          "name": "stdout",
          "text": [
            "Adjusting learning rate of group 0 to 1.0000e-04.\n"
          ]
        },
        {
          "output_type": "stream",
          "name": "stderr",
          "text": [
            "100%|██████████| 225/225 [00:04<00:00, 51.34it/s, valid_avg_epoch_loss=1.4e+3, epoch=180]\n",
            "100%|██████████| 525/525 [00:24<00:00, 21.65it/s, avg_epoch_loss=1.8e+3, epoch=181]\n"
          ]
        },
        {
          "output_type": "stream",
          "name": "stdout",
          "text": [
            "Adjusting learning rate of group 0 to 1.0000e-04.\n"
          ]
        },
        {
          "output_type": "stream",
          "name": "stderr",
          "text": [
            "100%|██████████| 225/225 [00:04<00:00, 54.34it/s, valid_avg_epoch_loss=1.75e+3, epoch=181]\n",
            "100%|██████████| 525/525 [00:24<00:00, 21.50it/s, avg_epoch_loss=1.81e+3, epoch=182]\n"
          ]
        },
        {
          "output_type": "stream",
          "name": "stdout",
          "text": [
            "Adjusting learning rate of group 0 to 1.0000e-04.\n"
          ]
        },
        {
          "output_type": "stream",
          "name": "stderr",
          "text": [
            "100%|██████████| 225/225 [00:03<00:00, 59.93it/s, valid_avg_epoch_loss=1.5e+3, epoch=182]\n",
            "100%|██████████| 525/525 [00:24<00:00, 21.37it/s, avg_epoch_loss=1.7e+3, epoch=183]\n"
          ]
        },
        {
          "output_type": "stream",
          "name": "stdout",
          "text": [
            "Adjusting learning rate of group 0 to 1.0000e-04.\n"
          ]
        },
        {
          "output_type": "stream",
          "name": "stderr",
          "text": [
            "100%|██████████| 225/225 [00:03<00:00, 59.23it/s, valid_avg_epoch_loss=1.67e+3, epoch=183]\n",
            "100%|██████████| 525/525 [00:24<00:00, 21.39it/s, avg_epoch_loss=1.37e+3, epoch=184]\n"
          ]
        },
        {
          "output_type": "stream",
          "name": "stdout",
          "text": [
            "Adjusting learning rate of group 0 to 1.0000e-04.\n"
          ]
        },
        {
          "output_type": "stream",
          "name": "stderr",
          "text": [
            "100%|██████████| 225/225 [00:03<00:00, 59.58it/s, valid_avg_epoch_loss=1.3e+3, epoch=184]\n",
            "100%|██████████| 525/525 [00:24<00:00, 21.37it/s, avg_epoch_loss=1.36e+3, epoch=185]\n"
          ]
        },
        {
          "output_type": "stream",
          "name": "stdout",
          "text": [
            "Adjusting learning rate of group 0 to 1.0000e-04.\n"
          ]
        },
        {
          "output_type": "stream",
          "name": "stderr",
          "text": [
            "100%|██████████| 225/225 [00:03<00:00, 59.96it/s, valid_avg_epoch_loss=1.48e+3, epoch=185]\n",
            "100%|██████████| 525/525 [00:24<00:00, 21.43it/s, avg_epoch_loss=1.34e+3, epoch=186]\n"
          ]
        },
        {
          "output_type": "stream",
          "name": "stdout",
          "text": [
            "Adjusting learning rate of group 0 to 1.0000e-04.\n"
          ]
        },
        {
          "output_type": "stream",
          "name": "stderr",
          "text": [
            "100%|██████████| 225/225 [00:04<00:00, 54.89it/s, valid_avg_epoch_loss=1.49e+3, epoch=186]\n",
            "100%|██████████| 525/525 [00:24<00:00, 21.63it/s, avg_epoch_loss=1.61e+3, epoch=187]\n"
          ]
        },
        {
          "output_type": "stream",
          "name": "stdout",
          "text": [
            "Adjusting learning rate of group 0 to 1.0000e-04.\n"
          ]
        },
        {
          "output_type": "stream",
          "name": "stderr",
          "text": [
            "100%|██████████| 225/225 [00:04<00:00, 50.36it/s, valid_avg_epoch_loss=1.58e+3, epoch=187]\n",
            "100%|██████████| 525/525 [00:24<00:00, 21.65it/s, avg_epoch_loss=1.78e+3, epoch=188]\n"
          ]
        },
        {
          "output_type": "stream",
          "name": "stdout",
          "text": [
            "Adjusting learning rate of group 0 to 1.0000e-04.\n"
          ]
        },
        {
          "output_type": "stream",
          "name": "stderr",
          "text": [
            "100%|██████████| 225/225 [00:04<00:00, 53.76it/s, valid_avg_epoch_loss=1.45e+3, epoch=188]\n",
            "100%|██████████| 525/525 [00:24<00:00, 21.43it/s, avg_epoch_loss=1.67e+3, epoch=189]\n"
          ]
        },
        {
          "output_type": "stream",
          "name": "stdout",
          "text": [
            "Adjusting learning rate of group 0 to 1.0000e-04.\n"
          ]
        },
        {
          "output_type": "stream",
          "name": "stderr",
          "text": [
            "100%|██████████| 225/225 [00:03<00:00, 59.70it/s, valid_avg_epoch_loss=1.34e+3, epoch=189]\n",
            "100%|██████████| 525/525 [00:24<00:00, 21.32it/s, avg_epoch_loss=1.68e+3, epoch=190]\n"
          ]
        },
        {
          "output_type": "stream",
          "name": "stdout",
          "text": [
            "Adjusting learning rate of group 0 to 1.0000e-04.\n"
          ]
        },
        {
          "output_type": "stream",
          "name": "stderr",
          "text": [
            "100%|██████████| 225/225 [00:03<00:00, 60.37it/s, valid_avg_epoch_loss=1.42e+3, epoch=190]\n",
            "100%|██████████| 525/525 [00:24<00:00, 21.26it/s, avg_epoch_loss=1.67e+3, epoch=191]\n"
          ]
        },
        {
          "output_type": "stream",
          "name": "stdout",
          "text": [
            "Adjusting learning rate of group 0 to 1.0000e-04.\n"
          ]
        },
        {
          "output_type": "stream",
          "name": "stderr",
          "text": [
            "100%|██████████| 225/225 [00:03<00:00, 60.02it/s, valid_avg_epoch_loss=1.9e+3, epoch=191]\n",
            "100%|██████████| 525/525 [00:24<00:00, 21.25it/s, avg_epoch_loss=1.2e+3, epoch=192]\n"
          ]
        },
        {
          "output_type": "stream",
          "name": "stdout",
          "text": [
            "Adjusting learning rate of group 0 to 1.0000e-04.\n"
          ]
        },
        {
          "output_type": "stream",
          "name": "stderr",
          "text": [
            "100%|██████████| 225/225 [00:03<00:00, 60.30it/s, valid_avg_epoch_loss=1.43e+3, epoch=192]\n",
            "100%|██████████| 525/525 [00:25<00:00, 20.71it/s, avg_epoch_loss=1.65e+3, epoch=193]\n"
          ]
        },
        {
          "output_type": "stream",
          "name": "stdout",
          "text": [
            "Adjusting learning rate of group 0 to 1.0000e-04.\n"
          ]
        },
        {
          "output_type": "stream",
          "name": "stderr",
          "text": [
            "100%|██████████| 225/225 [00:03<00:00, 57.97it/s, valid_avg_epoch_loss=1.55e+3, epoch=193]\n",
            "100%|██████████| 525/525 [00:24<00:00, 21.52it/s, avg_epoch_loss=1.73e+3, epoch=194]\n"
          ]
        },
        {
          "output_type": "stream",
          "name": "stdout",
          "text": [
            "Adjusting learning rate of group 0 to 1.0000e-04.\n"
          ]
        },
        {
          "output_type": "stream",
          "name": "stderr",
          "text": [
            "100%|██████████| 225/225 [00:04<00:00, 54.46it/s, valid_avg_epoch_loss=1.26e+3, epoch=194]\n",
            "100%|██████████| 525/525 [00:24<00:00, 21.59it/s, avg_epoch_loss=1.75e+3, epoch=195]\n"
          ]
        },
        {
          "output_type": "stream",
          "name": "stdout",
          "text": [
            "Adjusting learning rate of group 0 to 1.0000e-04.\n"
          ]
        },
        {
          "output_type": "stream",
          "name": "stderr",
          "text": [
            "100%|██████████| 225/225 [00:04<00:00, 51.49it/s, valid_avg_epoch_loss=1.6e+3, epoch=195]\n",
            "100%|██████████| 525/525 [00:24<00:00, 21.40it/s, avg_epoch_loss=1.74e+3, epoch=196]\n"
          ]
        },
        {
          "output_type": "stream",
          "name": "stdout",
          "text": [
            "Adjusting learning rate of group 0 to 1.0000e-04.\n"
          ]
        },
        {
          "output_type": "stream",
          "name": "stderr",
          "text": [
            "100%|██████████| 225/225 [00:04<00:00, 53.82it/s, valid_avg_epoch_loss=1.52e+3, epoch=196]\n",
            "100%|██████████| 525/525 [00:24<00:00, 21.43it/s, avg_epoch_loss=1.56e+3, epoch=197]\n"
          ]
        },
        {
          "output_type": "stream",
          "name": "stdout",
          "text": [
            "Adjusting learning rate of group 0 to 1.0000e-04.\n"
          ]
        },
        {
          "output_type": "stream",
          "name": "stderr",
          "text": [
            "100%|██████████| 225/225 [00:03<00:00, 59.61it/s, valid_avg_epoch_loss=1.57e+3, epoch=197]\n",
            "100%|██████████| 525/525 [00:24<00:00, 21.29it/s, avg_epoch_loss=1.45e+3, epoch=198]\n"
          ]
        },
        {
          "output_type": "stream",
          "name": "stdout",
          "text": [
            "Adjusting learning rate of group 0 to 1.0000e-04.\n"
          ]
        },
        {
          "output_type": "stream",
          "name": "stderr",
          "text": [
            "100%|██████████| 225/225 [00:03<00:00, 59.83it/s, valid_avg_epoch_loss=1.63e+3, epoch=198]\n",
            "100%|██████████| 525/525 [00:24<00:00, 21.20it/s, avg_epoch_loss=1.59e+3, epoch=199]\n"
          ]
        },
        {
          "output_type": "stream",
          "name": "stdout",
          "text": [
            "Adjusting learning rate of group 0 to 1.0000e-04.\n"
          ]
        },
        {
          "output_type": "stream",
          "name": "stderr",
          "text": [
            "100%|██████████| 225/225 [00:03<00:00, 59.42it/s, valid_avg_epoch_loss=1.54e+3, epoch=199]\n",
            "100%|██████████| 525/525 [00:24<00:00, 21.39it/s, avg_epoch_loss=1.56e+3, epoch=200]\n"
          ]
        },
        {
          "output_type": "stream",
          "name": "stdout",
          "text": [
            "Adjusting learning rate of group 0 to 1.0000e-04.\n"
          ]
        },
        {
          "output_type": "stream",
          "name": "stderr",
          "text": [
            "100%|██████████| 225/225 [00:03<00:00, 59.08it/s, valid_avg_epoch_loss=1.61e+3, epoch=200]\n",
            "100%|██████████| 525/525 [00:24<00:00, 21.35it/s, avg_epoch_loss=1.57e+3, epoch=201]\n"
          ]
        },
        {
          "output_type": "stream",
          "name": "stdout",
          "text": [
            "Adjusting learning rate of group 0 to 1.0000e-04.\n"
          ]
        },
        {
          "output_type": "stream",
          "name": "stderr",
          "text": [
            "100%|██████████| 225/225 [00:04<00:00, 53.87it/s, valid_avg_epoch_loss=1.85e+3, epoch=201]\n",
            "100%|██████████| 525/525 [00:24<00:00, 21.56it/s, avg_epoch_loss=1.5e+3, epoch=202]\n"
          ]
        },
        {
          "output_type": "stream",
          "name": "stdout",
          "text": [
            "Adjusting learning rate of group 0 to 1.0000e-04.\n"
          ]
        },
        {
          "output_type": "stream",
          "name": "stderr",
          "text": [
            "100%|██████████| 225/225 [00:04<00:00, 52.99it/s, valid_avg_epoch_loss=1.64e+3, epoch=202]\n",
            "100%|██████████| 525/525 [00:24<00:00, 21.67it/s, avg_epoch_loss=1.64e+3, epoch=203]\n"
          ]
        },
        {
          "output_type": "stream",
          "name": "stdout",
          "text": [
            "Adjusting learning rate of group 0 to 1.0000e-04.\n"
          ]
        },
        {
          "output_type": "stream",
          "name": "stderr",
          "text": [
            "100%|██████████| 225/225 [00:04<00:00, 55.53it/s, valid_avg_epoch_loss=1.35e+3, epoch=203]\n",
            "100%|██████████| 525/525 [00:24<00:00, 21.42it/s, avg_epoch_loss=1.33e+3, epoch=204]\n"
          ]
        },
        {
          "output_type": "stream",
          "name": "stdout",
          "text": [
            "Adjusting learning rate of group 0 to 1.0000e-04.\n"
          ]
        },
        {
          "output_type": "stream",
          "name": "stderr",
          "text": [
            "100%|██████████| 225/225 [00:03<00:00, 59.38it/s, valid_avg_epoch_loss=1.65e+3, epoch=204]\n",
            "100%|██████████| 525/525 [00:24<00:00, 21.23it/s, avg_epoch_loss=1.57e+3, epoch=205]\n"
          ]
        },
        {
          "output_type": "stream",
          "name": "stdout",
          "text": [
            "Adjusting learning rate of group 0 to 1.0000e-04.\n"
          ]
        },
        {
          "output_type": "stream",
          "name": "stderr",
          "text": [
            "100%|██████████| 225/225 [00:03<00:00, 59.90it/s, valid_avg_epoch_loss=1.57e+3, epoch=205]\n",
            "100%|██████████| 525/525 [00:24<00:00, 21.45it/s, avg_epoch_loss=1.6e+3, epoch=206]\n"
          ]
        },
        {
          "output_type": "stream",
          "name": "stdout",
          "text": [
            "Adjusting learning rate of group 0 to 1.0000e-04.\n"
          ]
        },
        {
          "output_type": "stream",
          "name": "stderr",
          "text": [
            "100%|██████████| 225/225 [00:03<00:00, 58.27it/s, valid_avg_epoch_loss=1.52e+3, epoch=206]\n",
            "100%|██████████| 525/525 [00:24<00:00, 21.29it/s, avg_epoch_loss=1.62e+3, epoch=207]\n"
          ]
        },
        {
          "output_type": "stream",
          "name": "stdout",
          "text": [
            "Adjusting learning rate of group 0 to 1.0000e-04.\n"
          ]
        },
        {
          "output_type": "stream",
          "name": "stderr",
          "text": [
            "100%|██████████| 225/225 [00:04<00:00, 54.26it/s, valid_avg_epoch_loss=1.28e+3, epoch=207]\n",
            "100%|██████████| 525/525 [00:24<00:00, 21.59it/s, avg_epoch_loss=1.61e+3, epoch=208]\n"
          ]
        },
        {
          "output_type": "stream",
          "name": "stdout",
          "text": [
            "Adjusting learning rate of group 0 to 1.0000e-04.\n"
          ]
        },
        {
          "output_type": "stream",
          "name": "stderr",
          "text": [
            "100%|██████████| 225/225 [00:04<00:00, 48.75it/s, valid_avg_epoch_loss=1.35e+3, epoch=208]\n",
            "100%|██████████| 525/525 [00:24<00:00, 21.67it/s, avg_epoch_loss=1.56e+3, epoch=209]\n"
          ]
        },
        {
          "output_type": "stream",
          "name": "stdout",
          "text": [
            "Adjusting learning rate of group 0 to 1.0000e-04.\n"
          ]
        },
        {
          "output_type": "stream",
          "name": "stderr",
          "text": [
            "100%|██████████| 225/225 [00:04<00:00, 52.73it/s, valid_avg_epoch_loss=1.62e+3, epoch=209]\n",
            "100%|██████████| 525/525 [00:24<00:00, 21.42it/s, avg_epoch_loss=1.58e+3, epoch=210]\n"
          ]
        },
        {
          "output_type": "stream",
          "name": "stdout",
          "text": [
            "Adjusting learning rate of group 0 to 1.0000e-04.\n"
          ]
        },
        {
          "output_type": "stream",
          "name": "stderr",
          "text": [
            "100%|██████████| 225/225 [00:03<00:00, 59.02it/s, valid_avg_epoch_loss=1.6e+3, epoch=210]\n",
            "100%|██████████| 525/525 [00:24<00:00, 21.27it/s, avg_epoch_loss=1.87e+3, epoch=211]\n"
          ]
        },
        {
          "output_type": "stream",
          "name": "stdout",
          "text": [
            "Adjusting learning rate of group 0 to 1.0000e-04.\n"
          ]
        },
        {
          "output_type": "stream",
          "name": "stderr",
          "text": [
            "100%|██████████| 225/225 [00:03<00:00, 59.53it/s, valid_avg_epoch_loss=1.62e+3, epoch=211]\n",
            "100%|██████████| 525/525 [00:24<00:00, 21.23it/s, avg_epoch_loss=1.59e+3, epoch=212]\n"
          ]
        },
        {
          "output_type": "stream",
          "name": "stdout",
          "text": [
            "Adjusting learning rate of group 0 to 1.0000e-04.\n"
          ]
        },
        {
          "output_type": "stream",
          "name": "stderr",
          "text": [
            "100%|██████████| 225/225 [00:03<00:00, 59.23it/s, valid_avg_epoch_loss=1.33e+3, epoch=212]\n",
            "100%|██████████| 525/525 [00:24<00:00, 21.29it/s, avg_epoch_loss=1.41e+3, epoch=213]\n"
          ]
        },
        {
          "output_type": "stream",
          "name": "stdout",
          "text": [
            "Adjusting learning rate of group 0 to 1.0000e-04.\n"
          ]
        },
        {
          "output_type": "stream",
          "name": "stderr",
          "text": [
            "100%|██████████| 225/225 [00:03<00:00, 58.82it/s, valid_avg_epoch_loss=1.4e+3, epoch=213]\n",
            "100%|██████████| 525/525 [00:24<00:00, 21.39it/s, avg_epoch_loss=1.44e+3, epoch=214]\n"
          ]
        },
        {
          "output_type": "stream",
          "name": "stdout",
          "text": [
            "Adjusting learning rate of group 0 to 1.0000e-04.\n"
          ]
        },
        {
          "output_type": "stream",
          "name": "stderr",
          "text": [
            "100%|██████████| 225/225 [00:04<00:00, 53.03it/s, valid_avg_epoch_loss=1.41e+3, epoch=214]\n",
            "100%|██████████| 525/525 [00:24<00:00, 21.46it/s, avg_epoch_loss=1.31e+3, epoch=215]\n"
          ]
        },
        {
          "output_type": "stream",
          "name": "stdout",
          "text": [
            "Adjusting learning rate of group 0 to 1.0000e-04.\n"
          ]
        },
        {
          "output_type": "stream",
          "name": "stderr",
          "text": [
            "100%|██████████| 225/225 [00:04<00:00, 49.67it/s, valid_avg_epoch_loss=1.63e+3, epoch=215]\n",
            "100%|██████████| 525/525 [00:24<00:00, 21.46it/s, avg_epoch_loss=1.52e+3, epoch=216]\n"
          ]
        },
        {
          "output_type": "stream",
          "name": "stdout",
          "text": [
            "Adjusting learning rate of group 0 to 1.0000e-04.\n"
          ]
        },
        {
          "output_type": "stream",
          "name": "stderr",
          "text": [
            "100%|██████████| 225/225 [00:04<00:00, 55.93it/s, valid_avg_epoch_loss=1.56e+3, epoch=216]\n",
            "100%|██████████| 525/525 [00:25<00:00, 20.24it/s, avg_epoch_loss=1.54e+3, epoch=217]\n"
          ]
        },
        {
          "output_type": "stream",
          "name": "stdout",
          "text": [
            "Adjusting learning rate of group 0 to 1.0000e-04.\n"
          ]
        },
        {
          "output_type": "stream",
          "name": "stderr",
          "text": [
            "100%|██████████| 225/225 [00:03<00:00, 58.79it/s, valid_avg_epoch_loss=1.45e+3, epoch=217]\n",
            "100%|██████████| 525/525 [00:24<00:00, 21.35it/s, avg_epoch_loss=1.51e+3, epoch=218]\n"
          ]
        },
        {
          "output_type": "stream",
          "name": "stdout",
          "text": [
            "Adjusting learning rate of group 0 to 1.0000e-04.\n"
          ]
        },
        {
          "output_type": "stream",
          "name": "stderr",
          "text": [
            "100%|██████████| 225/225 [00:04<00:00, 53.46it/s, valid_avg_epoch_loss=1.41e+3, epoch=218]\n",
            "100%|██████████| 525/525 [00:24<00:00, 21.50it/s, avg_epoch_loss=1.81e+3, epoch=219]\n"
          ]
        },
        {
          "output_type": "stream",
          "name": "stdout",
          "text": [
            "Adjusting learning rate of group 0 to 1.0000e-04.\n"
          ]
        },
        {
          "output_type": "stream",
          "name": "stderr",
          "text": [
            "100%|██████████| 225/225 [00:04<00:00, 50.64it/s, valid_avg_epoch_loss=1.81e+3, epoch=219]\n",
            "100%|██████████| 525/525 [00:24<00:00, 21.52it/s, avg_epoch_loss=1.52e+3, epoch=220]\n"
          ]
        },
        {
          "output_type": "stream",
          "name": "stdout",
          "text": [
            "Adjusting learning rate of group 0 to 1.0000e-04.\n"
          ]
        },
        {
          "output_type": "stream",
          "name": "stderr",
          "text": [
            "100%|██████████| 225/225 [00:04<00:00, 53.27it/s, valid_avg_epoch_loss=1.41e+3, epoch=220]\n",
            "100%|██████████| 525/525 [00:24<00:00, 21.24it/s, avg_epoch_loss=1.58e+3, epoch=221]\n"
          ]
        },
        {
          "output_type": "stream",
          "name": "stdout",
          "text": [
            "Adjusting learning rate of group 0 to 1.0000e-04.\n"
          ]
        },
        {
          "output_type": "stream",
          "name": "stderr",
          "text": [
            "100%|██████████| 225/225 [00:03<00:00, 58.06it/s, valid_avg_epoch_loss=1.43e+3, epoch=221]\n",
            "100%|██████████| 525/525 [00:24<00:00, 21.30it/s, avg_epoch_loss=1.58e+3, epoch=222]\n"
          ]
        },
        {
          "output_type": "stream",
          "name": "stdout",
          "text": [
            "Adjusting learning rate of group 0 to 1.0000e-04.\n"
          ]
        },
        {
          "output_type": "stream",
          "name": "stderr",
          "text": [
            "100%|██████████| 225/225 [00:03<00:00, 58.92it/s, valid_avg_epoch_loss=1.52e+3, epoch=222]\n",
            "100%|██████████| 525/525 [00:24<00:00, 21.21it/s, avg_epoch_loss=1.64e+3, epoch=223]\n"
          ]
        },
        {
          "output_type": "stream",
          "name": "stdout",
          "text": [
            "Adjusting learning rate of group 0 to 1.0000e-04.\n"
          ]
        },
        {
          "output_type": "stream",
          "name": "stderr",
          "text": [
            "100%|██████████| 225/225 [00:03<00:00, 59.64it/s, valid_avg_epoch_loss=1.46e+3, epoch=223]\n",
            "100%|██████████| 525/525 [00:24<00:00, 21.18it/s, avg_epoch_loss=1.45e+3, epoch=224]\n"
          ]
        },
        {
          "output_type": "stream",
          "name": "stdout",
          "text": [
            "Adjusting learning rate of group 0 to 1.0000e-04.\n"
          ]
        },
        {
          "output_type": "stream",
          "name": "stderr",
          "text": [
            "100%|██████████| 225/225 [00:03<00:00, 58.04it/s, valid_avg_epoch_loss=1.68e+3, epoch=224]\n",
            "100%|██████████| 525/525 [00:24<00:00, 21.52it/s, avg_epoch_loss=1.73e+3, epoch=225]\n"
          ]
        },
        {
          "output_type": "stream",
          "name": "stdout",
          "text": [
            "Adjusting learning rate of group 0 to 1.0000e-04.\n"
          ]
        },
        {
          "output_type": "stream",
          "name": "stderr",
          "text": [
            "100%|██████████| 225/225 [00:04<00:00, 50.65it/s, valid_avg_epoch_loss=1.87e+3, epoch=225]\n",
            "100%|██████████| 525/525 [00:24<00:00, 21.55it/s, avg_epoch_loss=1.59e+3, epoch=226]\n"
          ]
        },
        {
          "output_type": "stream",
          "name": "stdout",
          "text": [
            "Adjusting learning rate of group 0 to 1.0000e-04.\n"
          ]
        },
        {
          "output_type": "stream",
          "name": "stderr",
          "text": [
            "100%|██████████| 225/225 [00:04<00:00, 52.29it/s, valid_avg_epoch_loss=1.56e+3, epoch=226]\n",
            "100%|██████████| 525/525 [00:24<00:00, 21.44it/s, avg_epoch_loss=1.62e+3, epoch=227]\n"
          ]
        },
        {
          "output_type": "stream",
          "name": "stdout",
          "text": [
            "Adjusting learning rate of group 0 to 1.0000e-04.\n"
          ]
        },
        {
          "output_type": "stream",
          "name": "stderr",
          "text": [
            "100%|██████████| 225/225 [00:03<00:00, 57.11it/s, valid_avg_epoch_loss=1.69e+3, epoch=227]\n",
            "100%|██████████| 525/525 [00:24<00:00, 21.46it/s, avg_epoch_loss=1.45e+3, epoch=228]\n"
          ]
        },
        {
          "output_type": "stream",
          "name": "stdout",
          "text": [
            "Adjusting learning rate of group 0 to 1.0000e-04.\n"
          ]
        },
        {
          "output_type": "stream",
          "name": "stderr",
          "text": [
            "100%|██████████| 225/225 [00:03<00:00, 59.11it/s, valid_avg_epoch_loss=1.26e+3, epoch=228]\n",
            "100%|██████████| 525/525 [00:24<00:00, 21.24it/s, avg_epoch_loss=1.71e+3, epoch=229]\n"
          ]
        },
        {
          "output_type": "stream",
          "name": "stdout",
          "text": [
            "Adjusting learning rate of group 0 to 1.0000e-04.\n"
          ]
        },
        {
          "output_type": "stream",
          "name": "stderr",
          "text": [
            "100%|██████████| 225/225 [00:03<00:00, 59.29it/s, valid_avg_epoch_loss=1.51e+3, epoch=229]\n",
            "100%|██████████| 525/525 [00:24<00:00, 21.18it/s, avg_epoch_loss=1.58e+3, epoch=230]\n"
          ]
        },
        {
          "output_type": "stream",
          "name": "stdout",
          "text": [
            "Adjusting learning rate of group 0 to 1.0000e-04.\n"
          ]
        },
        {
          "output_type": "stream",
          "name": "stderr",
          "text": [
            "100%|██████████| 225/225 [00:03<00:00, 58.10it/s, valid_avg_epoch_loss=1.2e+3, epoch=230]\n",
            "100%|██████████| 525/525 [00:24<00:00, 21.25it/s, avg_epoch_loss=1.53e+3, epoch=231]\n"
          ]
        },
        {
          "output_type": "stream",
          "name": "stdout",
          "text": [
            "Adjusting learning rate of group 0 to 1.0000e-04.\n"
          ]
        },
        {
          "output_type": "stream",
          "name": "stderr",
          "text": [
            "100%|██████████| 225/225 [00:04<00:00, 53.61it/s, valid_avg_epoch_loss=1.73e+3, epoch=231]\n",
            "100%|██████████| 525/525 [00:24<00:00, 21.55it/s, avg_epoch_loss=1.63e+3, epoch=232]\n"
          ]
        },
        {
          "output_type": "stream",
          "name": "stdout",
          "text": [
            "Adjusting learning rate of group 0 to 1.0000e-04.\n"
          ]
        },
        {
          "output_type": "stream",
          "name": "stderr",
          "text": [
            "100%|██████████| 225/225 [00:04<00:00, 48.84it/s, valid_avg_epoch_loss=1.77e+3, epoch=232]\n",
            "100%|██████████| 525/525 [00:24<00:00, 21.45it/s, avg_epoch_loss=1.64e+3, epoch=233]\n"
          ]
        },
        {
          "output_type": "stream",
          "name": "stdout",
          "text": [
            "Adjusting learning rate of group 0 to 1.0000e-04.\n"
          ]
        },
        {
          "output_type": "stream",
          "name": "stderr",
          "text": [
            "100%|██████████| 225/225 [00:04<00:00, 53.46it/s, valid_avg_epoch_loss=1.63e+3, epoch=233]\n",
            "100%|██████████| 525/525 [00:24<00:00, 21.15it/s, avg_epoch_loss=1.71e+3, epoch=234]\n"
          ]
        },
        {
          "output_type": "stream",
          "name": "stdout",
          "text": [
            "Adjusting learning rate of group 0 to 1.0000e-04.\n"
          ]
        },
        {
          "output_type": "stream",
          "name": "stderr",
          "text": [
            "100%|██████████| 225/225 [00:03<00:00, 57.85it/s, valid_avg_epoch_loss=1.54e+3, epoch=234]\n",
            "100%|██████████| 525/525 [00:24<00:00, 21.26it/s, avg_epoch_loss=1.58e+3, epoch=235]\n"
          ]
        },
        {
          "output_type": "stream",
          "name": "stdout",
          "text": [
            "Adjusting learning rate of group 0 to 1.0000e-04.\n"
          ]
        },
        {
          "output_type": "stream",
          "name": "stderr",
          "text": [
            "100%|██████████| 225/225 [00:03<00:00, 58.71it/s, valid_avg_epoch_loss=1.25e+3, epoch=235]\n",
            "100%|██████████| 525/525 [00:24<00:00, 21.14it/s, avg_epoch_loss=1.44e+3, epoch=236]\n"
          ]
        },
        {
          "output_type": "stream",
          "name": "stdout",
          "text": [
            "Adjusting learning rate of group 0 to 1.0000e-04.\n"
          ]
        },
        {
          "output_type": "stream",
          "name": "stderr",
          "text": [
            "100%|██████████| 225/225 [00:03<00:00, 59.84it/s, valid_avg_epoch_loss=1.39e+3, epoch=236]\n",
            "100%|██████████| 525/525 [00:24<00:00, 21.26it/s, avg_epoch_loss=1.38e+3, epoch=237]\n"
          ]
        },
        {
          "output_type": "stream",
          "name": "stdout",
          "text": [
            "Adjusting learning rate of group 0 to 1.0000e-04.\n"
          ]
        },
        {
          "output_type": "stream",
          "name": "stderr",
          "text": [
            "100%|██████████| 225/225 [00:03<00:00, 60.09it/s, valid_avg_epoch_loss=1.35e+3, epoch=237]\n",
            "100%|██████████| 525/525 [00:24<00:00, 21.45it/s, avg_epoch_loss=1.48e+3, epoch=238]\n"
          ]
        },
        {
          "output_type": "stream",
          "name": "stdout",
          "text": [
            "Adjusting learning rate of group 0 to 1.0000e-04.\n"
          ]
        },
        {
          "output_type": "stream",
          "name": "stderr",
          "text": [
            "100%|██████████| 225/225 [00:04<00:00, 54.88it/s, valid_avg_epoch_loss=1.81e+3, epoch=238]\n",
            "100%|██████████| 525/525 [00:24<00:00, 21.51it/s, avg_epoch_loss=1.34e+3, epoch=239]\n"
          ]
        },
        {
          "output_type": "stream",
          "name": "stdout",
          "text": [
            "Adjusting learning rate of group 0 to 1.0000e-04.\n"
          ]
        },
        {
          "output_type": "stream",
          "name": "stderr",
          "text": [
            "100%|██████████| 225/225 [00:04<00:00, 50.75it/s, valid_avg_epoch_loss=1.44e+3, epoch=239]\n",
            "100%|██████████| 525/525 [00:24<00:00, 21.57it/s, avg_epoch_loss=1.46e+3, epoch=240]\n"
          ]
        },
        {
          "output_type": "stream",
          "name": "stdout",
          "text": [
            "Adjusting learning rate of group 0 to 1.0000e-04.\n"
          ]
        },
        {
          "output_type": "stream",
          "name": "stderr",
          "text": [
            "100%|██████████| 225/225 [00:04<00:00, 52.67it/s, valid_avg_epoch_loss=1.26e+3, epoch=240]\n",
            "100%|██████████| 525/525 [00:25<00:00, 20.58it/s, avg_epoch_loss=1.45e+3, epoch=241]\n"
          ]
        },
        {
          "output_type": "stream",
          "name": "stdout",
          "text": [
            "Adjusting learning rate of group 0 to 1.0000e-04.\n"
          ]
        },
        {
          "output_type": "stream",
          "name": "stderr",
          "text": [
            "100%|██████████| 225/225 [00:03<00:00, 59.46it/s, valid_avg_epoch_loss=1.59e+3, epoch=241]\n",
            "100%|██████████| 525/525 [00:24<00:00, 21.40it/s, avg_epoch_loss=1.6e+3, epoch=242]\n"
          ]
        },
        {
          "output_type": "stream",
          "name": "stdout",
          "text": [
            "Adjusting learning rate of group 0 to 1.0000e-04.\n"
          ]
        },
        {
          "output_type": "stream",
          "name": "stderr",
          "text": [
            "100%|██████████| 225/225 [00:04<00:00, 53.14it/s, valid_avg_epoch_loss=1.35e+3, epoch=242]\n",
            "100%|██████████| 525/525 [00:24<00:00, 21.60it/s, avg_epoch_loss=1.75e+3, epoch=243]\n"
          ]
        },
        {
          "output_type": "stream",
          "name": "stdout",
          "text": [
            "Adjusting learning rate of group 0 to 1.0000e-04.\n"
          ]
        },
        {
          "output_type": "stream",
          "name": "stderr",
          "text": [
            "100%|██████████| 225/225 [00:04<00:00, 49.90it/s, valid_avg_epoch_loss=1.6e+3, epoch=243]\n",
            "100%|██████████| 525/525 [00:24<00:00, 21.53it/s, avg_epoch_loss=1.79e+3, epoch=244]\n"
          ]
        },
        {
          "output_type": "stream",
          "name": "stdout",
          "text": [
            "Adjusting learning rate of group 0 to 1.0000e-04.\n"
          ]
        },
        {
          "output_type": "stream",
          "name": "stderr",
          "text": [
            "100%|██████████| 225/225 [00:04<00:00, 56.19it/s, valid_avg_epoch_loss=1.52e+3, epoch=244]\n",
            "100%|██████████| 525/525 [00:24<00:00, 21.18it/s, avg_epoch_loss=1.78e+3, epoch=245]\n"
          ]
        },
        {
          "output_type": "stream",
          "name": "stdout",
          "text": [
            "Adjusting learning rate of group 0 to 1.0000e-04.\n"
          ]
        },
        {
          "output_type": "stream",
          "name": "stderr",
          "text": [
            "100%|██████████| 225/225 [00:03<00:00, 58.36it/s, valid_avg_epoch_loss=1.43e+3, epoch=245]\n",
            "100%|██████████| 525/525 [00:24<00:00, 21.15it/s, avg_epoch_loss=1.37e+3, epoch=246]\n"
          ]
        },
        {
          "output_type": "stream",
          "name": "stdout",
          "text": [
            "Adjusting learning rate of group 0 to 1.0000e-04.\n"
          ]
        },
        {
          "output_type": "stream",
          "name": "stderr",
          "text": [
            "100%|██████████| 225/225 [00:03<00:00, 58.77it/s, valid_avg_epoch_loss=1.69e+3, epoch=246]\n",
            "100%|██████████| 525/525 [00:24<00:00, 21.21it/s, avg_epoch_loss=1.3e+3, epoch=247]\n"
          ]
        },
        {
          "output_type": "stream",
          "name": "stdout",
          "text": [
            "Adjusting learning rate of group 0 to 1.0000e-04.\n"
          ]
        },
        {
          "output_type": "stream",
          "name": "stderr",
          "text": [
            "100%|██████████| 225/225 [00:03<00:00, 58.25it/s, valid_avg_epoch_loss=1.49e+3, epoch=247]\n",
            "100%|██████████| 525/525 [00:24<00:00, 21.19it/s, avg_epoch_loss=1.65e+3, epoch=248]\n"
          ]
        },
        {
          "output_type": "stream",
          "name": "stdout",
          "text": [
            "Adjusting learning rate of group 0 to 1.0000e-04.\n"
          ]
        },
        {
          "output_type": "stream",
          "name": "stderr",
          "text": [
            "100%|██████████| 225/225 [00:03<00:00, 56.70it/s, valid_avg_epoch_loss=1.7e+3, epoch=248]\n",
            "100%|██████████| 525/525 [00:24<00:00, 21.53it/s, avg_epoch_loss=1.3e+3, epoch=249]\n"
          ]
        },
        {
          "output_type": "stream",
          "name": "stdout",
          "text": [
            "Adjusting learning rate of group 0 to 1.0000e-04.\n"
          ]
        },
        {
          "output_type": "stream",
          "name": "stderr",
          "text": [
            "100%|██████████| 225/225 [00:04<00:00, 51.25it/s, valid_avg_epoch_loss=1.38e+3, epoch=249]\n",
            "100%|██████████| 525/525 [00:24<00:00, 21.56it/s, avg_epoch_loss=1.51e+3, epoch=250]\n"
          ]
        },
        {
          "output_type": "stream",
          "name": "stdout",
          "text": [
            "Adjusting learning rate of group 0 to 1.0000e-04.\n"
          ]
        },
        {
          "output_type": "stream",
          "name": "stderr",
          "text": [
            "100%|██████████| 225/225 [00:04<00:00, 50.44it/s, valid_avg_epoch_loss=1.76e+3, epoch=250]\n",
            "100%|██████████| 525/525 [00:24<00:00, 21.33it/s, avg_epoch_loss=1.55e+3, epoch=251]\n"
          ]
        },
        {
          "output_type": "stream",
          "name": "stdout",
          "text": [
            "Adjusting learning rate of group 0 to 1.0000e-04.\n"
          ]
        },
        {
          "output_type": "stream",
          "name": "stderr",
          "text": [
            "100%|██████████| 225/225 [00:04<00:00, 54.55it/s, valid_avg_epoch_loss=1.48e+3, epoch=251]\n",
            "100%|██████████| 525/525 [00:24<00:00, 21.29it/s, avg_epoch_loss=1.61e+3, epoch=252]\n"
          ]
        },
        {
          "output_type": "stream",
          "name": "stdout",
          "text": [
            "Adjusting learning rate of group 0 to 1.0000e-04.\n"
          ]
        },
        {
          "output_type": "stream",
          "name": "stderr",
          "text": [
            "100%|██████████| 225/225 [00:03<00:00, 60.05it/s, valid_avg_epoch_loss=1.48e+3, epoch=252]\n",
            "100%|██████████| 525/525 [00:24<00:00, 21.31it/s, avg_epoch_loss=1.54e+3, epoch=253]\n"
          ]
        },
        {
          "output_type": "stream",
          "name": "stdout",
          "text": [
            "Adjusting learning rate of group 0 to 1.0000e-04.\n"
          ]
        },
        {
          "output_type": "stream",
          "name": "stderr",
          "text": [
            "100%|██████████| 225/225 [00:03<00:00, 57.72it/s, valid_avg_epoch_loss=1.61e+3, epoch=253]\n",
            "100%|██████████| 525/525 [00:24<00:00, 21.27it/s, avg_epoch_loss=1.29e+3, epoch=254]\n"
          ]
        },
        {
          "output_type": "stream",
          "name": "stdout",
          "text": [
            "Adjusting learning rate of group 0 to 1.0000e-04.\n"
          ]
        },
        {
          "output_type": "stream",
          "name": "stderr",
          "text": [
            "100%|██████████| 225/225 [00:03<00:00, 57.90it/s, valid_avg_epoch_loss=1.69e+3, epoch=254]\n",
            "100%|██████████| 525/525 [00:24<00:00, 21.28it/s, avg_epoch_loss=1.7e+3, epoch=255]\n"
          ]
        },
        {
          "output_type": "stream",
          "name": "stdout",
          "text": [
            "Adjusting learning rate of group 0 to 1.0000e-04.\n"
          ]
        },
        {
          "output_type": "stream",
          "name": "stderr",
          "text": [
            "100%|██████████| 225/225 [00:04<00:00, 54.73it/s, valid_avg_epoch_loss=1.21e+3, epoch=255]\n",
            "100%|██████████| 525/525 [00:24<00:00, 21.34it/s, avg_epoch_loss=1.44e+3, epoch=256]\n"
          ]
        },
        {
          "output_type": "stream",
          "name": "stdout",
          "text": [
            "Adjusting learning rate of group 0 to 1.0000e-04.\n"
          ]
        },
        {
          "output_type": "stream",
          "name": "stderr",
          "text": [
            "100%|██████████| 225/225 [00:04<00:00, 50.50it/s, valid_avg_epoch_loss=2.09e+3, epoch=256]\n",
            "100%|██████████| 525/525 [00:24<00:00, 21.60it/s, avg_epoch_loss=1.42e+3, epoch=257]\n"
          ]
        },
        {
          "output_type": "stream",
          "name": "stdout",
          "text": [
            "Adjusting learning rate of group 0 to 1.0000e-04.\n"
          ]
        },
        {
          "output_type": "stream",
          "name": "stderr",
          "text": [
            "100%|██████████| 225/225 [00:04<00:00, 53.65it/s, valid_avg_epoch_loss=1.43e+3, epoch=257]\n",
            "100%|██████████| 525/525 [00:24<00:00, 21.53it/s, avg_epoch_loss=1.47e+3, epoch=258]\n"
          ]
        },
        {
          "output_type": "stream",
          "name": "stdout",
          "text": [
            "Adjusting learning rate of group 0 to 1.0000e-04.\n"
          ]
        },
        {
          "output_type": "stream",
          "name": "stderr",
          "text": [
            "100%|██████████| 225/225 [00:03<00:00, 59.56it/s, valid_avg_epoch_loss=1.57e+3, epoch=258]\n",
            "100%|██████████| 525/525 [00:24<00:00, 21.25it/s, avg_epoch_loss=1.68e+3, epoch=259]\n"
          ]
        },
        {
          "output_type": "stream",
          "name": "stdout",
          "text": [
            "Adjusting learning rate of group 0 to 1.0000e-04.\n"
          ]
        },
        {
          "output_type": "stream",
          "name": "stderr",
          "text": [
            "100%|██████████| 225/225 [00:03<00:00, 59.17it/s, valid_avg_epoch_loss=1.45e+3, epoch=259]\n",
            "100%|██████████| 525/525 [00:24<00:00, 21.33it/s, avg_epoch_loss=1.35e+3, epoch=260]\n"
          ]
        },
        {
          "output_type": "stream",
          "name": "stdout",
          "text": [
            "Adjusting learning rate of group 0 to 1.0000e-04.\n"
          ]
        },
        {
          "output_type": "stream",
          "name": "stderr",
          "text": [
            "100%|██████████| 225/225 [00:03<00:00, 60.45it/s, valid_avg_epoch_loss=1.29e+3, epoch=260]\n",
            "100%|██████████| 525/525 [00:24<00:00, 21.33it/s, avg_epoch_loss=1.53e+3, epoch=261]\n"
          ]
        },
        {
          "output_type": "stream",
          "name": "stdout",
          "text": [
            "Adjusting learning rate of group 0 to 1.0000e-04.\n"
          ]
        },
        {
          "output_type": "stream",
          "name": "stderr",
          "text": [
            "100%|██████████| 225/225 [00:03<00:00, 58.89it/s, valid_avg_epoch_loss=1.51e+3, epoch=261]\n",
            "100%|██████████| 525/525 [00:24<00:00, 21.41it/s, avg_epoch_loss=1.59e+3, epoch=262]\n"
          ]
        },
        {
          "output_type": "stream",
          "name": "stdout",
          "text": [
            "Adjusting learning rate of group 0 to 1.0000e-04.\n"
          ]
        },
        {
          "output_type": "stream",
          "name": "stderr",
          "text": [
            "100%|██████████| 225/225 [00:04<00:00, 52.57it/s, valid_avg_epoch_loss=1.48e+3, epoch=262]\n",
            "100%|██████████| 525/525 [00:24<00:00, 21.56it/s, avg_epoch_loss=1.69e+3, epoch=263]\n"
          ]
        },
        {
          "output_type": "stream",
          "name": "stdout",
          "text": [
            "Adjusting learning rate of group 0 to 1.0000e-04.\n"
          ]
        },
        {
          "output_type": "stream",
          "name": "stderr",
          "text": [
            "100%|██████████| 225/225 [00:04<00:00, 50.36it/s, valid_avg_epoch_loss=1.65e+3, epoch=263]\n",
            "100%|██████████| 525/525 [00:25<00:00, 20.79it/s, avg_epoch_loss=1.58e+3, epoch=264]\n"
          ]
        },
        {
          "output_type": "stream",
          "name": "stdout",
          "text": [
            "Adjusting learning rate of group 0 to 1.0000e-04.\n"
          ]
        },
        {
          "output_type": "stream",
          "name": "stderr",
          "text": [
            "100%|██████████| 225/225 [00:03<00:00, 59.23it/s, valid_avg_epoch_loss=1.41e+3, epoch=264]\n",
            "100%|██████████| 525/525 [00:24<00:00, 21.14it/s, avg_epoch_loss=1.42e+3, epoch=265]\n"
          ]
        },
        {
          "output_type": "stream",
          "name": "stdout",
          "text": [
            "Adjusting learning rate of group 0 to 1.0000e-04.\n"
          ]
        },
        {
          "output_type": "stream",
          "name": "stderr",
          "text": [
            "100%|██████████| 225/225 [00:03<00:00, 59.51it/s, valid_avg_epoch_loss=1.41e+3, epoch=265]\n",
            "100%|██████████| 525/525 [00:24<00:00, 21.19it/s, avg_epoch_loss=1.3e+3, epoch=266]\n"
          ]
        },
        {
          "output_type": "stream",
          "name": "stdout",
          "text": [
            "Adjusting learning rate of group 0 to 1.0000e-04.\n"
          ]
        },
        {
          "output_type": "stream",
          "name": "stderr",
          "text": [
            "100%|██████████| 225/225 [00:03<00:00, 57.50it/s, valid_avg_epoch_loss=1.63e+3, epoch=266]\n",
            "100%|██████████| 525/525 [00:24<00:00, 21.37it/s, avg_epoch_loss=1.38e+3, epoch=267]\n"
          ]
        },
        {
          "output_type": "stream",
          "name": "stdout",
          "text": [
            "Adjusting learning rate of group 0 to 1.0000e-04.\n"
          ]
        },
        {
          "output_type": "stream",
          "name": "stderr",
          "text": [
            "100%|██████████| 225/225 [00:04<00:00, 52.68it/s, valid_avg_epoch_loss=1.55e+3, epoch=267]\n",
            "100%|██████████| 525/525 [00:24<00:00, 21.50it/s, avg_epoch_loss=1.51e+3, epoch=268]\n"
          ]
        },
        {
          "output_type": "stream",
          "name": "stdout",
          "text": [
            "Adjusting learning rate of group 0 to 1.0000e-04.\n"
          ]
        },
        {
          "output_type": "stream",
          "name": "stderr",
          "text": [
            "100%|██████████| 225/225 [00:04<00:00, 49.63it/s, valid_avg_epoch_loss=1.39e+3, epoch=268]\n",
            "100%|██████████| 525/525 [00:24<00:00, 21.55it/s, avg_epoch_loss=1.56e+3, epoch=269]\n"
          ]
        },
        {
          "output_type": "stream",
          "name": "stdout",
          "text": [
            "Adjusting learning rate of group 0 to 1.0000e-04.\n"
          ]
        },
        {
          "output_type": "stream",
          "name": "stderr",
          "text": [
            "100%|██████████| 225/225 [00:03<00:00, 56.47it/s, valid_avg_epoch_loss=1.54e+3, epoch=269]\n",
            "100%|██████████| 525/525 [00:24<00:00, 21.36it/s, avg_epoch_loss=1.62e+3, epoch=270]\n"
          ]
        },
        {
          "output_type": "stream",
          "name": "stdout",
          "text": [
            "Adjusting learning rate of group 0 to 1.0000e-04.\n"
          ]
        },
        {
          "output_type": "stream",
          "name": "stderr",
          "text": [
            "100%|██████████| 225/225 [00:03<00:00, 59.49it/s, valid_avg_epoch_loss=1.67e+3, epoch=270]\n",
            "100%|██████████| 525/525 [00:24<00:00, 21.11it/s, avg_epoch_loss=1.41e+3, epoch=271]\n"
          ]
        },
        {
          "output_type": "stream",
          "name": "stdout",
          "text": [
            "Adjusting learning rate of group 0 to 1.0000e-04.\n"
          ]
        },
        {
          "output_type": "stream",
          "name": "stderr",
          "text": [
            "100%|██████████| 225/225 [00:03<00:00, 58.25it/s, valid_avg_epoch_loss=1.62e+3, epoch=271]\n",
            "100%|██████████| 525/525 [00:24<00:00, 21.20it/s, avg_epoch_loss=1.59e+3, epoch=272]\n"
          ]
        },
        {
          "output_type": "stream",
          "name": "stdout",
          "text": [
            "Adjusting learning rate of group 0 to 1.0000e-04.\n"
          ]
        },
        {
          "output_type": "stream",
          "name": "stderr",
          "text": [
            "100%|██████████| 225/225 [00:04<00:00, 55.04it/s, valid_avg_epoch_loss=1.84e+3, epoch=272]\n",
            "100%|██████████| 525/525 [00:24<00:00, 21.21it/s, avg_epoch_loss=1.37e+3, epoch=273]\n"
          ]
        },
        {
          "output_type": "stream",
          "name": "stdout",
          "text": [
            "Adjusting learning rate of group 0 to 1.0000e-04.\n"
          ]
        },
        {
          "output_type": "stream",
          "name": "stderr",
          "text": [
            "100%|██████████| 225/225 [00:04<00:00, 54.92it/s, valid_avg_epoch_loss=1.56e+3, epoch=273]\n",
            "100%|██████████| 525/525 [00:24<00:00, 21.38it/s, avg_epoch_loss=1.58e+3, epoch=274]\n"
          ]
        },
        {
          "output_type": "stream",
          "name": "stdout",
          "text": [
            "Adjusting learning rate of group 0 to 1.0000e-04.\n"
          ]
        },
        {
          "output_type": "stream",
          "name": "stderr",
          "text": [
            "100%|██████████| 225/225 [00:04<00:00, 52.19it/s, valid_avg_epoch_loss=1.42e+3, epoch=274]\n",
            "100%|██████████| 525/525 [00:24<00:00, 21.54it/s, avg_epoch_loss=1.34e+3, epoch=275]\n"
          ]
        },
        {
          "output_type": "stream",
          "name": "stdout",
          "text": [
            "Adjusting learning rate of group 0 to 1.0000e-04.\n"
          ]
        },
        {
          "output_type": "stream",
          "name": "stderr",
          "text": [
            "100%|██████████| 225/225 [00:04<00:00, 52.98it/s, valid_avg_epoch_loss=1.62e+3, epoch=275]\n",
            "100%|██████████| 525/525 [00:24<00:00, 21.33it/s, avg_epoch_loss=1.45e+3, epoch=276]\n"
          ]
        },
        {
          "output_type": "stream",
          "name": "stdout",
          "text": [
            "Adjusting learning rate of group 0 to 1.0000e-04.\n"
          ]
        },
        {
          "output_type": "stream",
          "name": "stderr",
          "text": [
            "100%|██████████| 225/225 [00:03<00:00, 58.36it/s, valid_avg_epoch_loss=1.71e+3, epoch=276]\n",
            "100%|██████████| 525/525 [00:24<00:00, 21.04it/s, avg_epoch_loss=1.42e+3, epoch=277]\n"
          ]
        },
        {
          "output_type": "stream",
          "name": "stdout",
          "text": [
            "Adjusting learning rate of group 0 to 1.0000e-04.\n"
          ]
        },
        {
          "output_type": "stream",
          "name": "stderr",
          "text": [
            "100%|██████████| 225/225 [00:03<00:00, 57.55it/s, valid_avg_epoch_loss=1.27e+3, epoch=277]\n",
            "100%|██████████| 525/525 [00:24<00:00, 21.20it/s, avg_epoch_loss=1.65e+3, epoch=278]\n"
          ]
        },
        {
          "output_type": "stream",
          "name": "stdout",
          "text": [
            "Adjusting learning rate of group 0 to 1.0000e-04.\n"
          ]
        },
        {
          "output_type": "stream",
          "name": "stderr",
          "text": [
            "100%|██████████| 225/225 [00:03<00:00, 58.99it/s, valid_avg_epoch_loss=1.35e+3, epoch=278]\n",
            "100%|██████████| 525/525 [00:24<00:00, 21.12it/s, avg_epoch_loss=1.38e+3, epoch=279]\n"
          ]
        },
        {
          "output_type": "stream",
          "name": "stdout",
          "text": [
            "Adjusting learning rate of group 0 to 1.0000e-04.\n"
          ]
        },
        {
          "output_type": "stream",
          "name": "stderr",
          "text": [
            "100%|██████████| 225/225 [00:03<00:00, 59.34it/s, valid_avg_epoch_loss=1.69e+3, epoch=279]\n",
            "100%|██████████| 525/525 [00:24<00:00, 21.31it/s, avg_epoch_loss=1.54e+3, epoch=280]\n"
          ]
        },
        {
          "output_type": "stream",
          "name": "stdout",
          "text": [
            "Adjusting learning rate of group 0 to 1.0000e-04.\n"
          ]
        },
        {
          "output_type": "stream",
          "name": "stderr",
          "text": [
            "100%|██████████| 225/225 [00:04<00:00, 54.31it/s, valid_avg_epoch_loss=1.4e+3, epoch=280]\n",
            "100%|██████████| 525/525 [00:24<00:00, 21.53it/s, avg_epoch_loss=1.48e+3, epoch=281]\n"
          ]
        },
        {
          "output_type": "stream",
          "name": "stdout",
          "text": [
            "Adjusting learning rate of group 0 to 1.0000e-04.\n"
          ]
        },
        {
          "output_type": "stream",
          "name": "stderr",
          "text": [
            "100%|██████████| 225/225 [00:04<00:00, 50.03it/s, valid_avg_epoch_loss=1.46e+3, epoch=281]\n",
            "100%|██████████| 525/525 [00:24<00:00, 21.44it/s, avg_epoch_loss=1.67e+3, epoch=282]\n"
          ]
        },
        {
          "output_type": "stream",
          "name": "stdout",
          "text": [
            "Adjusting learning rate of group 0 to 1.0000e-04.\n"
          ]
        },
        {
          "output_type": "stream",
          "name": "stderr",
          "text": [
            "100%|██████████| 225/225 [00:04<00:00, 52.82it/s, valid_avg_epoch_loss=1.64e+3, epoch=282]\n",
            "100%|██████████| 525/525 [00:24<00:00, 21.45it/s, avg_epoch_loss=1.71e+3, epoch=283]\n"
          ]
        },
        {
          "output_type": "stream",
          "name": "stdout",
          "text": [
            "Adjusting learning rate of group 0 to 1.0000e-04.\n"
          ]
        },
        {
          "output_type": "stream",
          "name": "stderr",
          "text": [
            "100%|██████████| 225/225 [00:03<00:00, 58.52it/s, valid_avg_epoch_loss=1.73e+3, epoch=283]\n",
            "100%|██████████| 525/525 [00:24<00:00, 21.26it/s, avg_epoch_loss=1.54e+3, epoch=284]\n"
          ]
        },
        {
          "output_type": "stream",
          "name": "stdout",
          "text": [
            "Adjusting learning rate of group 0 to 1.0000e-04.\n"
          ]
        },
        {
          "output_type": "stream",
          "name": "stderr",
          "text": [
            "100%|██████████| 225/225 [00:03<00:00, 58.03it/s, valid_avg_epoch_loss=1.52e+3, epoch=284]\n",
            "100%|██████████| 525/525 [00:24<00:00, 21.29it/s, avg_epoch_loss=1.9e+3, epoch=285]\n"
          ]
        },
        {
          "output_type": "stream",
          "name": "stdout",
          "text": [
            "Adjusting learning rate of group 0 to 1.0000e-04.\n"
          ]
        },
        {
          "output_type": "stream",
          "name": "stderr",
          "text": [
            "100%|██████████| 225/225 [00:03<00:00, 57.54it/s, valid_avg_epoch_loss=1.8e+3, epoch=285]\n",
            "100%|██████████| 525/525 [00:24<00:00, 21.33it/s, avg_epoch_loss=1.31e+3, epoch=286]\n"
          ]
        },
        {
          "output_type": "stream",
          "name": "stdout",
          "text": [
            "Adjusting learning rate of group 0 to 1.0000e-04.\n"
          ]
        },
        {
          "output_type": "stream",
          "name": "stderr",
          "text": [
            "100%|██████████| 225/225 [00:04<00:00, 54.81it/s, valid_avg_epoch_loss=1.29e+3, epoch=286]\n",
            "100%|██████████| 525/525 [00:24<00:00, 21.11it/s, avg_epoch_loss=1.38e+3, epoch=287]\n"
          ]
        },
        {
          "output_type": "stream",
          "name": "stdout",
          "text": [
            "Adjusting learning rate of group 0 to 1.0000e-04.\n"
          ]
        },
        {
          "output_type": "stream",
          "name": "stderr",
          "text": [
            "100%|██████████| 225/225 [00:04<00:00, 49.67it/s, valid_avg_epoch_loss=1.79e+3, epoch=287]\n",
            "100%|██████████| 525/525 [00:24<00:00, 21.24it/s, avg_epoch_loss=1.48e+3, epoch=288]\n"
          ]
        },
        {
          "output_type": "stream",
          "name": "stdout",
          "text": [
            "Adjusting learning rate of group 0 to 1.0000e-04.\n"
          ]
        },
        {
          "output_type": "stream",
          "name": "stderr",
          "text": [
            "100%|██████████| 225/225 [00:04<00:00, 54.28it/s, valid_avg_epoch_loss=1.41e+3, epoch=288]\n",
            "100%|██████████| 525/525 [00:24<00:00, 21.07it/s, avg_epoch_loss=1.53e+3, epoch=289]\n"
          ]
        },
        {
          "output_type": "stream",
          "name": "stdout",
          "text": [
            "Adjusting learning rate of group 0 to 1.0000e-04.\n"
          ]
        },
        {
          "output_type": "stream",
          "name": "stderr",
          "text": [
            "100%|██████████| 225/225 [00:03<00:00, 57.33it/s, valid_avg_epoch_loss=1.69e+3, epoch=289]\n",
            "100%|██████████| 525/525 [00:25<00:00, 20.97it/s, avg_epoch_loss=1.55e+3, epoch=290]\n"
          ]
        },
        {
          "output_type": "stream",
          "name": "stdout",
          "text": [
            "Adjusting learning rate of group 0 to 1.0000e-04.\n"
          ]
        },
        {
          "output_type": "stream",
          "name": "stderr",
          "text": [
            "100%|██████████| 225/225 [00:03<00:00, 56.84it/s, valid_avg_epoch_loss=1.52e+3, epoch=290]\n",
            "100%|██████████| 525/525 [00:24<00:00, 21.16it/s, avg_epoch_loss=1.48e+3, epoch=291]\n"
          ]
        },
        {
          "output_type": "stream",
          "name": "stdout",
          "text": [
            "Adjusting learning rate of group 0 to 1.0000e-04.\n"
          ]
        },
        {
          "output_type": "stream",
          "name": "stderr",
          "text": [
            "100%|██████████| 225/225 [00:03<00:00, 58.34it/s, valid_avg_epoch_loss=1.8e+3, epoch=291]\n",
            "100%|██████████| 525/525 [00:24<00:00, 21.14it/s, avg_epoch_loss=1.45e+3, epoch=292]\n"
          ]
        },
        {
          "output_type": "stream",
          "name": "stdout",
          "text": [
            "Adjusting learning rate of group 0 to 1.0000e-04.\n"
          ]
        },
        {
          "output_type": "stream",
          "name": "stderr",
          "text": [
            "100%|██████████| 225/225 [00:03<00:00, 58.72it/s, valid_avg_epoch_loss=1.36e+3, epoch=292]\n",
            "100%|██████████| 525/525 [00:24<00:00, 21.34it/s, avg_epoch_loss=1.39e+3, epoch=293]\n"
          ]
        },
        {
          "output_type": "stream",
          "name": "stdout",
          "text": [
            "Adjusting learning rate of group 0 to 1.0000e-04.\n"
          ]
        },
        {
          "output_type": "stream",
          "name": "stderr",
          "text": [
            "100%|██████████| 225/225 [00:04<00:00, 53.09it/s, valid_avg_epoch_loss=1.47e+3, epoch=293]\n",
            "100%|██████████| 525/525 [00:24<00:00, 21.47it/s, avg_epoch_loss=1.79e+3, epoch=294]\n"
          ]
        },
        {
          "output_type": "stream",
          "name": "stdout",
          "text": [
            "Adjusting learning rate of group 0 to 1.0000e-04.\n"
          ]
        },
        {
          "output_type": "stream",
          "name": "stderr",
          "text": [
            "100%|██████████| 225/225 [00:04<00:00, 51.07it/s, valid_avg_epoch_loss=1.34e+3, epoch=294]\n",
            "100%|██████████| 525/525 [00:24<00:00, 21.39it/s, avg_epoch_loss=1.58e+3, epoch=295]\n"
          ]
        },
        {
          "output_type": "stream",
          "name": "stdout",
          "text": [
            "Adjusting learning rate of group 0 to 1.0000e-04.\n"
          ]
        },
        {
          "output_type": "stream",
          "name": "stderr",
          "text": [
            "100%|██████████| 225/225 [00:04<00:00, 55.80it/s, valid_avg_epoch_loss=1.35e+3, epoch=295]\n",
            "100%|██████████| 525/525 [00:24<00:00, 21.26it/s, avg_epoch_loss=1.62e+3, epoch=296]\n"
          ]
        },
        {
          "output_type": "stream",
          "name": "stdout",
          "text": [
            "Adjusting learning rate of group 0 to 1.0000e-04.\n"
          ]
        },
        {
          "output_type": "stream",
          "name": "stderr",
          "text": [
            "100%|██████████| 225/225 [00:03<00:00, 60.06it/s, valid_avg_epoch_loss=1.78e+3, epoch=296]\n",
            "100%|██████████| 525/525 [00:24<00:00, 21.12it/s, avg_epoch_loss=1.52e+3, epoch=297]\n"
          ]
        },
        {
          "output_type": "stream",
          "name": "stdout",
          "text": [
            "Adjusting learning rate of group 0 to 1.0000e-04.\n"
          ]
        },
        {
          "output_type": "stream",
          "name": "stderr",
          "text": [
            "100%|██████████| 225/225 [00:03<00:00, 58.52it/s, valid_avg_epoch_loss=1.45e+3, epoch=297]\n",
            "100%|██████████| 525/525 [00:24<00:00, 21.09it/s, avg_epoch_loss=1.53e+3, epoch=298]\n"
          ]
        },
        {
          "output_type": "stream",
          "name": "stdout",
          "text": [
            "Adjusting learning rate of group 0 to 1.0000e-04.\n"
          ]
        },
        {
          "output_type": "stream",
          "name": "stderr",
          "text": [
            "100%|██████████| 225/225 [00:03<00:00, 59.39it/s, valid_avg_epoch_loss=1.31e+3, epoch=298]\n",
            "100%|██████████| 525/525 [00:24<00:00, 21.18it/s, avg_epoch_loss=1.24e+3, epoch=299]\n"
          ]
        },
        {
          "output_type": "stream",
          "name": "stdout",
          "text": [
            "Adjusting learning rate of group 0 to 1.0000e-05.\n"
          ]
        },
        {
          "output_type": "stream",
          "name": "stderr",
          "text": [
            "100%|██████████| 225/225 [00:04<00:00, 54.90it/s, valid_avg_epoch_loss=1.57e+3, epoch=299]\n",
            "100%|██████████| 525/525 [00:24<00:00, 21.24it/s, avg_epoch_loss=1.49e+3, epoch=300]\n"
          ]
        },
        {
          "output_type": "stream",
          "name": "stdout",
          "text": [
            "Adjusting learning rate of group 0 to 1.0000e-05.\n"
          ]
        },
        {
          "output_type": "stream",
          "name": "stderr",
          "text": [
            "100%|██████████| 225/225 [00:04<00:00, 48.44it/s, valid_avg_epoch_loss=1.56e+3, epoch=300]\n",
            "100%|██████████| 525/525 [00:24<00:00, 21.64it/s, avg_epoch_loss=1.44e+3, epoch=301]\n"
          ]
        },
        {
          "output_type": "stream",
          "name": "stdout",
          "text": [
            "Adjusting learning rate of group 0 to 1.0000e-05.\n"
          ]
        },
        {
          "output_type": "stream",
          "name": "stderr",
          "text": [
            "100%|██████████| 225/225 [00:04<00:00, 52.34it/s, valid_avg_epoch_loss=1.55e+3, epoch=301]\n",
            "100%|██████████| 525/525 [00:24<00:00, 21.21it/s, avg_epoch_loss=1.39e+3, epoch=302]\n"
          ]
        },
        {
          "output_type": "stream",
          "name": "stdout",
          "text": [
            "Adjusting learning rate of group 0 to 1.0000e-05.\n"
          ]
        },
        {
          "output_type": "stream",
          "name": "stderr",
          "text": [
            "100%|██████████| 225/225 [00:03<00:00, 57.41it/s, valid_avg_epoch_loss=1.58e+3, epoch=302]\n",
            "100%|██████████| 525/525 [00:24<00:00, 21.30it/s, avg_epoch_loss=1.48e+3, epoch=303]\n"
          ]
        },
        {
          "output_type": "stream",
          "name": "stdout",
          "text": [
            "Adjusting learning rate of group 0 to 1.0000e-05.\n"
          ]
        },
        {
          "output_type": "stream",
          "name": "stderr",
          "text": [
            "100%|██████████| 225/225 [00:03<00:00, 58.57it/s, valid_avg_epoch_loss=1.66e+3, epoch=303]\n",
            "100%|██████████| 525/525 [00:24<00:00, 21.32it/s, avg_epoch_loss=1.5e+3, epoch=304]\n"
          ]
        },
        {
          "output_type": "stream",
          "name": "stdout",
          "text": [
            "Adjusting learning rate of group 0 to 1.0000e-05.\n"
          ]
        },
        {
          "output_type": "stream",
          "name": "stderr",
          "text": [
            "100%|██████████| 225/225 [00:03<00:00, 58.55it/s, valid_avg_epoch_loss=1.66e+3, epoch=304]\n",
            "100%|██████████| 525/525 [00:24<00:00, 21.11it/s, avg_epoch_loss=1.46e+3, epoch=305]\n"
          ]
        },
        {
          "output_type": "stream",
          "name": "stdout",
          "text": [
            "Adjusting learning rate of group 0 to 1.0000e-05.\n"
          ]
        },
        {
          "output_type": "stream",
          "name": "stderr",
          "text": [
            "100%|██████████| 225/225 [00:03<00:00, 58.22it/s, valid_avg_epoch_loss=1.45e+3, epoch=305]\n",
            "100%|██████████| 525/525 [00:24<00:00, 21.31it/s, avg_epoch_loss=1.52e+3, epoch=306]\n"
          ]
        },
        {
          "output_type": "stream",
          "name": "stdout",
          "text": [
            "Adjusting learning rate of group 0 to 1.0000e-05.\n"
          ]
        },
        {
          "output_type": "stream",
          "name": "stderr",
          "text": [
            "100%|██████████| 225/225 [00:04<00:00, 52.91it/s, valid_avg_epoch_loss=1.85e+3, epoch=306]\n",
            "100%|██████████| 525/525 [00:24<00:00, 21.41it/s, avg_epoch_loss=1.4e+3, epoch=307]\n"
          ]
        },
        {
          "output_type": "stream",
          "name": "stdout",
          "text": [
            "Adjusting learning rate of group 0 to 1.0000e-05.\n"
          ]
        },
        {
          "output_type": "stream",
          "name": "stderr",
          "text": [
            "100%|██████████| 225/225 [00:04<00:00, 50.84it/s, valid_avg_epoch_loss=1.6e+3, epoch=307]\n",
            "100%|██████████| 525/525 [00:24<00:00, 21.48it/s, avg_epoch_loss=1.45e+3, epoch=308]\n"
          ]
        },
        {
          "output_type": "stream",
          "name": "stdout",
          "text": [
            "Adjusting learning rate of group 0 to 1.0000e-05.\n"
          ]
        },
        {
          "output_type": "stream",
          "name": "stderr",
          "text": [
            "100%|██████████| 225/225 [00:04<00:00, 54.84it/s, valid_avg_epoch_loss=1.58e+3, epoch=308]\n",
            "100%|██████████| 525/525 [00:25<00:00, 20.83it/s, avg_epoch_loss=1.67e+3, epoch=309]\n"
          ]
        },
        {
          "output_type": "stream",
          "name": "stdout",
          "text": [
            "Adjusting learning rate of group 0 to 1.0000e-05.\n"
          ]
        },
        {
          "output_type": "stream",
          "name": "stderr",
          "text": [
            "100%|██████████| 225/225 [00:04<00:00, 50.63it/s, valid_avg_epoch_loss=1.3e+3, epoch=309]\n",
            "100%|██████████| 525/525 [00:24<00:00, 21.44it/s, avg_epoch_loss=1.67e+3, epoch=310]\n"
          ]
        },
        {
          "output_type": "stream",
          "name": "stdout",
          "text": [
            "Adjusting learning rate of group 0 to 1.0000e-05.\n"
          ]
        },
        {
          "output_type": "stream",
          "name": "stderr",
          "text": [
            "100%|██████████| 225/225 [00:04<00:00, 49.79it/s, valid_avg_epoch_loss=1.42e+3, epoch=310]\n",
            "100%|██████████| 525/525 [00:24<00:00, 21.48it/s, avg_epoch_loss=1.4e+3, epoch=311]\n"
          ]
        },
        {
          "output_type": "stream",
          "name": "stdout",
          "text": [
            "Adjusting learning rate of group 0 to 1.0000e-05.\n"
          ]
        },
        {
          "output_type": "stream",
          "name": "stderr",
          "text": [
            "100%|██████████| 225/225 [00:04<00:00, 53.66it/s, valid_avg_epoch_loss=1.54e+3, epoch=311]\n",
            "100%|██████████| 525/525 [00:24<00:00, 21.26it/s, avg_epoch_loss=1.51e+3, epoch=312]\n"
          ]
        },
        {
          "output_type": "stream",
          "name": "stdout",
          "text": [
            "Adjusting learning rate of group 0 to 1.0000e-05.\n"
          ]
        },
        {
          "output_type": "stream",
          "name": "stderr",
          "text": [
            "100%|██████████| 225/225 [00:03<00:00, 58.52it/s, valid_avg_epoch_loss=1.18e+3, epoch=312]\n",
            "100%|██████████| 525/525 [00:24<00:00, 21.17it/s, avg_epoch_loss=1.55e+3, epoch=313]\n"
          ]
        },
        {
          "output_type": "stream",
          "name": "stdout",
          "text": [
            "Adjusting learning rate of group 0 to 1.0000e-05.\n"
          ]
        },
        {
          "output_type": "stream",
          "name": "stderr",
          "text": [
            "100%|██████████| 225/225 [00:03<00:00, 58.66it/s, valid_avg_epoch_loss=1.73e+3, epoch=313]\n",
            "100%|██████████| 525/525 [00:24<00:00, 21.04it/s, avg_epoch_loss=1.55e+3, epoch=314]\n"
          ]
        },
        {
          "output_type": "stream",
          "name": "stdout",
          "text": [
            "Adjusting learning rate of group 0 to 1.0000e-05.\n"
          ]
        },
        {
          "output_type": "stream",
          "name": "stderr",
          "text": [
            "100%|██████████| 225/225 [00:03<00:00, 58.65it/s, valid_avg_epoch_loss=1.48e+3, epoch=314]\n",
            "100%|██████████| 525/525 [00:24<00:00, 21.25it/s, avg_epoch_loss=1.39e+3, epoch=315]\n"
          ]
        },
        {
          "output_type": "stream",
          "name": "stdout",
          "text": [
            "Adjusting learning rate of group 0 to 1.0000e-05.\n"
          ]
        },
        {
          "output_type": "stream",
          "name": "stderr",
          "text": [
            "100%|██████████| 225/225 [00:03<00:00, 56.87it/s, valid_avg_epoch_loss=1.58e+3, epoch=315]\n",
            "100%|██████████| 525/525 [00:24<00:00, 21.34it/s, avg_epoch_loss=1.52e+3, epoch=316]\n"
          ]
        },
        {
          "output_type": "stream",
          "name": "stdout",
          "text": [
            "Adjusting learning rate of group 0 to 1.0000e-05.\n"
          ]
        },
        {
          "output_type": "stream",
          "name": "stderr",
          "text": [
            "100%|██████████| 225/225 [00:04<00:00, 52.56it/s, valid_avg_epoch_loss=1.33e+3, epoch=316]\n",
            "100%|██████████| 525/525 [00:24<00:00, 21.49it/s, avg_epoch_loss=1.28e+3, epoch=317]\n"
          ]
        },
        {
          "output_type": "stream",
          "name": "stdout",
          "text": [
            "Adjusting learning rate of group 0 to 1.0000e-05.\n"
          ]
        },
        {
          "output_type": "stream",
          "name": "stderr",
          "text": [
            "100%|██████████| 225/225 [00:04<00:00, 50.85it/s, valid_avg_epoch_loss=1.62e+3, epoch=317]\n",
            "100%|██████████| 525/525 [00:24<00:00, 21.31it/s, avg_epoch_loss=1.53e+3, epoch=318]\n"
          ]
        },
        {
          "output_type": "stream",
          "name": "stdout",
          "text": [
            "Adjusting learning rate of group 0 to 1.0000e-05.\n"
          ]
        },
        {
          "output_type": "stream",
          "name": "stderr",
          "text": [
            "100%|██████████| 225/225 [00:03<00:00, 56.54it/s, valid_avg_epoch_loss=1.61e+3, epoch=318]\n",
            "100%|██████████| 525/525 [00:24<00:00, 21.10it/s, avg_epoch_loss=1.48e+3, epoch=319]\n"
          ]
        },
        {
          "output_type": "stream",
          "name": "stdout",
          "text": [
            "Adjusting learning rate of group 0 to 1.0000e-05.\n"
          ]
        },
        {
          "output_type": "stream",
          "name": "stderr",
          "text": [
            "100%|██████████| 225/225 [00:03<00:00, 57.92it/s, valid_avg_epoch_loss=1.56e+3, epoch=319]\n",
            "100%|██████████| 525/525 [00:24<00:00, 21.18it/s, avg_epoch_loss=1.4e+3, epoch=320]\n"
          ]
        },
        {
          "output_type": "stream",
          "name": "stdout",
          "text": [
            "Adjusting learning rate of group 0 to 1.0000e-05.\n"
          ]
        },
        {
          "output_type": "stream",
          "name": "stderr",
          "text": [
            "100%|██████████| 225/225 [00:03<00:00, 59.18it/s, valid_avg_epoch_loss=1.4e+3, epoch=320]\n",
            "100%|██████████| 525/525 [00:24<00:00, 21.30it/s, avg_epoch_loss=1.44e+3, epoch=321]\n"
          ]
        },
        {
          "output_type": "stream",
          "name": "stdout",
          "text": [
            "Adjusting learning rate of group 0 to 1.0000e-05.\n"
          ]
        },
        {
          "output_type": "stream",
          "name": "stderr",
          "text": [
            "100%|██████████| 225/225 [00:03<00:00, 57.78it/s, valid_avg_epoch_loss=1.34e+3, epoch=321]\n",
            "100%|██████████| 525/525 [00:24<00:00, 21.24it/s, avg_epoch_loss=1.59e+3, epoch=322]\n"
          ]
        },
        {
          "output_type": "stream",
          "name": "stdout",
          "text": [
            "Adjusting learning rate of group 0 to 1.0000e-05.\n"
          ]
        },
        {
          "output_type": "stream",
          "name": "stderr",
          "text": [
            "100%|██████████| 225/225 [00:04<00:00, 51.88it/s, valid_avg_epoch_loss=1.3e+3, epoch=322]\n",
            "100%|██████████| 525/525 [00:24<00:00, 21.45it/s, avg_epoch_loss=1.73e+3, epoch=323]\n"
          ]
        },
        {
          "output_type": "stream",
          "name": "stdout",
          "text": [
            "Adjusting learning rate of group 0 to 1.0000e-05.\n"
          ]
        },
        {
          "output_type": "stream",
          "name": "stderr",
          "text": [
            "100%|██████████| 225/225 [00:04<00:00, 49.35it/s, valid_avg_epoch_loss=1.38e+3, epoch=323]\n",
            "100%|██████████| 525/525 [00:24<00:00, 21.46it/s, avg_epoch_loss=1.32e+3, epoch=324]\n"
          ]
        },
        {
          "output_type": "stream",
          "name": "stdout",
          "text": [
            "Adjusting learning rate of group 0 to 1.0000e-05.\n"
          ]
        },
        {
          "output_type": "stream",
          "name": "stderr",
          "text": [
            "100%|██████████| 225/225 [00:04<00:00, 55.09it/s, valid_avg_epoch_loss=1.31e+3, epoch=324]\n",
            "100%|██████████| 525/525 [00:24<00:00, 21.15it/s, avg_epoch_loss=1.54e+3, epoch=325]\n"
          ]
        },
        {
          "output_type": "stream",
          "name": "stdout",
          "text": [
            "Adjusting learning rate of group 0 to 1.0000e-05.\n"
          ]
        },
        {
          "output_type": "stream",
          "name": "stderr",
          "text": [
            "100%|██████████| 225/225 [00:03<00:00, 57.70it/s, valid_avg_epoch_loss=1.16e+3, epoch=325]\n"
          ]
        },
        {
          "output_type": "stream",
          "name": "stdout",
          "text": [
            "\n",
            "best loss is updated to  1156.3921066623263 at 325 \n",
            "\n"
          ]
        },
        {
          "output_type": "stream",
          "name": "stderr",
          "text": [
            "100%|██████████| 525/525 [00:24<00:00, 21.12it/s, avg_epoch_loss=1.37e+3, epoch=326]\n"
          ]
        },
        {
          "output_type": "stream",
          "name": "stdout",
          "text": [
            "Adjusting learning rate of group 0 to 1.0000e-05.\n"
          ]
        },
        {
          "output_type": "stream",
          "name": "stderr",
          "text": [
            "100%|██████████| 225/225 [00:03<00:00, 57.18it/s, valid_avg_epoch_loss=1.59e+3, epoch=326]\n",
            "100%|██████████| 525/525 [00:24<00:00, 21.11it/s, avg_epoch_loss=1.44e+3, epoch=327]\n"
          ]
        },
        {
          "output_type": "stream",
          "name": "stdout",
          "text": [
            "Adjusting learning rate of group 0 to 1.0000e-05.\n"
          ]
        },
        {
          "output_type": "stream",
          "name": "stderr",
          "text": [
            "100%|██████████| 225/225 [00:03<00:00, 57.16it/s, valid_avg_epoch_loss=1.48e+3, epoch=327]\n",
            "100%|██████████| 525/525 [00:24<00:00, 21.17it/s, avg_epoch_loss=1.33e+3, epoch=328]\n"
          ]
        },
        {
          "output_type": "stream",
          "name": "stdout",
          "text": [
            "Adjusting learning rate of group 0 to 1.0000e-05.\n"
          ]
        },
        {
          "output_type": "stream",
          "name": "stderr",
          "text": [
            "100%|██████████| 225/225 [00:04<00:00, 53.12it/s, valid_avg_epoch_loss=1.14e+3, epoch=328]\n"
          ]
        },
        {
          "output_type": "stream",
          "name": "stdout",
          "text": [
            "\n",
            "best loss is updated to  1139.023230963813 at 328 \n",
            "\n"
          ]
        },
        {
          "output_type": "stream",
          "name": "stderr",
          "text": [
            "100%|██████████| 525/525 [00:24<00:00, 21.42it/s, avg_epoch_loss=1.54e+3, epoch=329]\n"
          ]
        },
        {
          "output_type": "stream",
          "name": "stdout",
          "text": [
            "Adjusting learning rate of group 0 to 1.0000e-05.\n"
          ]
        },
        {
          "output_type": "stream",
          "name": "stderr",
          "text": [
            "100%|██████████| 225/225 [00:04<00:00, 50.72it/s, valid_avg_epoch_loss=1.65e+3, epoch=329]\n",
            "100%|██████████| 525/525 [00:24<00:00, 21.34it/s, avg_epoch_loss=1.3e+3, epoch=330]\n"
          ]
        },
        {
          "output_type": "stream",
          "name": "stdout",
          "text": [
            "Adjusting learning rate of group 0 to 1.0000e-05.\n"
          ]
        },
        {
          "output_type": "stream",
          "name": "stderr",
          "text": [
            "100%|██████████| 225/225 [00:04<00:00, 53.60it/s, valid_avg_epoch_loss=1.53e+3, epoch=330]\n",
            "100%|██████████| 525/525 [00:25<00:00, 20.90it/s, avg_epoch_loss=1.57e+3, epoch=331]\n"
          ]
        },
        {
          "output_type": "stream",
          "name": "stdout",
          "text": [
            "Adjusting learning rate of group 0 to 1.0000e-05.\n"
          ]
        },
        {
          "output_type": "stream",
          "name": "stderr",
          "text": [
            "100%|██████████| 225/225 [00:04<00:00, 52.11it/s, valid_avg_epoch_loss=1.82e+3, epoch=331]\n",
            "100%|██████████| 525/525 [00:25<00:00, 20.98it/s, avg_epoch_loss=1.38e+3, epoch=332]\n"
          ]
        },
        {
          "output_type": "stream",
          "name": "stdout",
          "text": [
            "Adjusting learning rate of group 0 to 1.0000e-05.\n"
          ]
        },
        {
          "output_type": "stream",
          "name": "stderr",
          "text": [
            "100%|██████████| 225/225 [00:03<00:00, 57.31it/s, valid_avg_epoch_loss=1.28e+3, epoch=332]\n",
            "100%|██████████| 525/525 [00:25<00:00, 20.98it/s, avg_epoch_loss=1.47e+3, epoch=333]\n"
          ]
        },
        {
          "output_type": "stream",
          "name": "stdout",
          "text": [
            "Adjusting learning rate of group 0 to 1.0000e-05.\n"
          ]
        },
        {
          "output_type": "stream",
          "name": "stderr",
          "text": [
            "100%|██████████| 225/225 [00:03<00:00, 57.73it/s, valid_avg_epoch_loss=1.51e+3, epoch=333]\n",
            "100%|██████████| 525/525 [00:24<00:00, 21.02it/s, avg_epoch_loss=1.23e+3, epoch=334]\n"
          ]
        },
        {
          "output_type": "stream",
          "name": "stdout",
          "text": [
            "Adjusting learning rate of group 0 to 1.0000e-05.\n"
          ]
        },
        {
          "output_type": "stream",
          "name": "stderr",
          "text": [
            "100%|██████████| 225/225 [00:03<00:00, 57.81it/s, valid_avg_epoch_loss=1.31e+3, epoch=334]\n",
            "100%|██████████| 525/525 [00:24<00:00, 21.21it/s, avg_epoch_loss=1.73e+3, epoch=335]\n"
          ]
        },
        {
          "output_type": "stream",
          "name": "stdout",
          "text": [
            "Adjusting learning rate of group 0 to 1.0000e-05.\n"
          ]
        },
        {
          "output_type": "stream",
          "name": "stderr",
          "text": [
            "100%|██████████| 225/225 [00:04<00:00, 52.55it/s, valid_avg_epoch_loss=1.4e+3, epoch=335]\n",
            "100%|██████████| 525/525 [00:24<00:00, 21.28it/s, avg_epoch_loss=1.55e+3, epoch=336]\n"
          ]
        },
        {
          "output_type": "stream",
          "name": "stdout",
          "text": [
            "Adjusting learning rate of group 0 to 1.0000e-05.\n"
          ]
        },
        {
          "output_type": "stream",
          "name": "stderr",
          "text": [
            "100%|██████████| 225/225 [00:04<00:00, 48.93it/s, valid_avg_epoch_loss=1.89e+3, epoch=336]\n",
            "100%|██████████| 525/525 [00:24<00:00, 21.35it/s, avg_epoch_loss=1.49e+3, epoch=337]\n"
          ]
        },
        {
          "output_type": "stream",
          "name": "stdout",
          "text": [
            "Adjusting learning rate of group 0 to 1.0000e-05.\n"
          ]
        },
        {
          "output_type": "stream",
          "name": "stderr",
          "text": [
            "100%|██████████| 225/225 [00:04<00:00, 53.89it/s, valid_avg_epoch_loss=1.44e+3, epoch=337]\n",
            "100%|██████████| 525/525 [00:24<00:00, 21.19it/s, avg_epoch_loss=1.62e+3, epoch=338]\n"
          ]
        },
        {
          "output_type": "stream",
          "name": "stdout",
          "text": [
            "Adjusting learning rate of group 0 to 1.0000e-05.\n"
          ]
        },
        {
          "output_type": "stream",
          "name": "stderr",
          "text": [
            "100%|██████████| 225/225 [00:03<00:00, 57.47it/s, valid_avg_epoch_loss=1.54e+3, epoch=338]\n",
            "100%|██████████| 525/525 [00:25<00:00, 20.97it/s, avg_epoch_loss=1.39e+3, epoch=339]\n"
          ]
        },
        {
          "output_type": "stream",
          "name": "stdout",
          "text": [
            "Adjusting learning rate of group 0 to 1.0000e-05.\n"
          ]
        },
        {
          "output_type": "stream",
          "name": "stderr",
          "text": [
            "100%|██████████| 225/225 [00:03<00:00, 57.27it/s, valid_avg_epoch_loss=1.27e+3, epoch=339]\n",
            "100%|██████████| 525/525 [00:24<00:00, 21.18it/s, avg_epoch_loss=1.4e+3, epoch=340]\n"
          ]
        },
        {
          "output_type": "stream",
          "name": "stdout",
          "text": [
            "Adjusting learning rate of group 0 to 1.0000e-05.\n"
          ]
        },
        {
          "output_type": "stream",
          "name": "stderr",
          "text": [
            "100%|██████████| 225/225 [00:03<00:00, 56.58it/s, valid_avg_epoch_loss=1.37e+3, epoch=340]\n",
            "100%|██████████| 525/525 [00:24<00:00, 21.23it/s, avg_epoch_loss=1.31e+3, epoch=341]\n"
          ]
        },
        {
          "output_type": "stream",
          "name": "stdout",
          "text": [
            "Adjusting learning rate of group 0 to 1.0000e-05.\n"
          ]
        },
        {
          "output_type": "stream",
          "name": "stderr",
          "text": [
            "100%|██████████| 225/225 [00:04<00:00, 49.92it/s, valid_avg_epoch_loss=1.25e+3, epoch=341]\n",
            "100%|██████████| 525/525 [00:24<00:00, 21.34it/s, avg_epoch_loss=1.36e+3, epoch=342]\n"
          ]
        },
        {
          "output_type": "stream",
          "name": "stdout",
          "text": [
            "Adjusting learning rate of group 0 to 1.0000e-05.\n"
          ]
        },
        {
          "output_type": "stream",
          "name": "stderr",
          "text": [
            "100%|██████████| 225/225 [00:04<00:00, 49.80it/s, valid_avg_epoch_loss=1.49e+3, epoch=342]\n",
            "100%|██████████| 525/525 [00:24<00:00, 21.15it/s, avg_epoch_loss=1.53e+3, epoch=343]\n"
          ]
        },
        {
          "output_type": "stream",
          "name": "stdout",
          "text": [
            "Adjusting learning rate of group 0 to 1.0000e-05.\n"
          ]
        },
        {
          "output_type": "stream",
          "name": "stderr",
          "text": [
            "100%|██████████| 225/225 [00:04<00:00, 54.81it/s, valid_avg_epoch_loss=1.38e+3, epoch=343]\n",
            "100%|██████████| 525/525 [00:24<00:00, 21.12it/s, avg_epoch_loss=1.73e+3, epoch=344]\n"
          ]
        },
        {
          "output_type": "stream",
          "name": "stdout",
          "text": [
            "Adjusting learning rate of group 0 to 1.0000e-05.\n"
          ]
        },
        {
          "output_type": "stream",
          "name": "stderr",
          "text": [
            "100%|██████████| 225/225 [00:03<00:00, 57.94it/s, valid_avg_epoch_loss=1.48e+3, epoch=344]\n",
            "100%|██████████| 525/525 [00:24<00:00, 21.03it/s, avg_epoch_loss=1.3e+3, epoch=345]\n"
          ]
        },
        {
          "output_type": "stream",
          "name": "stdout",
          "text": [
            "Adjusting learning rate of group 0 to 1.0000e-05.\n"
          ]
        },
        {
          "output_type": "stream",
          "name": "stderr",
          "text": [
            "100%|██████████| 225/225 [00:03<00:00, 57.52it/s, valid_avg_epoch_loss=1.38e+3, epoch=345]\n",
            "100%|██████████| 525/525 [00:24<00:00, 21.20it/s, avg_epoch_loss=1.52e+3, epoch=346]\n"
          ]
        },
        {
          "output_type": "stream",
          "name": "stdout",
          "text": [
            "Adjusting learning rate of group 0 to 1.0000e-05.\n"
          ]
        },
        {
          "output_type": "stream",
          "name": "stderr",
          "text": [
            "100%|██████████| 225/225 [00:04<00:00, 53.45it/s, valid_avg_epoch_loss=1.31e+3, epoch=346]\n",
            "100%|██████████| 525/525 [00:24<00:00, 21.42it/s, avg_epoch_loss=1.45e+3, epoch=347]\n"
          ]
        },
        {
          "output_type": "stream",
          "name": "stdout",
          "text": [
            "Adjusting learning rate of group 0 to 1.0000e-05.\n"
          ]
        },
        {
          "output_type": "stream",
          "name": "stderr",
          "text": [
            "100%|██████████| 225/225 [00:04<00:00, 50.99it/s, valid_avg_epoch_loss=1.87e+3, epoch=347]\n",
            "100%|██████████| 525/525 [00:24<00:00, 21.39it/s, avg_epoch_loss=1.37e+3, epoch=348]\n"
          ]
        },
        {
          "output_type": "stream",
          "name": "stdout",
          "text": [
            "Adjusting learning rate of group 0 to 1.0000e-05.\n"
          ]
        },
        {
          "output_type": "stream",
          "name": "stderr",
          "text": [
            "100%|██████████| 225/225 [00:04<00:00, 54.39it/s, valid_avg_epoch_loss=1.44e+3, epoch=348]\n",
            "100%|██████████| 525/525 [00:24<00:00, 21.12it/s, avg_epoch_loss=1.5e+3, epoch=349]\n"
          ]
        },
        {
          "output_type": "stream",
          "name": "stdout",
          "text": [
            "Adjusting learning rate of group 0 to 1.0000e-05.\n"
          ]
        },
        {
          "output_type": "stream",
          "name": "stderr",
          "text": [
            "100%|██████████| 225/225 [00:03<00:00, 57.12it/s, valid_avg_epoch_loss=1.23e+3, epoch=349]\n",
            "100%|██████████| 525/525 [00:24<00:00, 21.15it/s, avg_epoch_loss=1.38e+3, epoch=350]\n"
          ]
        },
        {
          "output_type": "stream",
          "name": "stdout",
          "text": [
            "Adjusting learning rate of group 0 to 1.0000e-05.\n"
          ]
        },
        {
          "output_type": "stream",
          "name": "stderr",
          "text": [
            "100%|██████████| 225/225 [00:03<00:00, 58.05it/s, valid_avg_epoch_loss=1.7e+3, epoch=350]\n",
            "100%|██████████| 525/525 [00:24<00:00, 21.05it/s, avg_epoch_loss=1.59e+3, epoch=351]\n"
          ]
        },
        {
          "output_type": "stream",
          "name": "stdout",
          "text": [
            "Adjusting learning rate of group 0 to 1.0000e-05.\n"
          ]
        },
        {
          "output_type": "stream",
          "name": "stderr",
          "text": [
            "100%|██████████| 225/225 [00:03<00:00, 56.43it/s, valid_avg_epoch_loss=1.83e+3, epoch=351]\n",
            "100%|██████████| 525/525 [00:24<00:00, 21.21it/s, avg_epoch_loss=1.45e+3, epoch=352]\n"
          ]
        },
        {
          "output_type": "stream",
          "name": "stdout",
          "text": [
            "Adjusting learning rate of group 0 to 1.0000e-05.\n"
          ]
        },
        {
          "output_type": "stream",
          "name": "stderr",
          "text": [
            "100%|██████████| 225/225 [00:04<00:00, 51.38it/s, valid_avg_epoch_loss=1.69e+3, epoch=352]\n",
            "100%|██████████| 525/525 [00:25<00:00, 20.96it/s, avg_epoch_loss=1.22e+3, epoch=353]\n"
          ]
        },
        {
          "output_type": "stream",
          "name": "stdout",
          "text": [
            "Adjusting learning rate of group 0 to 1.0000e-05.\n"
          ]
        },
        {
          "output_type": "stream",
          "name": "stderr",
          "text": [
            "100%|██████████| 225/225 [00:04<00:00, 46.92it/s, valid_avg_epoch_loss=1.6e+3, epoch=353]\n",
            "100%|██████████| 525/525 [00:25<00:00, 20.97it/s, avg_epoch_loss=1.54e+3, epoch=354]\n"
          ]
        },
        {
          "output_type": "stream",
          "name": "stdout",
          "text": [
            "Adjusting learning rate of group 0 to 1.0000e-05.\n"
          ]
        },
        {
          "output_type": "stream",
          "name": "stderr",
          "text": [
            "100%|██████████| 225/225 [00:03<00:00, 56.68it/s, valid_avg_epoch_loss=1.35e+3, epoch=354]\n",
            "100%|██████████| 525/525 [00:25<00:00, 20.96it/s, avg_epoch_loss=1.35e+3, epoch=355]\n"
          ]
        },
        {
          "output_type": "stream",
          "name": "stdout",
          "text": [
            "Adjusting learning rate of group 0 to 1.0000e-05.\n"
          ]
        },
        {
          "output_type": "stream",
          "name": "stderr",
          "text": [
            "100%|██████████| 225/225 [00:03<00:00, 56.82it/s, valid_avg_epoch_loss=1.39e+3, epoch=355]\n",
            "100%|██████████| 525/525 [00:25<00:00, 20.98it/s, avg_epoch_loss=1.33e+3, epoch=356]\n"
          ]
        },
        {
          "output_type": "stream",
          "name": "stdout",
          "text": [
            "Adjusting learning rate of group 0 to 1.0000e-05.\n"
          ]
        },
        {
          "output_type": "stream",
          "name": "stderr",
          "text": [
            "100%|██████████| 225/225 [00:03<00:00, 56.56it/s, valid_avg_epoch_loss=1.16e+3, epoch=356]\n",
            "100%|██████████| 525/525 [00:24<00:00, 21.16it/s, avg_epoch_loss=1.51e+3, epoch=357]\n"
          ]
        },
        {
          "output_type": "stream",
          "name": "stdout",
          "text": [
            "Adjusting learning rate of group 0 to 1.0000e-05.\n"
          ]
        },
        {
          "output_type": "stream",
          "name": "stderr",
          "text": [
            "100%|██████████| 225/225 [00:04<00:00, 53.31it/s, valid_avg_epoch_loss=1.78e+3, epoch=357]\n",
            "100%|██████████| 525/525 [00:24<00:00, 21.43it/s, avg_epoch_loss=1.54e+3, epoch=358]\n"
          ]
        },
        {
          "output_type": "stream",
          "name": "stdout",
          "text": [
            "Adjusting learning rate of group 0 to 1.0000e-05.\n"
          ]
        },
        {
          "output_type": "stream",
          "name": "stderr",
          "text": [
            "100%|██████████| 225/225 [00:04<00:00, 51.95it/s, valid_avg_epoch_loss=1.66e+3, epoch=358]\n",
            "100%|██████████| 525/525 [00:24<00:00, 21.37it/s, avg_epoch_loss=1.56e+3, epoch=359]\n"
          ]
        },
        {
          "output_type": "stream",
          "name": "stdout",
          "text": [
            "Adjusting learning rate of group 0 to 1.0000e-05.\n"
          ]
        },
        {
          "output_type": "stream",
          "name": "stderr",
          "text": [
            "100%|██████████| 225/225 [00:04<00:00, 54.61it/s, valid_avg_epoch_loss=1.33e+3, epoch=359]\n",
            "100%|██████████| 525/525 [00:24<00:00, 21.24it/s, avg_epoch_loss=1.46e+3, epoch=360]\n"
          ]
        },
        {
          "output_type": "stream",
          "name": "stdout",
          "text": [
            "Adjusting learning rate of group 0 to 1.0000e-05.\n"
          ]
        },
        {
          "output_type": "stream",
          "name": "stderr",
          "text": [
            "100%|██████████| 225/225 [00:03<00:00, 58.09it/s, valid_avg_epoch_loss=1.44e+3, epoch=360]\n",
            "100%|██████████| 525/525 [00:24<00:00, 21.16it/s, avg_epoch_loss=1.52e+3, epoch=361]\n"
          ]
        },
        {
          "output_type": "stream",
          "name": "stdout",
          "text": [
            "Adjusting learning rate of group 0 to 1.0000e-05.\n"
          ]
        },
        {
          "output_type": "stream",
          "name": "stderr",
          "text": [
            "100%|██████████| 225/225 [00:03<00:00, 56.99it/s, valid_avg_epoch_loss=1.72e+3, epoch=361]\n",
            "100%|██████████| 525/525 [00:25<00:00, 20.93it/s, avg_epoch_loss=1.46e+3, epoch=362]\n"
          ]
        },
        {
          "output_type": "stream",
          "name": "stdout",
          "text": [
            "Adjusting learning rate of group 0 to 1.0000e-05.\n"
          ]
        },
        {
          "output_type": "stream",
          "name": "stderr",
          "text": [
            "100%|██████████| 225/225 [00:03<00:00, 57.16it/s, valid_avg_epoch_loss=1.02e+3, epoch=362]\n"
          ]
        },
        {
          "output_type": "stream",
          "name": "stdout",
          "text": [
            "\n",
            "best loss is updated to  1021.7815670437283 at 362 \n",
            "\n"
          ]
        },
        {
          "output_type": "stream",
          "name": "stderr",
          "text": [
            "100%|██████████| 525/525 [00:24<00:00, 21.36it/s, avg_epoch_loss=1.59e+3, epoch=363]\n"
          ]
        },
        {
          "output_type": "stream",
          "name": "stdout",
          "text": [
            "Adjusting learning rate of group 0 to 1.0000e-05.\n"
          ]
        },
        {
          "output_type": "stream",
          "name": "stderr",
          "text": [
            "100%|██████████| 225/225 [00:04<00:00, 48.78it/s, valid_avg_epoch_loss=1.39e+3, epoch=363]\n",
            "100%|██████████| 525/525 [00:24<00:00, 21.48it/s, avg_epoch_loss=1.46e+3, epoch=364]\n"
          ]
        },
        {
          "output_type": "stream",
          "name": "stdout",
          "text": [
            "Adjusting learning rate of group 0 to 1.0000e-05.\n"
          ]
        },
        {
          "output_type": "stream",
          "name": "stderr",
          "text": [
            "100%|██████████| 225/225 [00:04<00:00, 49.95it/s, valid_avg_epoch_loss=1.22e+3, epoch=364]\n",
            "100%|██████████| 525/525 [00:24<00:00, 21.29it/s, avg_epoch_loss=1.43e+3, epoch=365]\n"
          ]
        },
        {
          "output_type": "stream",
          "name": "stdout",
          "text": [
            "Adjusting learning rate of group 0 to 1.0000e-05.\n"
          ]
        },
        {
          "output_type": "stream",
          "name": "stderr",
          "text": [
            "100%|██████████| 225/225 [00:04<00:00, 56.16it/s, valid_avg_epoch_loss=1.4e+3, epoch=365]\n",
            "100%|██████████| 525/525 [00:24<00:00, 21.16it/s, avg_epoch_loss=1.5e+3, epoch=366]\n"
          ]
        },
        {
          "output_type": "stream",
          "name": "stdout",
          "text": [
            "Adjusting learning rate of group 0 to 1.0000e-05.\n"
          ]
        },
        {
          "output_type": "stream",
          "name": "stderr",
          "text": [
            "100%|██████████| 225/225 [00:03<00:00, 58.83it/s, valid_avg_epoch_loss=1.35e+3, epoch=366]\n",
            "100%|██████████| 525/525 [00:24<00:00, 21.28it/s, avg_epoch_loss=1.68e+3, epoch=367]\n"
          ]
        },
        {
          "output_type": "stream",
          "name": "stdout",
          "text": [
            "Adjusting learning rate of group 0 to 1.0000e-05.\n"
          ]
        },
        {
          "output_type": "stream",
          "name": "stderr",
          "text": [
            "100%|██████████| 225/225 [00:03<00:00, 57.92it/s, valid_avg_epoch_loss=1.17e+3, epoch=367]\n",
            "100%|██████████| 525/525 [00:24<00:00, 21.23it/s, avg_epoch_loss=1.32e+3, epoch=368]\n"
          ]
        },
        {
          "output_type": "stream",
          "name": "stdout",
          "text": [
            "Adjusting learning rate of group 0 to 1.0000e-05.\n"
          ]
        },
        {
          "output_type": "stream",
          "name": "stderr",
          "text": [
            "100%|██████████| 225/225 [00:04<00:00, 54.00it/s, valid_avg_epoch_loss=1.34e+3, epoch=368]\n",
            "100%|██████████| 525/525 [00:24<00:00, 21.28it/s, avg_epoch_loss=1.45e+3, epoch=369]\n"
          ]
        },
        {
          "output_type": "stream",
          "name": "stdout",
          "text": [
            "Adjusting learning rate of group 0 to 1.0000e-05.\n"
          ]
        },
        {
          "output_type": "stream",
          "name": "stderr",
          "text": [
            "100%|██████████| 225/225 [00:04<00:00, 50.98it/s, valid_avg_epoch_loss=1.51e+3, epoch=369]\n",
            "100%|██████████| 525/525 [00:24<00:00, 21.40it/s, avg_epoch_loss=1.66e+3, epoch=370]\n"
          ]
        },
        {
          "output_type": "stream",
          "name": "stdout",
          "text": [
            "Adjusting learning rate of group 0 to 1.0000e-05.\n"
          ]
        },
        {
          "output_type": "stream",
          "name": "stderr",
          "text": [
            "100%|██████████| 225/225 [00:04<00:00, 52.96it/s, valid_avg_epoch_loss=1.46e+3, epoch=370]\n",
            "100%|██████████| 525/525 [00:24<00:00, 21.33it/s, avg_epoch_loss=1.37e+3, epoch=371]\n"
          ]
        },
        {
          "output_type": "stream",
          "name": "stdout",
          "text": [
            "Adjusting learning rate of group 0 to 1.0000e-05.\n"
          ]
        },
        {
          "output_type": "stream",
          "name": "stderr",
          "text": [
            "100%|██████████| 225/225 [00:03<00:00, 57.90it/s, valid_avg_epoch_loss=1.75e+3, epoch=371]\n",
            "100%|██████████| 525/525 [00:24<00:00, 21.17it/s, avg_epoch_loss=1.47e+3, epoch=372]\n"
          ]
        },
        {
          "output_type": "stream",
          "name": "stdout",
          "text": [
            "Adjusting learning rate of group 0 to 1.0000e-05.\n"
          ]
        },
        {
          "output_type": "stream",
          "name": "stderr",
          "text": [
            "100%|██████████| 225/225 [00:03<00:00, 57.36it/s, valid_avg_epoch_loss=1.83e+3, epoch=372]\n",
            "100%|██████████| 525/525 [00:24<00:00, 21.14it/s, avg_epoch_loss=1.48e+3, epoch=373]\n"
          ]
        },
        {
          "output_type": "stream",
          "name": "stdout",
          "text": [
            "Adjusting learning rate of group 0 to 1.0000e-05.\n"
          ]
        },
        {
          "output_type": "stream",
          "name": "stderr",
          "text": [
            "100%|██████████| 225/225 [00:03<00:00, 58.00it/s, valid_avg_epoch_loss=1.45e+3, epoch=373]\n",
            "100%|██████████| 525/525 [00:24<00:00, 21.39it/s, avg_epoch_loss=1.49e+3, epoch=374]\n"
          ]
        },
        {
          "output_type": "stream",
          "name": "stdout",
          "text": [
            "Adjusting learning rate of group 0 to 1.0000e-05.\n"
          ]
        },
        {
          "output_type": "stream",
          "name": "stderr",
          "text": [
            "100%|██████████| 225/225 [00:04<00:00, 50.20it/s, valid_avg_epoch_loss=1.57e+3, epoch=374]\n",
            "100%|██████████| 525/525 [00:25<00:00, 20.91it/s, avg_epoch_loss=1.25e+3, epoch=375]\n"
          ]
        },
        {
          "output_type": "stream",
          "name": "stdout",
          "text": [
            "Adjusting learning rate of group 0 to 1.0000e-05.\n"
          ]
        },
        {
          "output_type": "stream",
          "name": "stderr",
          "text": [
            "100%|██████████| 225/225 [00:04<00:00, 52.25it/s, valid_avg_epoch_loss=1.66e+3, epoch=375]\n",
            "100%|██████████| 525/525 [00:24<00:00, 21.12it/s, avg_epoch_loss=1.63e+3, epoch=376]\n"
          ]
        },
        {
          "output_type": "stream",
          "name": "stdout",
          "text": [
            "Adjusting learning rate of group 0 to 1.0000e-05.\n"
          ]
        },
        {
          "output_type": "stream",
          "name": "stderr",
          "text": [
            "100%|██████████| 225/225 [00:03<00:00, 56.46it/s, valid_avg_epoch_loss=1.32e+3, epoch=376]\n",
            "100%|██████████| 525/525 [00:24<00:00, 21.12it/s, avg_epoch_loss=1.26e+3, epoch=377]\n"
          ]
        },
        {
          "output_type": "stream",
          "name": "stdout",
          "text": [
            "Adjusting learning rate of group 0 to 1.0000e-05.\n"
          ]
        },
        {
          "output_type": "stream",
          "name": "stderr",
          "text": [
            "100%|██████████| 225/225 [00:03<00:00, 57.41it/s, valid_avg_epoch_loss=1.11e+3, epoch=377]\n",
            "100%|██████████| 525/525 [00:24<00:00, 21.21it/s, avg_epoch_loss=1.45e+3, epoch=378]\n"
          ]
        },
        {
          "output_type": "stream",
          "name": "stdout",
          "text": [
            "Adjusting learning rate of group 0 to 1.0000e-05.\n"
          ]
        },
        {
          "output_type": "stream",
          "name": "stderr",
          "text": [
            "100%|██████████| 225/225 [00:03<00:00, 57.09it/s, valid_avg_epoch_loss=1.24e+3, epoch=378]\n",
            "100%|██████████| 525/525 [00:24<00:00, 21.28it/s, avg_epoch_loss=1.37e+3, epoch=379]\n"
          ]
        },
        {
          "output_type": "stream",
          "name": "stdout",
          "text": [
            "Adjusting learning rate of group 0 to 1.0000e-05.\n"
          ]
        },
        {
          "output_type": "stream",
          "name": "stderr",
          "text": [
            "100%|██████████| 225/225 [00:04<00:00, 50.11it/s, valid_avg_epoch_loss=1.22e+3, epoch=379]\n",
            "100%|██████████| 525/525 [00:24<00:00, 21.47it/s, avg_epoch_loss=1.5e+3, epoch=380]\n"
          ]
        },
        {
          "output_type": "stream",
          "name": "stdout",
          "text": [
            "Adjusting learning rate of group 0 to 1.0000e-05.\n"
          ]
        },
        {
          "output_type": "stream",
          "name": "stderr",
          "text": [
            "100%|██████████| 225/225 [00:04<00:00, 48.60it/s, valid_avg_epoch_loss=1.24e+3, epoch=380]\n",
            "100%|██████████| 525/525 [00:24<00:00, 21.33it/s, avg_epoch_loss=1.48e+3, epoch=381]\n"
          ]
        },
        {
          "output_type": "stream",
          "name": "stdout",
          "text": [
            "Adjusting learning rate of group 0 to 1.0000e-05.\n"
          ]
        },
        {
          "output_type": "stream",
          "name": "stderr",
          "text": [
            "100%|██████████| 225/225 [00:03<00:00, 56.62it/s, valid_avg_epoch_loss=1.55e+3, epoch=381]\n",
            "100%|██████████| 525/525 [00:24<00:00, 21.15it/s, avg_epoch_loss=1.33e+3, epoch=382]\n"
          ]
        },
        {
          "output_type": "stream",
          "name": "stdout",
          "text": [
            "Adjusting learning rate of group 0 to 1.0000e-05.\n"
          ]
        },
        {
          "output_type": "stream",
          "name": "stderr",
          "text": [
            "100%|██████████| 225/225 [00:04<00:00, 56.00it/s, valid_avg_epoch_loss=2.02e+3, epoch=382]\n",
            "100%|██████████| 525/525 [00:24<00:00, 21.18it/s, avg_epoch_loss=1.43e+3, epoch=383]\n"
          ]
        },
        {
          "output_type": "stream",
          "name": "stdout",
          "text": [
            "Adjusting learning rate of group 0 to 1.0000e-05.\n"
          ]
        },
        {
          "output_type": "stream",
          "name": "stderr",
          "text": [
            "100%|██████████| 225/225 [00:03<00:00, 57.78it/s, valid_avg_epoch_loss=1.46e+3, epoch=383]\n",
            "100%|██████████| 525/525 [00:24<00:00, 21.09it/s, avg_epoch_loss=1.6e+3, epoch=384]\n"
          ]
        },
        {
          "output_type": "stream",
          "name": "stdout",
          "text": [
            "Adjusting learning rate of group 0 to 1.0000e-05.\n"
          ]
        },
        {
          "output_type": "stream",
          "name": "stderr",
          "text": [
            "100%|██████████| 225/225 [00:04<00:00, 53.51it/s, valid_avg_epoch_loss=1.47e+3, epoch=384]\n",
            "100%|██████████| 525/525 [00:24<00:00, 21.22it/s, avg_epoch_loss=1.7e+3, epoch=385]\n"
          ]
        },
        {
          "output_type": "stream",
          "name": "stdout",
          "text": [
            "Adjusting learning rate of group 0 to 1.0000e-05.\n"
          ]
        },
        {
          "output_type": "stream",
          "name": "stderr",
          "text": [
            "100%|██████████| 225/225 [00:04<00:00, 50.46it/s, valid_avg_epoch_loss=1.22e+3, epoch=385]\n",
            "100%|██████████| 525/525 [00:24<00:00, 21.43it/s, avg_epoch_loss=1.53e+3, epoch=386]\n"
          ]
        },
        {
          "output_type": "stream",
          "name": "stdout",
          "text": [
            "Adjusting learning rate of group 0 to 1.0000e-05.\n"
          ]
        },
        {
          "output_type": "stream",
          "name": "stderr",
          "text": [
            "100%|██████████| 225/225 [00:04<00:00, 55.15it/s, valid_avg_epoch_loss=1.23e+3, epoch=386]\n",
            "100%|██████████| 525/525 [00:24<00:00, 21.06it/s, avg_epoch_loss=1.39e+3, epoch=387]\n"
          ]
        },
        {
          "output_type": "stream",
          "name": "stdout",
          "text": [
            "Adjusting learning rate of group 0 to 1.0000e-05.\n"
          ]
        },
        {
          "output_type": "stream",
          "name": "stderr",
          "text": [
            "100%|██████████| 225/225 [00:03<00:00, 57.22it/s, valid_avg_epoch_loss=1.38e+3, epoch=387]\n",
            "100%|██████████| 525/525 [00:24<00:00, 21.02it/s, avg_epoch_loss=1.55e+3, epoch=388]\n"
          ]
        },
        {
          "output_type": "stream",
          "name": "stdout",
          "text": [
            "Adjusting learning rate of group 0 to 1.0000e-05.\n"
          ]
        },
        {
          "output_type": "stream",
          "name": "stderr",
          "text": [
            "100%|██████████| 225/225 [00:04<00:00, 55.96it/s, valid_avg_epoch_loss=1.88e+3, epoch=388]\n",
            "100%|██████████| 525/525 [00:24<00:00, 21.08it/s, avg_epoch_loss=1.55e+3, epoch=389]\n"
          ]
        },
        {
          "output_type": "stream",
          "name": "stdout",
          "text": [
            "Adjusting learning rate of group 0 to 1.0000e-05.\n"
          ]
        },
        {
          "output_type": "stream",
          "name": "stderr",
          "text": [
            "100%|██████████| 225/225 [00:04<00:00, 54.33it/s, valid_avg_epoch_loss=1.18e+3, epoch=389]\n",
            "100%|██████████| 525/525 [00:25<00:00, 21.00it/s, avg_epoch_loss=1.64e+3, epoch=390]\n"
          ]
        },
        {
          "output_type": "stream",
          "name": "stdout",
          "text": [
            "Adjusting learning rate of group 0 to 1.0000e-05.\n"
          ]
        },
        {
          "output_type": "stream",
          "name": "stderr",
          "text": [
            "100%|██████████| 225/225 [00:04<00:00, 46.65it/s, valid_avg_epoch_loss=1.49e+3, epoch=390]\n",
            "100%|██████████| 525/525 [00:24<00:00, 21.38it/s, avg_epoch_loss=1.63e+3, epoch=391]\n"
          ]
        },
        {
          "output_type": "stream",
          "name": "stdout",
          "text": [
            "Adjusting learning rate of group 0 to 1.0000e-05.\n"
          ]
        },
        {
          "output_type": "stream",
          "name": "stderr",
          "text": [
            "100%|██████████| 225/225 [00:04<00:00, 49.96it/s, valid_avg_epoch_loss=1.53e+3, epoch=391]\n",
            "100%|██████████| 525/525 [00:24<00:00, 21.05it/s, avg_epoch_loss=1.42e+3, epoch=392]\n"
          ]
        },
        {
          "output_type": "stream",
          "name": "stdout",
          "text": [
            "Adjusting learning rate of group 0 to 1.0000e-05.\n"
          ]
        },
        {
          "output_type": "stream",
          "name": "stderr",
          "text": [
            "100%|██████████| 225/225 [00:04<00:00, 55.24it/s, valid_avg_epoch_loss=1.54e+3, epoch=392]\n",
            "100%|██████████| 525/525 [00:24<00:00, 21.08it/s, avg_epoch_loss=1.61e+3, epoch=393]\n"
          ]
        },
        {
          "output_type": "stream",
          "name": "stdout",
          "text": [
            "Adjusting learning rate of group 0 to 1.0000e-05.\n"
          ]
        },
        {
          "output_type": "stream",
          "name": "stderr",
          "text": [
            "100%|██████████| 225/225 [00:03<00:00, 56.89it/s, valid_avg_epoch_loss=979, epoch=393]\n"
          ]
        },
        {
          "output_type": "stream",
          "name": "stdout",
          "text": [
            "\n",
            "best loss is updated to  978.9178291490343 at 393 \n",
            "\n"
          ]
        },
        {
          "output_type": "stream",
          "name": "stderr",
          "text": [
            "100%|██████████| 525/525 [00:24<00:00, 21.02it/s, avg_epoch_loss=1.4e+3, epoch=394]\n"
          ]
        },
        {
          "output_type": "stream",
          "name": "stdout",
          "text": [
            "Adjusting learning rate of group 0 to 1.0000e-05.\n"
          ]
        },
        {
          "output_type": "stream",
          "name": "stderr",
          "text": [
            "100%|██████████| 225/225 [00:03<00:00, 56.97it/s, valid_avg_epoch_loss=1.77e+3, epoch=394]\n",
            "100%|██████████| 525/525 [00:24<00:00, 21.03it/s, avg_epoch_loss=1.38e+3, epoch=395]\n"
          ]
        },
        {
          "output_type": "stream",
          "name": "stdout",
          "text": [
            "Adjusting learning rate of group 0 to 1.0000e-05.\n"
          ]
        },
        {
          "output_type": "stream",
          "name": "stderr",
          "text": [
            "100%|██████████| 225/225 [00:04<00:00, 49.79it/s, valid_avg_epoch_loss=1.42e+3, epoch=395]\n",
            "100%|██████████| 525/525 [00:24<00:00, 21.14it/s, avg_epoch_loss=1.58e+3, epoch=396]\n"
          ]
        },
        {
          "output_type": "stream",
          "name": "stdout",
          "text": [
            "Adjusting learning rate of group 0 to 1.0000e-05.\n"
          ]
        },
        {
          "output_type": "stream",
          "name": "stderr",
          "text": [
            "100%|██████████| 225/225 [00:04<00:00, 48.40it/s, valid_avg_epoch_loss=1.65e+3, epoch=396]\n",
            "100%|██████████| 525/525 [00:25<00:00, 21.00it/s, avg_epoch_loss=1.31e+3, epoch=397]\n"
          ]
        },
        {
          "output_type": "stream",
          "name": "stdout",
          "text": [
            "Adjusting learning rate of group 0 to 1.0000e-05.\n"
          ]
        },
        {
          "output_type": "stream",
          "name": "stderr",
          "text": [
            "100%|██████████| 225/225 [00:04<00:00, 56.18it/s, valid_avg_epoch_loss=1.73e+3, epoch=397]\n",
            "100%|██████████| 525/525 [00:24<00:00, 21.07it/s, avg_epoch_loss=1.38e+3, epoch=398]\n"
          ]
        },
        {
          "output_type": "stream",
          "name": "stdout",
          "text": [
            "Adjusting learning rate of group 0 to 1.0000e-05.\n"
          ]
        },
        {
          "output_type": "stream",
          "name": "stderr",
          "text": [
            "100%|██████████| 225/225 [00:03<00:00, 56.58it/s, valid_avg_epoch_loss=1.43e+3, epoch=398]\n",
            "100%|██████████| 525/525 [00:24<00:00, 21.13it/s, avg_epoch_loss=1.41e+3, epoch=399]\n"
          ]
        },
        {
          "output_type": "stream",
          "name": "stdout",
          "text": [
            "Adjusting learning rate of group 0 to 1.0000e-05.\n"
          ]
        },
        {
          "output_type": "stream",
          "name": "stderr",
          "text": [
            "100%|██████████| 225/225 [00:04<00:00, 50.92it/s, valid_avg_epoch_loss=1.39e+3, epoch=399]\n"
          ]
        }
      ],
      "source": [
        "import os\n",
        "import torch\n",
        "import numpy as np\n",
        "from w_ecg_den.ddpm import DDPM\n",
        "from w_ecg_den.model import ConditionalModel\n",
        "from w_ecg_den.training import train, evaluate\n",
        "from sklearn.model_selection import train_test_split\n",
        "from w_ecg_den.datapreparation import Data_Preparation\n",
        "from torch.utils.data import DataLoader, Subset, TensorDataset\n",
        "\n",
        "foldername = \"/content/drive/MyDrive/Colab/ISIVC\"\n",
        "print('folder: ', foldername)\n",
        "os.makedirs(foldername, exist_ok=True)\n",
        "\n",
        "device = torch.device('cuda' if torch.cuda.is_available() else 'cpu')\n",
        "config = {\n",
        "    \"train\":{\n",
        "        \"feats\": 32,\n",
        "        \"epochs\": 400,\n",
        "        \"batch_size\": 96 ,\n",
        "        \"lr\": 1.0e-3\n",
        "        },\n",
        "    \"diffusion\":{\n",
        "        \"beta_start\": 0.0001,\n",
        "        \"beta_end\": 0.5,\n",
        "        \"num_steps\": 50,\n",
        "        \"schedule\": \"linear\"\n",
        "        }\n",
        "    }\n",
        "\n",
        "\n",
        "# To enhance reproducibility\n",
        "seed = 1234\n",
        "np.random.seed(seed=seed)\n",
        "torch.manual_seed(seed)\n",
        "torch.cuda.manual_seed(seed)\n",
        "torch.cuda.manual_seed_all(seed)\n",
        "\n",
        "\n",
        "[X_train, y_train, X_test, y_test] = Data_Preparation(DataPath=foldername+'/data/')\n",
        "\n",
        "X_train = torch.FloatTensor(X_train)\n",
        "X_train = X_train.permute(0,2,1)\n",
        "\n",
        "y_train = torch.FloatTensor(y_train)\n",
        "y_train = y_train.permute(0,2,1)\n",
        "\n",
        "X_test = torch.FloatTensor(X_test)\n",
        "X_test = X_test.permute(0,2,1)\n",
        "\n",
        "y_test = torch.FloatTensor(y_test)\n",
        "y_test = y_test.permute(0,2,1)\n",
        "\n",
        "train_val_set = TensorDataset(y_train, X_train)\n",
        "test_set = TensorDataset(y_test, X_test)\n",
        "\n",
        "train_idx, val_idx = train_test_split(list(range(len(train_val_set))),\n",
        "                                      test_size=0.3)\n",
        "train_set = Subset(train_val_set, train_idx)\n",
        "val_set = Subset(train_val_set, val_idx)\n",
        "\n",
        "train_loader = DataLoader(train_set, batch_size=config['train']['batch_size'],\n",
        "                          shuffle=True, drop_last=True, num_workers=0)\n",
        "val_loader = DataLoader(val_set, batch_size=config['train']['batch_size'],\n",
        "                        drop_last=True, num_workers=0)\n",
        "test_loader = DataLoader(test_set, batch_size=50, num_workers=0)\n",
        "\n",
        "base_model = ConditionalModel(config['train']['feats']).to(device)\n",
        "model = DDPM(base_model, config, device)\n",
        "print('training ...')\n",
        "train(model, config['train'], train_loader, device,\n",
        "      valid_loader=val_loader, valid_epoch_interval=1,\n",
        "      foldername=foldername+'/models')"
      ]
    },
    {
      "cell_type": "code",
      "source": [
        "#don't use before final model is determined\n",
        "print('eval test ...')\n",
        "output_path = \"w_ecg_den/checkpoint/bestmodel.pth\"\n",
        "model.load_state_dict(torch.load(output_path))\n",
        "evaluate(model, test_loader, 5, device, foldername=foldername)"
      ],
      "metadata": {
        "id": "nfsdPV_FpNDg",
        "colab": {
          "base_uri": "https://localhost:8080/"
        },
        "outputId": "a2602d54-183e-4d84-93e2-b6477cf001c7"
      },
      "execution_count": null,
      "outputs": [
        {
          "output_type": "stream",
          "name": "stdout",
          "text": [
            "eval test ...\n"
          ]
        },
        {
          "output_type": "stream",
          "name": "stderr",
          "text": [
            "100%|██████████| 267/267 [02:33<00:00,  1.74it/s, ssd_total=4.57, mad_total=0.372, prd_total=43.7, cos_sim_total=0.914]"
          ]
        },
        {
          "output_type": "stream",
          "name": "stdout",
          "text": [
            "\n",
            "ssd_total:  4.568349219614695\n",
            "mad_total:  0.37246104180544265\n",
            "prd_total:  43.678767100294344\n",
            "cos_sim_total:  0.9135621409045214\n"
          ]
        },
        {
          "output_type": "stream",
          "name": "stderr",
          "text": [
            "\n"
          ]
        }
      ]
    },
    {
      "cell_type": "code",
      "source": [
        "import matplotlib.pyplot as plt\n",
        "i = 1000\n",
        "output = model.denoising(X_test[i].unsqueeze(0).to(device))\n",
        "\n",
        "plt.plot(y_test[i].squeeze(0).cpu().detach().numpy(), 'r', label='Clean') # Clean\n",
        "plt.plot(X_test[i].squeeze(0).cpu().detach().numpy(), 'b', label='Noisy') # Noisy\n",
        "plt.plot(output.squeeze(0).squeeze(0).cpu().detach().numpy(), 'g', label='Reconstructed') # Reconstructed\n",
        "plt.legend()"
      ],
      "metadata": {
        "id": "hY49W-q1gtqD",
        "colab": {
          "base_uri": "https://localhost:8080/",
          "height": 447
        },
        "outputId": "3b0a80a1-f6b4-4d2c-9830-f7ac5be7d458"
      },
      "execution_count": null,
      "outputs": [
        {
          "output_type": "execute_result",
          "data": {
            "text/plain": [
              "<matplotlib.legend.Legend at 0x794e3971f970>"
            ]
          },
          "metadata": {},
          "execution_count": 16
        },
        {
          "output_type": "display_data",
          "data": {
            "text/plain": [
              "<Figure size 640x480 with 1 Axes>"
            ],
            "image/png": "[encoded data removed]"
          },
          "metadata": {}
        }
      ]
    }
  ],
  "metadata": {
    "accelerator": "GPU",
    "colab": {
      "provenance": []
    },
    "kernelspec": {
      "display_name": "Python 3",
      "name": "python3"
    },
    "language_info": {
      "name": "python"
    }
  },
  "nbformat": 4,
  "nbformat_minor": 0
}